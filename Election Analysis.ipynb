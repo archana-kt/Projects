{
 "cells": [
  {
   "cell_type": "markdown",
   "id": "fc09c951",
   "metadata": {},
   "source": [
    "# Election Data Analytics Project"
   ]
  },
  {
   "cell_type": "markdown",
   "id": "13c988be",
   "metadata": {},
   "source": [
    "# <font color='blue'> Voter Turnout Analysis"
   ]
  },
  {
   "cell_type": "code",
   "execution_count": 1,
   "id": "fa94ffce",
   "metadata": {},
   "outputs": [],
   "source": [
    "import pandas as pd"
   ]
  },
  {
   "cell_type": "code",
   "execution_count": 2,
   "id": "75cbaec3",
   "metadata": {},
   "outputs": [],
   "source": [
    "data = pd.read_csv('2019 ADMK Lok.csv')"
   ]
  },
  {
   "cell_type": "code",
   "execution_count": 3,
   "id": "e2de946c",
   "metadata": {},
   "outputs": [
    {
     "data": {
      "text/html": [
       "<div>\n",
       "<style scoped>\n",
       "    .dataframe tbody tr th:only-of-type {\n",
       "        vertical-align: middle;\n",
       "    }\n",
       "\n",
       "    .dataframe tbody tr th {\n",
       "        vertical-align: top;\n",
       "    }\n",
       "\n",
       "    .dataframe thead th {\n",
       "        text-align: right;\n",
       "    }\n",
       "</style>\n",
       "<table border=\"1\" class=\"dataframe\">\n",
       "  <thead>\n",
       "    <tr style=\"text-align: right;\">\n",
       "      <th></th>\n",
       "      <th>#</th>\n",
       "      <th>Position</th>\n",
       "      <th>Candidate</th>\n",
       "      <th>PC Name</th>\n",
       "      <th>State</th>\n",
       "      <th>Electors</th>\n",
       "      <th>Votes</th>\n",
       "      <th>Turnout</th>\n",
       "      <th>AIADMK Votes</th>\n",
       "      <th>AIADMK Votes %</th>\n",
       "      <th>ACs</th>\n",
       "    </tr>\n",
       "  </thead>\n",
       "  <tbody>\n",
       "    <tr>\n",
       "      <th>0</th>\n",
       "      <td>1</td>\n",
       "      <td>1</td>\n",
       "      <td>Raveendranath Kumar, P</td>\n",
       "      <td>Theni</td>\n",
       "      <td>Tamil Nadu</td>\n",
       "      <td>1800597</td>\n",
       "      <td>1173489</td>\n",
       "      <td>65.8 %</td>\n",
       "      <td>504813</td>\n",
       "      <td>43.4 %</td>\n",
       "      <td>AC View</td>\n",
       "    </tr>\n",
       "    <tr>\n",
       "      <th>1</th>\n",
       "      <td>2</td>\n",
       "      <td>2</td>\n",
       "      <td>Elumalai V</td>\n",
       "      <td>Arani</td>\n",
       "      <td>Tamil Nadu</td>\n",
       "      <td>1407725</td>\n",
       "      <td>1143907</td>\n",
       "      <td>82.5 %</td>\n",
       "      <td>386954</td>\n",
       "      <td>34.3 %</td>\n",
       "      <td>AC View</td>\n",
       "    </tr>\n",
       "    <tr>\n",
       "      <th>2</th>\n",
       "      <td>3</td>\n",
       "      <td>2</td>\n",
       "      <td>Dr.J.Jayavardhan</td>\n",
       "      <td>Chennai South</td>\n",
       "      <td>Tamil Nadu</td>\n",
       "      <td>1916378</td>\n",
       "      <td>1125857</td>\n",
       "      <td>59.6 %</td>\n",
       "      <td>302649</td>\n",
       "      <td>27.3 %</td>\n",
       "      <td>AC View</td>\n",
       "    </tr>\n",
       "    <tr>\n",
       "      <th>3</th>\n",
       "      <td>4</td>\n",
       "      <td>2</td>\n",
       "      <td>Chandrasekar P</td>\n",
       "      <td>Chidambaram</td>\n",
       "      <td>Tamil Nadu</td>\n",
       "      <td>1459769</td>\n",
       "      <td>1153192</td>\n",
       "      <td>80.1 %</td>\n",
       "      <td>497010</td>\n",
       "      <td>43.7 %</td>\n",
       "      <td>AC View</td>\n",
       "    </tr>\n",
       "    <tr>\n",
       "      <th>4</th>\n",
       "      <td>5</td>\n",
       "      <td>2</td>\n",
       "      <td>Manimaran G</td>\n",
       "      <td>Erode</td>\n",
       "      <td>Tamil Nadu</td>\n",
       "      <td>1427534</td>\n",
       "      <td>1067863</td>\n",
       "      <td>75.8 %</td>\n",
       "      <td>352973</td>\n",
       "      <td>33.5 %</td>\n",
       "      <td>AC View</td>\n",
       "    </tr>\n",
       "    <tr>\n",
       "      <th>5</th>\n",
       "      <td>6</td>\n",
       "      <td>2</td>\n",
       "      <td>Maragatham K</td>\n",
       "      <td>Kancheepuram</td>\n",
       "      <td>Tamil Nadu</td>\n",
       "      <td>1601060</td>\n",
       "      <td>1237612</td>\n",
       "      <td>78.7 %</td>\n",
       "      <td>397372</td>\n",
       "      <td>32.7 %</td>\n",
       "      <td>AC View</td>\n",
       "    </tr>\n",
       "    <tr>\n",
       "      <th>6</th>\n",
       "      <td>7</td>\n",
       "      <td>2</td>\n",
       "      <td>Thambidurai M</td>\n",
       "      <td>Karur</td>\n",
       "      <td>Tamil Nadu</td>\n",
       "      <td>1365804</td>\n",
       "      <td>1103165</td>\n",
       "      <td>81.5 %</td>\n",
       "      <td>275151</td>\n",
       "      <td>25.2 %</td>\n",
       "      <td>AC View</td>\n",
       "    </tr>\n",
       "    <tr>\n",
       "      <th>7</th>\n",
       "      <td>8</td>\n",
       "      <td>2</td>\n",
       "      <td>K.P.Munusamy</td>\n",
       "      <td>Krishnagiri</td>\n",
       "      <td>Tamil Nadu</td>\n",
       "      <td>1482269</td>\n",
       "      <td>1161369</td>\n",
       "      <td>79.7 %</td>\n",
       "      <td>454533</td>\n",
       "      <td>39.8 %</td>\n",
       "      <td>AC View</td>\n",
       "    </tr>\n",
       "    <tr>\n",
       "      <th>8</th>\n",
       "      <td>9</td>\n",
       "      <td>2</td>\n",
       "      <td>Raj Satyen V.V.R</td>\n",
       "      <td>Madurai</td>\n",
       "      <td>Tamil Nadu</td>\n",
       "      <td>1521452</td>\n",
       "      <td>1016026</td>\n",
       "      <td>67.8 %</td>\n",
       "      <td>307680</td>\n",
       "      <td>30.8 %</td>\n",
       "      <td>AC View</td>\n",
       "    </tr>\n",
       "    <tr>\n",
       "      <th>9</th>\n",
       "      <td>10</td>\n",
       "      <td>2</td>\n",
       "      <td>Asaimani. S</td>\n",
       "      <td>Mayiladuthurai</td>\n",
       "      <td>Tamil Nadu</td>\n",
       "      <td>1466813</td>\n",
       "      <td>1097243</td>\n",
       "      <td>75.4 %</td>\n",
       "      <td>337978</td>\n",
       "      <td>31.0 %</td>\n",
       "      <td>AC View</td>\n",
       "    </tr>\n",
       "    <tr>\n",
       "      <th>10</th>\n",
       "      <td>11</td>\n",
       "      <td>2</td>\n",
       "      <td>Saravanan M</td>\n",
       "      <td>Nagapattinam</td>\n",
       "      <td>Tamil Nadu</td>\n",
       "      <td>1292695</td>\n",
       "      <td>1002208</td>\n",
       "      <td>78.3 %</td>\n",
       "      <td>311539</td>\n",
       "      <td>31.4 %</td>\n",
       "      <td>AC View</td>\n",
       "    </tr>\n",
       "    <tr>\n",
       "      <th>11</th>\n",
       "      <td>12</td>\n",
       "      <td>2</td>\n",
       "      <td>Kaliappan P</td>\n",
       "      <td>Namakkal</td>\n",
       "      <td>Tamil Nadu</td>\n",
       "      <td>1383282</td>\n",
       "      <td>1133774</td>\n",
       "      <td>83.1 %</td>\n",
       "      <td>361142</td>\n",
       "      <td>32.3 %</td>\n",
       "      <td>AC View</td>\n",
       "    </tr>\n",
       "    <tr>\n",
       "      <th>12</th>\n",
       "      <td>13</td>\n",
       "      <td>2</td>\n",
       "      <td>Thiyagarajan, M.</td>\n",
       "      <td>Nilgiris</td>\n",
       "      <td>Tamil Nadu</td>\n",
       "      <td>1336480</td>\n",
       "      <td>1010719</td>\n",
       "      <td>77.0 %</td>\n",
       "      <td>342009</td>\n",
       "      <td>34.5 %</td>\n",
       "      <td>AC View</td>\n",
       "    </tr>\n",
       "    <tr>\n",
       "      <th>13</th>\n",
       "      <td>14</td>\n",
       "      <td>2</td>\n",
       "      <td>Sivapathy, N.R</td>\n",
       "      <td>Perambalur</td>\n",
       "      <td>Tamil Nadu</td>\n",
       "      <td>1376502</td>\n",
       "      <td>1102767</td>\n",
       "      <td>80.9 %</td>\n",
       "      <td>280179</td>\n",
       "      <td>25.7 %</td>\n",
       "      <td>AC View</td>\n",
       "    </tr>\n",
       "    <tr>\n",
       "      <th>14</th>\n",
       "      <td>15</td>\n",
       "      <td>2</td>\n",
       "      <td>Mahendran. C</td>\n",
       "      <td>Pollachi</td>\n",
       "      <td>Tamil Nadu</td>\n",
       "      <td>1716498</td>\n",
       "      <td>1081875</td>\n",
       "      <td>63.9 %</td>\n",
       "      <td>378347</td>\n",
       "      <td>35.5 %</td>\n",
       "      <td>AC View</td>\n",
       "    </tr>\n",
       "    <tr>\n",
       "      <th>15</th>\n",
       "      <td>16</td>\n",
       "      <td>2</td>\n",
       "      <td>Saravanan.K.R.S</td>\n",
       "      <td>Salem</td>\n",
       "      <td>Tamil Nadu</td>\n",
       "      <td>1580013</td>\n",
       "      <td>1255459</td>\n",
       "      <td>80.5 %</td>\n",
       "      <td>459376</td>\n",
       "      <td>37.1 %</td>\n",
       "      <td>AC View</td>\n",
       "    </tr>\n",
       "    <tr>\n",
       "      <th>16</th>\n",
       "      <td>17</td>\n",
       "      <td>2</td>\n",
       "      <td>Dr.Krishnasamy.K</td>\n",
       "      <td>Tenkasi</td>\n",
       "      <td>Tamil Nadu</td>\n",
       "      <td>1472742</td>\n",
       "      <td>1065569</td>\n",
       "      <td>73.3 %</td>\n",
       "      <td>355870</td>\n",
       "      <td>33.8 %</td>\n",
       "      <td>AC View</td>\n",
       "    </tr>\n",
       "    <tr>\n",
       "      <th>17</th>\n",
       "      <td>18</td>\n",
       "      <td>2</td>\n",
       "      <td>Dr.P.Venugopal</td>\n",
       "      <td>Thiruvallur</td>\n",
       "      <td>Tamil Nadu</td>\n",
       "      <td>1882738</td>\n",
       "      <td>1408189</td>\n",
       "      <td>75.8 %</td>\n",
       "      <td>410337</td>\n",
       "      <td>29.5 %</td>\n",
       "      <td>AC View</td>\n",
       "    </tr>\n",
       "    <tr>\n",
       "      <th>18</th>\n",
       "      <td>19</td>\n",
       "      <td>2</td>\n",
       "      <td>Paul Manoj Pandian</td>\n",
       "      <td>Tirunelveli</td>\n",
       "      <td>Tamil Nadu</td>\n",
       "      <td>1526692</td>\n",
       "      <td>1039761</td>\n",
       "      <td>68.8 %</td>\n",
       "      <td>337166</td>\n",
       "      <td>32.8 %</td>\n",
       "      <td>AC View</td>\n",
       "    </tr>\n",
       "    <tr>\n",
       "      <th>19</th>\n",
       "      <td>20</td>\n",
       "      <td>2</td>\n",
       "      <td>Anandan, M.S.M.</td>\n",
       "      <td>Tiruppur</td>\n",
       "      <td>Tamil Nadu</td>\n",
       "      <td>1490562</td>\n",
       "      <td>1119584</td>\n",
       "      <td>76.6 %</td>\n",
       "      <td>415357</td>\n",
       "      <td>37.8 %</td>\n",
       "      <td>AC View</td>\n",
       "    </tr>\n",
       "    <tr>\n",
       "      <th>20</th>\n",
       "      <td>21</td>\n",
       "      <td>2</td>\n",
       "      <td>Agri Krishnamurthy S S</td>\n",
       "      <td>Tiruvannamalai</td>\n",
       "      <td>Tamil Nadu</td>\n",
       "      <td>1431287</td>\n",
       "      <td>1151729</td>\n",
       "      <td>81.3 %</td>\n",
       "      <td>362085</td>\n",
       "      <td>31.8 %</td>\n",
       "      <td>AC View</td>\n",
       "    </tr>\n",
       "  </tbody>\n",
       "</table>\n",
       "</div>"
      ],
      "text/plain": [
       "     #  Position               Candidate         PC Name       State  \\\n",
       "0    1         1  Raveendranath Kumar, P           Theni  Tamil Nadu   \n",
       "1    2         2              Elumalai V           Arani  Tamil Nadu   \n",
       "2    3         2        Dr.J.Jayavardhan   Chennai South  Tamil Nadu   \n",
       "3    4         2          Chandrasekar P     Chidambaram  Tamil Nadu   \n",
       "4    5         2             Manimaran G           Erode  Tamil Nadu   \n",
       "5    6         2            Maragatham K    Kancheepuram  Tamil Nadu   \n",
       "6    7         2           Thambidurai M           Karur  Tamil Nadu   \n",
       "7    8         2            K.P.Munusamy     Krishnagiri  Tamil Nadu   \n",
       "8    9         2        Raj Satyen V.V.R         Madurai  Tamil Nadu   \n",
       "9   10         2             Asaimani. S  Mayiladuthurai  Tamil Nadu   \n",
       "10  11         2             Saravanan M    Nagapattinam  Tamil Nadu   \n",
       "11  12         2             Kaliappan P        Namakkal  Tamil Nadu   \n",
       "12  13         2        Thiyagarajan, M.        Nilgiris  Tamil Nadu   \n",
       "13  14         2          Sivapathy, N.R      Perambalur  Tamil Nadu   \n",
       "14  15         2            Mahendran. C        Pollachi  Tamil Nadu   \n",
       "15  16         2         Saravanan.K.R.S           Salem  Tamil Nadu   \n",
       "16  17         2        Dr.Krishnasamy.K         Tenkasi  Tamil Nadu   \n",
       "17  18         2          Dr.P.Venugopal     Thiruvallur  Tamil Nadu   \n",
       "18  19         2      Paul Manoj Pandian     Tirunelveli  Tamil Nadu   \n",
       "19  20         2         Anandan, M.S.M.        Tiruppur  Tamil Nadu   \n",
       "20  21         2  Agri Krishnamurthy S S  Tiruvannamalai  Tamil Nadu   \n",
       "\n",
       "    Electors    Votes Turnout  AIADMK Votes AIADMK Votes %      ACs  \n",
       "0    1800597  1173489  65.8 %        504813         43.4 %  AC View  \n",
       "1    1407725  1143907  82.5 %        386954         34.3 %  AC View  \n",
       "2    1916378  1125857  59.6 %        302649         27.3 %  AC View  \n",
       "3    1459769  1153192  80.1 %        497010         43.7 %  AC View  \n",
       "4    1427534  1067863  75.8 %        352973         33.5 %  AC View  \n",
       "5    1601060  1237612  78.7 %        397372         32.7 %  AC View  \n",
       "6    1365804  1103165  81.5 %        275151         25.2 %  AC View  \n",
       "7    1482269  1161369  79.7 %        454533         39.8 %  AC View  \n",
       "8    1521452  1016026  67.8 %        307680         30.8 %  AC View  \n",
       "9    1466813  1097243  75.4 %        337978         31.0 %  AC View  \n",
       "10   1292695  1002208  78.3 %        311539         31.4 %  AC View  \n",
       "11   1383282  1133774  83.1 %        361142         32.3 %  AC View  \n",
       "12   1336480  1010719  77.0 %        342009         34.5 %  AC View  \n",
       "13   1376502  1102767  80.9 %        280179         25.7 %  AC View  \n",
       "14   1716498  1081875  63.9 %        378347         35.5 %  AC View  \n",
       "15   1580013  1255459  80.5 %        459376         37.1 %  AC View  \n",
       "16   1472742  1065569  73.3 %        355870         33.8 %  AC View  \n",
       "17   1882738  1408189  75.8 %        410337         29.5 %  AC View  \n",
       "18   1526692  1039761  68.8 %        337166         32.8 %  AC View  \n",
       "19   1490562  1119584  76.6 %        415357         37.8 %  AC View  \n",
       "20   1431287  1151729  81.3 %        362085         31.8 %  AC View  "
      ]
     },
     "execution_count": 3,
     "metadata": {},
     "output_type": "execute_result"
    }
   ],
   "source": [
    "data"
   ]
  },
  {
   "cell_type": "code",
   "execution_count": 4,
   "id": "fb2e0592",
   "metadata": {},
   "outputs": [],
   "source": [
    "data1 = pd.read_csv('2019 DMK Lok.csv')"
   ]
  },
  {
   "cell_type": "code",
   "execution_count": 5,
   "id": "fa0b6bec",
   "metadata": {},
   "outputs": [
    {
     "data": {
      "text/html": [
       "<div>\n",
       "<style scoped>\n",
       "    .dataframe tbody tr th:only-of-type {\n",
       "        vertical-align: middle;\n",
       "    }\n",
       "\n",
       "    .dataframe tbody tr th {\n",
       "        vertical-align: top;\n",
       "    }\n",
       "\n",
       "    .dataframe thead th {\n",
       "        text-align: right;\n",
       "    }\n",
       "</style>\n",
       "<table border=\"1\" class=\"dataframe\">\n",
       "  <thead>\n",
       "    <tr style=\"text-align: right;\">\n",
       "      <th></th>\n",
       "      <th>#</th>\n",
       "      <th>Position</th>\n",
       "      <th>Candidate</th>\n",
       "      <th>PC Name</th>\n",
       "      <th>State</th>\n",
       "      <th>Electors</th>\n",
       "      <th>Votes</th>\n",
       "      <th>Turnout</th>\n",
       "      <th>DMK Votes</th>\n",
       "      <th>DMK Votes %</th>\n",
       "      <th>ACs</th>\n",
       "    </tr>\n",
       "  </thead>\n",
       "  <tbody>\n",
       "    <tr>\n",
       "      <th>0</th>\n",
       "      <td>1</td>\n",
       "      <td>1</td>\n",
       "      <td>S. Jagathrakshakan</td>\n",
       "      <td>Arakkonam</td>\n",
       "      <td>Tamil Nadu</td>\n",
       "      <td>1461110</td>\n",
       "      <td>1178060</td>\n",
       "      <td>81.5 %</td>\n",
       "      <td>672190</td>\n",
       "      <td>57.7 %</td>\n",
       "      <td>AC View</td>\n",
       "    </tr>\n",
       "    <tr>\n",
       "      <th>1</th>\n",
       "      <td>2</td>\n",
       "      <td>1</td>\n",
       "      <td>Dayanidhi Maran</td>\n",
       "      <td>Chennai Centra</td>\n",
       "      <td>Tamil Nadu</td>\n",
       "      <td>1316388</td>\n",
       "      <td>785450</td>\n",
       "      <td>60.7 %</td>\n",
       "      <td>448911</td>\n",
       "      <td>58.2 %</td>\n",
       "      <td>AC View</td>\n",
       "    </tr>\n",
       "    <tr>\n",
       "      <th>2</th>\n",
       "      <td>3</td>\n",
       "      <td>1</td>\n",
       "      <td>Dr. Kalanidhi Veeraswamy</td>\n",
       "      <td>Chennai North</td>\n",
       "      <td>Tamil Nadu</td>\n",
       "      <td>1444753</td>\n",
       "      <td>955545</td>\n",
       "      <td>67.2 %</td>\n",
       "      <td>590986</td>\n",
       "      <td>62.9 %</td>\n",
       "      <td>AC View</td>\n",
       "    </tr>\n",
       "    <tr>\n",
       "      <th>3</th>\n",
       "      <td>4</td>\n",
       "      <td>1</td>\n",
       "      <td>T.Sumathy (A) THAMIZHACHI THANGAPANDIAN</td>\n",
       "      <td>Chennai South</td>\n",
       "      <td>Tamil Nadu</td>\n",
       "      <td>1916378</td>\n",
       "      <td>1125857</td>\n",
       "      <td>59.6 %</td>\n",
       "      <td>564872</td>\n",
       "      <td>50.9 %</td>\n",
       "      <td>AC View</td>\n",
       "    </tr>\n",
       "    <tr>\n",
       "      <th>4</th>\n",
       "      <td>5</td>\n",
       "      <td>1</td>\n",
       "      <td>T. R. V .S. Ramesh</td>\n",
       "      <td>Cuddalore</td>\n",
       "      <td>Tamil Nadu</td>\n",
       "      <td>1342320</td>\n",
       "      <td>1043202</td>\n",
       "      <td>78.4 %</td>\n",
       "      <td>522160</td>\n",
       "      <td>50.5 %</td>\n",
       "      <td>AC View</td>\n",
       "    </tr>\n",
       "    <tr>\n",
       "      <th>5</th>\n",
       "      <td>6</td>\n",
       "      <td>1</td>\n",
       "      <td>Dnv Senthilkumar. S.</td>\n",
       "      <td>Dharmapuri</td>\n",
       "      <td>Tamil Nadu</td>\n",
       "      <td>1453257</td>\n",
       "      <td>1223205</td>\n",
       "      <td>85.1 %</td>\n",
       "      <td>574988</td>\n",
       "      <td>47.5 %</td>\n",
       "      <td>AC View</td>\n",
       "    </tr>\n",
       "    <tr>\n",
       "      <th>6</th>\n",
       "      <td>7</td>\n",
       "      <td>1</td>\n",
       "      <td>Velusamy, P.</td>\n",
       "      <td>Dindigul</td>\n",
       "      <td>Tamil Nadu</td>\n",
       "      <td>1518633</td>\n",
       "      <td>1160046</td>\n",
       "      <td>77.3 %</td>\n",
       "      <td>746523</td>\n",
       "      <td>65.2 %</td>\n",
       "      <td>AC View</td>\n",
       "    </tr>\n",
       "    <tr>\n",
       "      <th>7</th>\n",
       "      <td>8</td>\n",
       "      <td>1</td>\n",
       "      <td>Ganeshamurthi A</td>\n",
       "      <td>Erode</td>\n",
       "      <td>Tamil Nadu</td>\n",
       "      <td>1427534</td>\n",
       "      <td>1067863</td>\n",
       "      <td>75.8 %</td>\n",
       "      <td>563591</td>\n",
       "      <td>53.5 %</td>\n",
       "      <td>AC View</td>\n",
       "    </tr>\n",
       "    <tr>\n",
       "      <th>8</th>\n",
       "      <td>9</td>\n",
       "      <td>1</td>\n",
       "      <td>Gautham Sigamani Pon</td>\n",
       "      <td>Kallakurichi</td>\n",
       "      <td>Tamil Nadu</td>\n",
       "      <td>1490339</td>\n",
       "      <td>1204375</td>\n",
       "      <td>81.6 %</td>\n",
       "      <td>721713</td>\n",
       "      <td>60.5 %</td>\n",
       "      <td>AC View</td>\n",
       "    </tr>\n",
       "    <tr>\n",
       "      <th>9</th>\n",
       "      <td>10</td>\n",
       "      <td>1</td>\n",
       "      <td>Selvam.G</td>\n",
       "      <td>Kancheepuram</td>\n",
       "      <td>Tamil Nadu</td>\n",
       "      <td>1601060</td>\n",
       "      <td>1237612</td>\n",
       "      <td>78.7 %</td>\n",
       "      <td>684004</td>\n",
       "      <td>56.3 %</td>\n",
       "      <td>AC View</td>\n",
       "    </tr>\n",
       "    <tr>\n",
       "      <th>10</th>\n",
       "      <td>11</td>\n",
       "      <td>1</td>\n",
       "      <td>Ramalingam. S</td>\n",
       "      <td>Mayiladuthurai</td>\n",
       "      <td>Tamil Nadu</td>\n",
       "      <td>1466813</td>\n",
       "      <td>1097243</td>\n",
       "      <td>75.4 %</td>\n",
       "      <td>599292</td>\n",
       "      <td>55.0 %</td>\n",
       "      <td>AC View</td>\n",
       "    </tr>\n",
       "    <tr>\n",
       "      <th>11</th>\n",
       "      <td>12</td>\n",
       "      <td>1</td>\n",
       "      <td>Chinraj A.K.P</td>\n",
       "      <td>Namakkal</td>\n",
       "      <td>Tamil Nadu</td>\n",
       "      <td>1383282</td>\n",
       "      <td>1133774</td>\n",
       "      <td>83.1 %</td>\n",
       "      <td>626293</td>\n",
       "      <td>56.0 %</td>\n",
       "      <td>AC View</td>\n",
       "    </tr>\n",
       "    <tr>\n",
       "      <th>12</th>\n",
       "      <td>13</td>\n",
       "      <td>1</td>\n",
       "      <td>Raja, A.</td>\n",
       "      <td>Nilgiris</td>\n",
       "      <td>Tamil Nadu</td>\n",
       "      <td>1336480</td>\n",
       "      <td>1010719</td>\n",
       "      <td>77.0 %</td>\n",
       "      <td>547832</td>\n",
       "      <td>55.2 %</td>\n",
       "      <td>AC View</td>\n",
       "    </tr>\n",
       "    <tr>\n",
       "      <th>13</th>\n",
       "      <td>14</td>\n",
       "      <td>1</td>\n",
       "      <td>Dr.Paarivendhar, T. R</td>\n",
       "      <td>Perambalur</td>\n",
       "      <td>Tamil Nadu</td>\n",
       "      <td>1376502</td>\n",
       "      <td>1102767</td>\n",
       "      <td>80.9 %</td>\n",
       "      <td>683697</td>\n",
       "      <td>62.6 %</td>\n",
       "      <td>AC View</td>\n",
       "    </tr>\n",
       "    <tr>\n",
       "      <th>14</th>\n",
       "      <td>15</td>\n",
       "      <td>1</td>\n",
       "      <td>Shanmuga Sundaram. K</td>\n",
       "      <td>Pollachi</td>\n",
       "      <td>Tamil Nadu</td>\n",
       "      <td>1716498</td>\n",
       "      <td>1081875</td>\n",
       "      <td>63.9 %</td>\n",
       "      <td>554230</td>\n",
       "      <td>52.0 %</td>\n",
       "      <td>AC View</td>\n",
       "    </tr>\n",
       "    <tr>\n",
       "      <th>15</th>\n",
       "      <td>16</td>\n",
       "      <td>1</td>\n",
       "      <td>Parthiban.S.R</td>\n",
       "      <td>Salem</td>\n",
       "      <td>Tamil Nadu</td>\n",
       "      <td>1580013</td>\n",
       "      <td>1255459</td>\n",
       "      <td>80.5 %</td>\n",
       "      <td>606302</td>\n",
       "      <td>49.0 %</td>\n",
       "      <td>AC View</td>\n",
       "    </tr>\n",
       "    <tr>\n",
       "      <th>16</th>\n",
       "      <td>17</td>\n",
       "      <td>1</td>\n",
       "      <td>Baalu.T.R.</td>\n",
       "      <td>Sriperumbudur</td>\n",
       "      <td>Tamil Nadu</td>\n",
       "      <td>2176499</td>\n",
       "      <td>1406782</td>\n",
       "      <td>65.7 %</td>\n",
       "      <td>793281</td>\n",
       "      <td>57.3 %</td>\n",
       "      <td>AC View</td>\n",
       "    </tr>\n",
       "    <tr>\n",
       "      <th>17</th>\n",
       "      <td>18</td>\n",
       "      <td>1</td>\n",
       "      <td>Dhanush.M.Kumar</td>\n",
       "      <td>Tenkasi</td>\n",
       "      <td>Tamil Nadu</td>\n",
       "      <td>1472742</td>\n",
       "      <td>1065569</td>\n",
       "      <td>73.3 %</td>\n",
       "      <td>476156</td>\n",
       "      <td>45.3 %</td>\n",
       "      <td>AC View</td>\n",
       "    </tr>\n",
       "    <tr>\n",
       "      <th>18</th>\n",
       "      <td>19</td>\n",
       "      <td>1</td>\n",
       "      <td>Palanimanickam,s.S.</td>\n",
       "      <td>Thanjavur</td>\n",
       "      <td>Tamil Nadu</td>\n",
       "      <td>1443417</td>\n",
       "      <td>1059223</td>\n",
       "      <td>74.4 %</td>\n",
       "      <td>588978</td>\n",
       "      <td>56.4 %</td>\n",
       "      <td>AC View</td>\n",
       "    </tr>\n",
       "    <tr>\n",
       "      <th>19</th>\n",
       "      <td>20</td>\n",
       "      <td>1</td>\n",
       "      <td>Kanimozhi Karunanidhi</td>\n",
       "      <td>Thoothukkudi</td>\n",
       "      <td>Tamil Nadu</td>\n",
       "      <td>1402826</td>\n",
       "      <td>991263</td>\n",
       "      <td>71.3 %</td>\n",
       "      <td>563143</td>\n",
       "      <td>57.3 %</td>\n",
       "      <td>AC View</td>\n",
       "    </tr>\n",
       "    <tr>\n",
       "      <th>20</th>\n",
       "      <td>21</td>\n",
       "      <td>1</td>\n",
       "      <td>Gnanathiraviam S</td>\n",
       "      <td>Tirunelveli</td>\n",
       "      <td>Tamil Nadu</td>\n",
       "      <td>1526692</td>\n",
       "      <td>1039761</td>\n",
       "      <td>68.8 %</td>\n",
       "      <td>522623</td>\n",
       "      <td>50.8 %</td>\n",
       "      <td>AC View</td>\n",
       "    </tr>\n",
       "    <tr>\n",
       "      <th>21</th>\n",
       "      <td>22</td>\n",
       "      <td>1</td>\n",
       "      <td>Annadurai C N</td>\n",
       "      <td>Tiruvannamalai</td>\n",
       "      <td>Tamil Nadu</td>\n",
       "      <td>1431287</td>\n",
       "      <td>1151729</td>\n",
       "      <td>81.3 %</td>\n",
       "      <td>666272</td>\n",
       "      <td>58.5 %</td>\n",
       "      <td>AC View</td>\n",
       "    </tr>\n",
       "    <tr>\n",
       "      <th>22</th>\n",
       "      <td>23</td>\n",
       "      <td>1</td>\n",
       "      <td>Ravikumar D</td>\n",
       "      <td>Viluppuram</td>\n",
       "      <td>Tamil Nadu</td>\n",
       "      <td>1400389</td>\n",
       "      <td>1135540</td>\n",
       "      <td>81.9 %</td>\n",
       "      <td>559585</td>\n",
       "      <td>49.8 %</td>\n",
       "      <td>AC View</td>\n",
       "    </tr>\n",
       "  </tbody>\n",
       "</table>\n",
       "</div>"
      ],
      "text/plain": [
       "     #  Position                                Candidate         PC Name  \\\n",
       "0    1         1                       S. Jagathrakshakan       Arakkonam   \n",
       "1    2         1                          Dayanidhi Maran  Chennai Centra   \n",
       "2    3         1                 Dr. Kalanidhi Veeraswamy   Chennai North   \n",
       "3    4         1  T.Sumathy (A) THAMIZHACHI THANGAPANDIAN   Chennai South   \n",
       "4    5         1                       T. R. V .S. Ramesh       Cuddalore   \n",
       "5    6         1                     Dnv Senthilkumar. S.      Dharmapuri   \n",
       "6    7         1                             Velusamy, P.        Dindigul   \n",
       "7    8         1                          Ganeshamurthi A           Erode   \n",
       "8    9         1                     Gautham Sigamani Pon    Kallakurichi   \n",
       "9   10         1                                 Selvam.G    Kancheepuram   \n",
       "10  11         1                            Ramalingam. S  Mayiladuthurai   \n",
       "11  12         1                            Chinraj A.K.P        Namakkal   \n",
       "12  13         1                                 Raja, A.        Nilgiris   \n",
       "13  14         1                    Dr.Paarivendhar, T. R      Perambalur   \n",
       "14  15         1                     Shanmuga Sundaram. K        Pollachi   \n",
       "15  16         1                            Parthiban.S.R           Salem   \n",
       "16  17         1                               Baalu.T.R.   Sriperumbudur   \n",
       "17  18         1                          Dhanush.M.Kumar         Tenkasi   \n",
       "18  19         1                      Palanimanickam,s.S.       Thanjavur   \n",
       "19  20         1                    Kanimozhi Karunanidhi    Thoothukkudi   \n",
       "20  21         1                         Gnanathiraviam S     Tirunelveli   \n",
       "21  22         1                            Annadurai C N  Tiruvannamalai   \n",
       "22  23         1                              Ravikumar D      Viluppuram   \n",
       "\n",
       "         State  Electors    Votes Turnout  DMK Votes DMK Votes %      ACs  \n",
       "0   Tamil Nadu   1461110  1178060  81.5 %     672190      57.7 %  AC View  \n",
       "1   Tamil Nadu   1316388   785450  60.7 %     448911      58.2 %  AC View  \n",
       "2   Tamil Nadu   1444753   955545  67.2 %     590986      62.9 %  AC View  \n",
       "3   Tamil Nadu   1916378  1125857  59.6 %     564872      50.9 %  AC View  \n",
       "4   Tamil Nadu   1342320  1043202  78.4 %     522160      50.5 %  AC View  \n",
       "5   Tamil Nadu   1453257  1223205  85.1 %     574988      47.5 %  AC View  \n",
       "6   Tamil Nadu   1518633  1160046  77.3 %     746523      65.2 %  AC View  \n",
       "7   Tamil Nadu   1427534  1067863  75.8 %     563591      53.5 %  AC View  \n",
       "8   Tamil Nadu   1490339  1204375  81.6 %     721713      60.5 %  AC View  \n",
       "9   Tamil Nadu   1601060  1237612  78.7 %     684004      56.3 %  AC View  \n",
       "10  Tamil Nadu   1466813  1097243  75.4 %     599292      55.0 %  AC View  \n",
       "11  Tamil Nadu   1383282  1133774  83.1 %     626293      56.0 %  AC View  \n",
       "12  Tamil Nadu   1336480  1010719  77.0 %     547832      55.2 %  AC View  \n",
       "13  Tamil Nadu   1376502  1102767  80.9 %     683697      62.6 %  AC View  \n",
       "14  Tamil Nadu   1716498  1081875  63.9 %     554230      52.0 %  AC View  \n",
       "15  Tamil Nadu   1580013  1255459  80.5 %     606302      49.0 %  AC View  \n",
       "16  Tamil Nadu   2176499  1406782  65.7 %     793281      57.3 %  AC View  \n",
       "17  Tamil Nadu   1472742  1065569  73.3 %     476156      45.3 %  AC View  \n",
       "18  Tamil Nadu   1443417  1059223  74.4 %     588978      56.4 %  AC View  \n",
       "19  Tamil Nadu   1402826   991263  71.3 %     563143      57.3 %  AC View  \n",
       "20  Tamil Nadu   1526692  1039761  68.8 %     522623      50.8 %  AC View  \n",
       "21  Tamil Nadu   1431287  1151729  81.3 %     666272      58.5 %  AC View  \n",
       "22  Tamil Nadu   1400389  1135540  81.9 %     559585      49.8 %  AC View  "
      ]
     },
     "execution_count": 5,
     "metadata": {},
     "output_type": "execute_result"
    }
   ],
   "source": [
    "data1"
   ]
  },
  {
   "cell_type": "code",
   "execution_count": 6,
   "id": "20c4e850",
   "metadata": {},
   "outputs": [],
   "source": [
    "a = data.columns"
   ]
  },
  {
   "cell_type": "code",
   "execution_count": 7,
   "id": "4a489c3c",
   "metadata": {},
   "outputs": [
    {
     "data": {
      "text/plain": [
       "Index(['#', 'Position', 'Candidate', 'PC Name', 'State', 'Electors', 'Votes',\n",
       "       'Turnout', 'AIADMK Votes', 'AIADMK Votes %', 'ACs'],\n",
       "      dtype='object')"
      ]
     },
     "execution_count": 7,
     "metadata": {},
     "output_type": "execute_result"
    }
   ],
   "source": [
    "a"
   ]
  },
  {
   "cell_type": "code",
   "execution_count": 8,
   "id": "38ca5462",
   "metadata": {},
   "outputs": [],
   "source": [
    "b = []"
   ]
  },
  {
   "cell_type": "code",
   "execution_count": 9,
   "id": "de51dd45",
   "metadata": {},
   "outputs": [],
   "source": [
    "for i in a:\n",
    "    b.append(i)"
   ]
  },
  {
   "cell_type": "code",
   "execution_count": 10,
   "id": "9ed7c459",
   "metadata": {},
   "outputs": [
    {
     "data": {
      "text/plain": [
       "['#',\n",
       " 'Position',\n",
       " 'Candidate',\n",
       " 'PC Name',\n",
       " 'State',\n",
       " 'Electors',\n",
       " 'Votes',\n",
       " 'Turnout',\n",
       " 'AIADMK Votes',\n",
       " 'AIADMK Votes %',\n",
       " 'ACs']"
      ]
     },
     "execution_count": 10,
     "metadata": {},
     "output_type": "execute_result"
    }
   ],
   "source": [
    "b"
   ]
  },
  {
   "cell_type": "code",
   "execution_count": 11,
   "id": "84ee6233",
   "metadata": {},
   "outputs": [],
   "source": [
    "data.columns = b"
   ]
  },
  {
   "cell_type": "code",
   "execution_count": 12,
   "id": "f74b8fd6",
   "metadata": {},
   "outputs": [
    {
     "data": {
      "text/html": [
       "<div>\n",
       "<style scoped>\n",
       "    .dataframe tbody tr th:only-of-type {\n",
       "        vertical-align: middle;\n",
       "    }\n",
       "\n",
       "    .dataframe tbody tr th {\n",
       "        vertical-align: top;\n",
       "    }\n",
       "\n",
       "    .dataframe thead th {\n",
       "        text-align: right;\n",
       "    }\n",
       "</style>\n",
       "<table border=\"1\" class=\"dataframe\">\n",
       "  <thead>\n",
       "    <tr style=\"text-align: right;\">\n",
       "      <th></th>\n",
       "      <th>#</th>\n",
       "      <th>Position</th>\n",
       "      <th>Candidate</th>\n",
       "      <th>PC Name</th>\n",
       "      <th>State</th>\n",
       "      <th>Electors</th>\n",
       "      <th>Votes</th>\n",
       "      <th>Turnout</th>\n",
       "      <th>AIADMK Votes</th>\n",
       "      <th>AIADMK Votes %</th>\n",
       "      <th>ACs</th>\n",
       "    </tr>\n",
       "  </thead>\n",
       "  <tbody>\n",
       "    <tr>\n",
       "      <th>0</th>\n",
       "      <td>1</td>\n",
       "      <td>1</td>\n",
       "      <td>Raveendranath Kumar, P</td>\n",
       "      <td>Theni</td>\n",
       "      <td>Tamil Nadu</td>\n",
       "      <td>1800597</td>\n",
       "      <td>1173489</td>\n",
       "      <td>65.8 %</td>\n",
       "      <td>504813</td>\n",
       "      <td>43.4 %</td>\n",
       "      <td>AC View</td>\n",
       "    </tr>\n",
       "    <tr>\n",
       "      <th>1</th>\n",
       "      <td>2</td>\n",
       "      <td>2</td>\n",
       "      <td>Elumalai V</td>\n",
       "      <td>Arani</td>\n",
       "      <td>Tamil Nadu</td>\n",
       "      <td>1407725</td>\n",
       "      <td>1143907</td>\n",
       "      <td>82.5 %</td>\n",
       "      <td>386954</td>\n",
       "      <td>34.3 %</td>\n",
       "      <td>AC View</td>\n",
       "    </tr>\n",
       "    <tr>\n",
       "      <th>2</th>\n",
       "      <td>3</td>\n",
       "      <td>2</td>\n",
       "      <td>Dr.J.Jayavardhan</td>\n",
       "      <td>Chennai South</td>\n",
       "      <td>Tamil Nadu</td>\n",
       "      <td>1916378</td>\n",
       "      <td>1125857</td>\n",
       "      <td>59.6 %</td>\n",
       "      <td>302649</td>\n",
       "      <td>27.3 %</td>\n",
       "      <td>AC View</td>\n",
       "    </tr>\n",
       "    <tr>\n",
       "      <th>3</th>\n",
       "      <td>4</td>\n",
       "      <td>2</td>\n",
       "      <td>Chandrasekar P</td>\n",
       "      <td>Chidambaram</td>\n",
       "      <td>Tamil Nadu</td>\n",
       "      <td>1459769</td>\n",
       "      <td>1153192</td>\n",
       "      <td>80.1 %</td>\n",
       "      <td>497010</td>\n",
       "      <td>43.7 %</td>\n",
       "      <td>AC View</td>\n",
       "    </tr>\n",
       "    <tr>\n",
       "      <th>4</th>\n",
       "      <td>5</td>\n",
       "      <td>2</td>\n",
       "      <td>Manimaran G</td>\n",
       "      <td>Erode</td>\n",
       "      <td>Tamil Nadu</td>\n",
       "      <td>1427534</td>\n",
       "      <td>1067863</td>\n",
       "      <td>75.8 %</td>\n",
       "      <td>352973</td>\n",
       "      <td>33.5 %</td>\n",
       "      <td>AC View</td>\n",
       "    </tr>\n",
       "    <tr>\n",
       "      <th>5</th>\n",
       "      <td>6</td>\n",
       "      <td>2</td>\n",
       "      <td>Maragatham K</td>\n",
       "      <td>Kancheepuram</td>\n",
       "      <td>Tamil Nadu</td>\n",
       "      <td>1601060</td>\n",
       "      <td>1237612</td>\n",
       "      <td>78.7 %</td>\n",
       "      <td>397372</td>\n",
       "      <td>32.7 %</td>\n",
       "      <td>AC View</td>\n",
       "    </tr>\n",
       "    <tr>\n",
       "      <th>6</th>\n",
       "      <td>7</td>\n",
       "      <td>2</td>\n",
       "      <td>Thambidurai M</td>\n",
       "      <td>Karur</td>\n",
       "      <td>Tamil Nadu</td>\n",
       "      <td>1365804</td>\n",
       "      <td>1103165</td>\n",
       "      <td>81.5 %</td>\n",
       "      <td>275151</td>\n",
       "      <td>25.2 %</td>\n",
       "      <td>AC View</td>\n",
       "    </tr>\n",
       "    <tr>\n",
       "      <th>7</th>\n",
       "      <td>8</td>\n",
       "      <td>2</td>\n",
       "      <td>K.P.Munusamy</td>\n",
       "      <td>Krishnagiri</td>\n",
       "      <td>Tamil Nadu</td>\n",
       "      <td>1482269</td>\n",
       "      <td>1161369</td>\n",
       "      <td>79.7 %</td>\n",
       "      <td>454533</td>\n",
       "      <td>39.8 %</td>\n",
       "      <td>AC View</td>\n",
       "    </tr>\n",
       "    <tr>\n",
       "      <th>8</th>\n",
       "      <td>9</td>\n",
       "      <td>2</td>\n",
       "      <td>Raj Satyen V.V.R</td>\n",
       "      <td>Madurai</td>\n",
       "      <td>Tamil Nadu</td>\n",
       "      <td>1521452</td>\n",
       "      <td>1016026</td>\n",
       "      <td>67.8 %</td>\n",
       "      <td>307680</td>\n",
       "      <td>30.8 %</td>\n",
       "      <td>AC View</td>\n",
       "    </tr>\n",
       "    <tr>\n",
       "      <th>9</th>\n",
       "      <td>10</td>\n",
       "      <td>2</td>\n",
       "      <td>Asaimani. S</td>\n",
       "      <td>Mayiladuthurai</td>\n",
       "      <td>Tamil Nadu</td>\n",
       "      <td>1466813</td>\n",
       "      <td>1097243</td>\n",
       "      <td>75.4 %</td>\n",
       "      <td>337978</td>\n",
       "      <td>31.0 %</td>\n",
       "      <td>AC View</td>\n",
       "    </tr>\n",
       "    <tr>\n",
       "      <th>10</th>\n",
       "      <td>11</td>\n",
       "      <td>2</td>\n",
       "      <td>Saravanan M</td>\n",
       "      <td>Nagapattinam</td>\n",
       "      <td>Tamil Nadu</td>\n",
       "      <td>1292695</td>\n",
       "      <td>1002208</td>\n",
       "      <td>78.3 %</td>\n",
       "      <td>311539</td>\n",
       "      <td>31.4 %</td>\n",
       "      <td>AC View</td>\n",
       "    </tr>\n",
       "    <tr>\n",
       "      <th>11</th>\n",
       "      <td>12</td>\n",
       "      <td>2</td>\n",
       "      <td>Kaliappan P</td>\n",
       "      <td>Namakkal</td>\n",
       "      <td>Tamil Nadu</td>\n",
       "      <td>1383282</td>\n",
       "      <td>1133774</td>\n",
       "      <td>83.1 %</td>\n",
       "      <td>361142</td>\n",
       "      <td>32.3 %</td>\n",
       "      <td>AC View</td>\n",
       "    </tr>\n",
       "    <tr>\n",
       "      <th>12</th>\n",
       "      <td>13</td>\n",
       "      <td>2</td>\n",
       "      <td>Thiyagarajan, M.</td>\n",
       "      <td>Nilgiris</td>\n",
       "      <td>Tamil Nadu</td>\n",
       "      <td>1336480</td>\n",
       "      <td>1010719</td>\n",
       "      <td>77.0 %</td>\n",
       "      <td>342009</td>\n",
       "      <td>34.5 %</td>\n",
       "      <td>AC View</td>\n",
       "    </tr>\n",
       "    <tr>\n",
       "      <th>13</th>\n",
       "      <td>14</td>\n",
       "      <td>2</td>\n",
       "      <td>Sivapathy, N.R</td>\n",
       "      <td>Perambalur</td>\n",
       "      <td>Tamil Nadu</td>\n",
       "      <td>1376502</td>\n",
       "      <td>1102767</td>\n",
       "      <td>80.9 %</td>\n",
       "      <td>280179</td>\n",
       "      <td>25.7 %</td>\n",
       "      <td>AC View</td>\n",
       "    </tr>\n",
       "    <tr>\n",
       "      <th>14</th>\n",
       "      <td>15</td>\n",
       "      <td>2</td>\n",
       "      <td>Mahendran. C</td>\n",
       "      <td>Pollachi</td>\n",
       "      <td>Tamil Nadu</td>\n",
       "      <td>1716498</td>\n",
       "      <td>1081875</td>\n",
       "      <td>63.9 %</td>\n",
       "      <td>378347</td>\n",
       "      <td>35.5 %</td>\n",
       "      <td>AC View</td>\n",
       "    </tr>\n",
       "    <tr>\n",
       "      <th>15</th>\n",
       "      <td>16</td>\n",
       "      <td>2</td>\n",
       "      <td>Saravanan.K.R.S</td>\n",
       "      <td>Salem</td>\n",
       "      <td>Tamil Nadu</td>\n",
       "      <td>1580013</td>\n",
       "      <td>1255459</td>\n",
       "      <td>80.5 %</td>\n",
       "      <td>459376</td>\n",
       "      <td>37.1 %</td>\n",
       "      <td>AC View</td>\n",
       "    </tr>\n",
       "    <tr>\n",
       "      <th>16</th>\n",
       "      <td>17</td>\n",
       "      <td>2</td>\n",
       "      <td>Dr.Krishnasamy.K</td>\n",
       "      <td>Tenkasi</td>\n",
       "      <td>Tamil Nadu</td>\n",
       "      <td>1472742</td>\n",
       "      <td>1065569</td>\n",
       "      <td>73.3 %</td>\n",
       "      <td>355870</td>\n",
       "      <td>33.8 %</td>\n",
       "      <td>AC View</td>\n",
       "    </tr>\n",
       "    <tr>\n",
       "      <th>17</th>\n",
       "      <td>18</td>\n",
       "      <td>2</td>\n",
       "      <td>Dr.P.Venugopal</td>\n",
       "      <td>Thiruvallur</td>\n",
       "      <td>Tamil Nadu</td>\n",
       "      <td>1882738</td>\n",
       "      <td>1408189</td>\n",
       "      <td>75.8 %</td>\n",
       "      <td>410337</td>\n",
       "      <td>29.5 %</td>\n",
       "      <td>AC View</td>\n",
       "    </tr>\n",
       "    <tr>\n",
       "      <th>18</th>\n",
       "      <td>19</td>\n",
       "      <td>2</td>\n",
       "      <td>Paul Manoj Pandian</td>\n",
       "      <td>Tirunelveli</td>\n",
       "      <td>Tamil Nadu</td>\n",
       "      <td>1526692</td>\n",
       "      <td>1039761</td>\n",
       "      <td>68.8 %</td>\n",
       "      <td>337166</td>\n",
       "      <td>32.8 %</td>\n",
       "      <td>AC View</td>\n",
       "    </tr>\n",
       "    <tr>\n",
       "      <th>19</th>\n",
       "      <td>20</td>\n",
       "      <td>2</td>\n",
       "      <td>Anandan, M.S.M.</td>\n",
       "      <td>Tiruppur</td>\n",
       "      <td>Tamil Nadu</td>\n",
       "      <td>1490562</td>\n",
       "      <td>1119584</td>\n",
       "      <td>76.6 %</td>\n",
       "      <td>415357</td>\n",
       "      <td>37.8 %</td>\n",
       "      <td>AC View</td>\n",
       "    </tr>\n",
       "    <tr>\n",
       "      <th>20</th>\n",
       "      <td>21</td>\n",
       "      <td>2</td>\n",
       "      <td>Agri Krishnamurthy S S</td>\n",
       "      <td>Tiruvannamalai</td>\n",
       "      <td>Tamil Nadu</td>\n",
       "      <td>1431287</td>\n",
       "      <td>1151729</td>\n",
       "      <td>81.3 %</td>\n",
       "      <td>362085</td>\n",
       "      <td>31.8 %</td>\n",
       "      <td>AC View</td>\n",
       "    </tr>\n",
       "  </tbody>\n",
       "</table>\n",
       "</div>"
      ],
      "text/plain": [
       "     #  Position               Candidate         PC Name       State  \\\n",
       "0    1         1  Raveendranath Kumar, P           Theni  Tamil Nadu   \n",
       "1    2         2              Elumalai V           Arani  Tamil Nadu   \n",
       "2    3         2        Dr.J.Jayavardhan   Chennai South  Tamil Nadu   \n",
       "3    4         2          Chandrasekar P     Chidambaram  Tamil Nadu   \n",
       "4    5         2             Manimaran G           Erode  Tamil Nadu   \n",
       "5    6         2            Maragatham K    Kancheepuram  Tamil Nadu   \n",
       "6    7         2           Thambidurai M           Karur  Tamil Nadu   \n",
       "7    8         2            K.P.Munusamy     Krishnagiri  Tamil Nadu   \n",
       "8    9         2        Raj Satyen V.V.R         Madurai  Tamil Nadu   \n",
       "9   10         2             Asaimani. S  Mayiladuthurai  Tamil Nadu   \n",
       "10  11         2             Saravanan M    Nagapattinam  Tamil Nadu   \n",
       "11  12         2             Kaliappan P        Namakkal  Tamil Nadu   \n",
       "12  13         2        Thiyagarajan, M.        Nilgiris  Tamil Nadu   \n",
       "13  14         2          Sivapathy, N.R      Perambalur  Tamil Nadu   \n",
       "14  15         2            Mahendran. C        Pollachi  Tamil Nadu   \n",
       "15  16         2         Saravanan.K.R.S           Salem  Tamil Nadu   \n",
       "16  17         2        Dr.Krishnasamy.K         Tenkasi  Tamil Nadu   \n",
       "17  18         2          Dr.P.Venugopal     Thiruvallur  Tamil Nadu   \n",
       "18  19         2      Paul Manoj Pandian     Tirunelveli  Tamil Nadu   \n",
       "19  20         2         Anandan, M.S.M.        Tiruppur  Tamil Nadu   \n",
       "20  21         2  Agri Krishnamurthy S S  Tiruvannamalai  Tamil Nadu   \n",
       "\n",
       "    Electors    Votes Turnout  AIADMK Votes AIADMK Votes %      ACs  \n",
       "0    1800597  1173489  65.8 %        504813         43.4 %  AC View  \n",
       "1    1407725  1143907  82.5 %        386954         34.3 %  AC View  \n",
       "2    1916378  1125857  59.6 %        302649         27.3 %  AC View  \n",
       "3    1459769  1153192  80.1 %        497010         43.7 %  AC View  \n",
       "4    1427534  1067863  75.8 %        352973         33.5 %  AC View  \n",
       "5    1601060  1237612  78.7 %        397372         32.7 %  AC View  \n",
       "6    1365804  1103165  81.5 %        275151         25.2 %  AC View  \n",
       "7    1482269  1161369  79.7 %        454533         39.8 %  AC View  \n",
       "8    1521452  1016026  67.8 %        307680         30.8 %  AC View  \n",
       "9    1466813  1097243  75.4 %        337978         31.0 %  AC View  \n",
       "10   1292695  1002208  78.3 %        311539         31.4 %  AC View  \n",
       "11   1383282  1133774  83.1 %        361142         32.3 %  AC View  \n",
       "12   1336480  1010719  77.0 %        342009         34.5 %  AC View  \n",
       "13   1376502  1102767  80.9 %        280179         25.7 %  AC View  \n",
       "14   1716498  1081875  63.9 %        378347         35.5 %  AC View  \n",
       "15   1580013  1255459  80.5 %        459376         37.1 %  AC View  \n",
       "16   1472742  1065569  73.3 %        355870         33.8 %  AC View  \n",
       "17   1882738  1408189  75.8 %        410337         29.5 %  AC View  \n",
       "18   1526692  1039761  68.8 %        337166         32.8 %  AC View  \n",
       "19   1490562  1119584  76.6 %        415357         37.8 %  AC View  \n",
       "20   1431287  1151729  81.3 %        362085         31.8 %  AC View  "
      ]
     },
     "execution_count": 12,
     "metadata": {},
     "output_type": "execute_result"
    }
   ],
   "source": [
    "data"
   ]
  },
  {
   "cell_type": "code",
   "execution_count": 13,
   "id": "4b98edb0",
   "metadata": {},
   "outputs": [
    {
     "data": {
      "text/html": [
       "<div>\n",
       "<style scoped>\n",
       "    .dataframe tbody tr th:only-of-type {\n",
       "        vertical-align: middle;\n",
       "    }\n",
       "\n",
       "    .dataframe tbody tr th {\n",
       "        vertical-align: top;\n",
       "    }\n",
       "\n",
       "    .dataframe thead th {\n",
       "        text-align: right;\n",
       "    }\n",
       "</style>\n",
       "<table border=\"1\" class=\"dataframe\">\n",
       "  <thead>\n",
       "    <tr style=\"text-align: right;\">\n",
       "      <th></th>\n",
       "      <th>Position</th>\n",
       "      <th>Candidate</th>\n",
       "      <th>PC Name</th>\n",
       "      <th>State</th>\n",
       "      <th>Electors</th>\n",
       "      <th>Votes</th>\n",
       "      <th>Turnout</th>\n",
       "      <th>AIADMK Votes</th>\n",
       "      <th>AIADMK Votes %</th>\n",
       "      <th>ACs</th>\n",
       "    </tr>\n",
       "    <tr>\n",
       "      <th>#</th>\n",
       "      <th></th>\n",
       "      <th></th>\n",
       "      <th></th>\n",
       "      <th></th>\n",
       "      <th></th>\n",
       "      <th></th>\n",
       "      <th></th>\n",
       "      <th></th>\n",
       "      <th></th>\n",
       "      <th></th>\n",
       "    </tr>\n",
       "  </thead>\n",
       "  <tbody>\n",
       "    <tr>\n",
       "      <th>1</th>\n",
       "      <td>1</td>\n",
       "      <td>Raveendranath Kumar, P</td>\n",
       "      <td>Theni</td>\n",
       "      <td>Tamil Nadu</td>\n",
       "      <td>1800597</td>\n",
       "      <td>1173489</td>\n",
       "      <td>65.8 %</td>\n",
       "      <td>504813</td>\n",
       "      <td>43.4 %</td>\n",
       "      <td>AC View</td>\n",
       "    </tr>\n",
       "    <tr>\n",
       "      <th>2</th>\n",
       "      <td>2</td>\n",
       "      <td>Elumalai V</td>\n",
       "      <td>Arani</td>\n",
       "      <td>Tamil Nadu</td>\n",
       "      <td>1407725</td>\n",
       "      <td>1143907</td>\n",
       "      <td>82.5 %</td>\n",
       "      <td>386954</td>\n",
       "      <td>34.3 %</td>\n",
       "      <td>AC View</td>\n",
       "    </tr>\n",
       "    <tr>\n",
       "      <th>3</th>\n",
       "      <td>2</td>\n",
       "      <td>Dr.J.Jayavardhan</td>\n",
       "      <td>Chennai South</td>\n",
       "      <td>Tamil Nadu</td>\n",
       "      <td>1916378</td>\n",
       "      <td>1125857</td>\n",
       "      <td>59.6 %</td>\n",
       "      <td>302649</td>\n",
       "      <td>27.3 %</td>\n",
       "      <td>AC View</td>\n",
       "    </tr>\n",
       "    <tr>\n",
       "      <th>4</th>\n",
       "      <td>2</td>\n",
       "      <td>Chandrasekar P</td>\n",
       "      <td>Chidambaram</td>\n",
       "      <td>Tamil Nadu</td>\n",
       "      <td>1459769</td>\n",
       "      <td>1153192</td>\n",
       "      <td>80.1 %</td>\n",
       "      <td>497010</td>\n",
       "      <td>43.7 %</td>\n",
       "      <td>AC View</td>\n",
       "    </tr>\n",
       "    <tr>\n",
       "      <th>5</th>\n",
       "      <td>2</td>\n",
       "      <td>Manimaran G</td>\n",
       "      <td>Erode</td>\n",
       "      <td>Tamil Nadu</td>\n",
       "      <td>1427534</td>\n",
       "      <td>1067863</td>\n",
       "      <td>75.8 %</td>\n",
       "      <td>352973</td>\n",
       "      <td>33.5 %</td>\n",
       "      <td>AC View</td>\n",
       "    </tr>\n",
       "    <tr>\n",
       "      <th>6</th>\n",
       "      <td>2</td>\n",
       "      <td>Maragatham K</td>\n",
       "      <td>Kancheepuram</td>\n",
       "      <td>Tamil Nadu</td>\n",
       "      <td>1601060</td>\n",
       "      <td>1237612</td>\n",
       "      <td>78.7 %</td>\n",
       "      <td>397372</td>\n",
       "      <td>32.7 %</td>\n",
       "      <td>AC View</td>\n",
       "    </tr>\n",
       "    <tr>\n",
       "      <th>7</th>\n",
       "      <td>2</td>\n",
       "      <td>Thambidurai M</td>\n",
       "      <td>Karur</td>\n",
       "      <td>Tamil Nadu</td>\n",
       "      <td>1365804</td>\n",
       "      <td>1103165</td>\n",
       "      <td>81.5 %</td>\n",
       "      <td>275151</td>\n",
       "      <td>25.2 %</td>\n",
       "      <td>AC View</td>\n",
       "    </tr>\n",
       "    <tr>\n",
       "      <th>8</th>\n",
       "      <td>2</td>\n",
       "      <td>K.P.Munusamy</td>\n",
       "      <td>Krishnagiri</td>\n",
       "      <td>Tamil Nadu</td>\n",
       "      <td>1482269</td>\n",
       "      <td>1161369</td>\n",
       "      <td>79.7 %</td>\n",
       "      <td>454533</td>\n",
       "      <td>39.8 %</td>\n",
       "      <td>AC View</td>\n",
       "    </tr>\n",
       "    <tr>\n",
       "      <th>9</th>\n",
       "      <td>2</td>\n",
       "      <td>Raj Satyen V.V.R</td>\n",
       "      <td>Madurai</td>\n",
       "      <td>Tamil Nadu</td>\n",
       "      <td>1521452</td>\n",
       "      <td>1016026</td>\n",
       "      <td>67.8 %</td>\n",
       "      <td>307680</td>\n",
       "      <td>30.8 %</td>\n",
       "      <td>AC View</td>\n",
       "    </tr>\n",
       "    <tr>\n",
       "      <th>10</th>\n",
       "      <td>2</td>\n",
       "      <td>Asaimani. S</td>\n",
       "      <td>Mayiladuthurai</td>\n",
       "      <td>Tamil Nadu</td>\n",
       "      <td>1466813</td>\n",
       "      <td>1097243</td>\n",
       "      <td>75.4 %</td>\n",
       "      <td>337978</td>\n",
       "      <td>31.0 %</td>\n",
       "      <td>AC View</td>\n",
       "    </tr>\n",
       "    <tr>\n",
       "      <th>11</th>\n",
       "      <td>2</td>\n",
       "      <td>Saravanan M</td>\n",
       "      <td>Nagapattinam</td>\n",
       "      <td>Tamil Nadu</td>\n",
       "      <td>1292695</td>\n",
       "      <td>1002208</td>\n",
       "      <td>78.3 %</td>\n",
       "      <td>311539</td>\n",
       "      <td>31.4 %</td>\n",
       "      <td>AC View</td>\n",
       "    </tr>\n",
       "    <tr>\n",
       "      <th>12</th>\n",
       "      <td>2</td>\n",
       "      <td>Kaliappan P</td>\n",
       "      <td>Namakkal</td>\n",
       "      <td>Tamil Nadu</td>\n",
       "      <td>1383282</td>\n",
       "      <td>1133774</td>\n",
       "      <td>83.1 %</td>\n",
       "      <td>361142</td>\n",
       "      <td>32.3 %</td>\n",
       "      <td>AC View</td>\n",
       "    </tr>\n",
       "    <tr>\n",
       "      <th>13</th>\n",
       "      <td>2</td>\n",
       "      <td>Thiyagarajan, M.</td>\n",
       "      <td>Nilgiris</td>\n",
       "      <td>Tamil Nadu</td>\n",
       "      <td>1336480</td>\n",
       "      <td>1010719</td>\n",
       "      <td>77.0 %</td>\n",
       "      <td>342009</td>\n",
       "      <td>34.5 %</td>\n",
       "      <td>AC View</td>\n",
       "    </tr>\n",
       "    <tr>\n",
       "      <th>14</th>\n",
       "      <td>2</td>\n",
       "      <td>Sivapathy, N.R</td>\n",
       "      <td>Perambalur</td>\n",
       "      <td>Tamil Nadu</td>\n",
       "      <td>1376502</td>\n",
       "      <td>1102767</td>\n",
       "      <td>80.9 %</td>\n",
       "      <td>280179</td>\n",
       "      <td>25.7 %</td>\n",
       "      <td>AC View</td>\n",
       "    </tr>\n",
       "    <tr>\n",
       "      <th>15</th>\n",
       "      <td>2</td>\n",
       "      <td>Mahendran. C</td>\n",
       "      <td>Pollachi</td>\n",
       "      <td>Tamil Nadu</td>\n",
       "      <td>1716498</td>\n",
       "      <td>1081875</td>\n",
       "      <td>63.9 %</td>\n",
       "      <td>378347</td>\n",
       "      <td>35.5 %</td>\n",
       "      <td>AC View</td>\n",
       "    </tr>\n",
       "    <tr>\n",
       "      <th>16</th>\n",
       "      <td>2</td>\n",
       "      <td>Saravanan.K.R.S</td>\n",
       "      <td>Salem</td>\n",
       "      <td>Tamil Nadu</td>\n",
       "      <td>1580013</td>\n",
       "      <td>1255459</td>\n",
       "      <td>80.5 %</td>\n",
       "      <td>459376</td>\n",
       "      <td>37.1 %</td>\n",
       "      <td>AC View</td>\n",
       "    </tr>\n",
       "    <tr>\n",
       "      <th>17</th>\n",
       "      <td>2</td>\n",
       "      <td>Dr.Krishnasamy.K</td>\n",
       "      <td>Tenkasi</td>\n",
       "      <td>Tamil Nadu</td>\n",
       "      <td>1472742</td>\n",
       "      <td>1065569</td>\n",
       "      <td>73.3 %</td>\n",
       "      <td>355870</td>\n",
       "      <td>33.8 %</td>\n",
       "      <td>AC View</td>\n",
       "    </tr>\n",
       "    <tr>\n",
       "      <th>18</th>\n",
       "      <td>2</td>\n",
       "      <td>Dr.P.Venugopal</td>\n",
       "      <td>Thiruvallur</td>\n",
       "      <td>Tamil Nadu</td>\n",
       "      <td>1882738</td>\n",
       "      <td>1408189</td>\n",
       "      <td>75.8 %</td>\n",
       "      <td>410337</td>\n",
       "      <td>29.5 %</td>\n",
       "      <td>AC View</td>\n",
       "    </tr>\n",
       "    <tr>\n",
       "      <th>19</th>\n",
       "      <td>2</td>\n",
       "      <td>Paul Manoj Pandian</td>\n",
       "      <td>Tirunelveli</td>\n",
       "      <td>Tamil Nadu</td>\n",
       "      <td>1526692</td>\n",
       "      <td>1039761</td>\n",
       "      <td>68.8 %</td>\n",
       "      <td>337166</td>\n",
       "      <td>32.8 %</td>\n",
       "      <td>AC View</td>\n",
       "    </tr>\n",
       "    <tr>\n",
       "      <th>20</th>\n",
       "      <td>2</td>\n",
       "      <td>Anandan, M.S.M.</td>\n",
       "      <td>Tiruppur</td>\n",
       "      <td>Tamil Nadu</td>\n",
       "      <td>1490562</td>\n",
       "      <td>1119584</td>\n",
       "      <td>76.6 %</td>\n",
       "      <td>415357</td>\n",
       "      <td>37.8 %</td>\n",
       "      <td>AC View</td>\n",
       "    </tr>\n",
       "    <tr>\n",
       "      <th>21</th>\n",
       "      <td>2</td>\n",
       "      <td>Agri Krishnamurthy S S</td>\n",
       "      <td>Tiruvannamalai</td>\n",
       "      <td>Tamil Nadu</td>\n",
       "      <td>1431287</td>\n",
       "      <td>1151729</td>\n",
       "      <td>81.3 %</td>\n",
       "      <td>362085</td>\n",
       "      <td>31.8 %</td>\n",
       "      <td>AC View</td>\n",
       "    </tr>\n",
       "  </tbody>\n",
       "</table>\n",
       "</div>"
      ],
      "text/plain": [
       "    Position               Candidate         PC Name       State  Electors  \\\n",
       "#                                                                            \n",
       "1          1  Raveendranath Kumar, P           Theni  Tamil Nadu   1800597   \n",
       "2          2              Elumalai V           Arani  Tamil Nadu   1407725   \n",
       "3          2        Dr.J.Jayavardhan   Chennai South  Tamil Nadu   1916378   \n",
       "4          2          Chandrasekar P     Chidambaram  Tamil Nadu   1459769   \n",
       "5          2             Manimaran G           Erode  Tamil Nadu   1427534   \n",
       "6          2            Maragatham K    Kancheepuram  Tamil Nadu   1601060   \n",
       "7          2           Thambidurai M           Karur  Tamil Nadu   1365804   \n",
       "8          2            K.P.Munusamy     Krishnagiri  Tamil Nadu   1482269   \n",
       "9          2        Raj Satyen V.V.R         Madurai  Tamil Nadu   1521452   \n",
       "10         2             Asaimani. S  Mayiladuthurai  Tamil Nadu   1466813   \n",
       "11         2             Saravanan M    Nagapattinam  Tamil Nadu   1292695   \n",
       "12         2             Kaliappan P        Namakkal  Tamil Nadu   1383282   \n",
       "13         2        Thiyagarajan, M.        Nilgiris  Tamil Nadu   1336480   \n",
       "14         2          Sivapathy, N.R      Perambalur  Tamil Nadu   1376502   \n",
       "15         2            Mahendran. C        Pollachi  Tamil Nadu   1716498   \n",
       "16         2         Saravanan.K.R.S           Salem  Tamil Nadu   1580013   \n",
       "17         2        Dr.Krishnasamy.K         Tenkasi  Tamil Nadu   1472742   \n",
       "18         2          Dr.P.Venugopal     Thiruvallur  Tamil Nadu   1882738   \n",
       "19         2      Paul Manoj Pandian     Tirunelveli  Tamil Nadu   1526692   \n",
       "20         2         Anandan, M.S.M.        Tiruppur  Tamil Nadu   1490562   \n",
       "21         2  Agri Krishnamurthy S S  Tiruvannamalai  Tamil Nadu   1431287   \n",
       "\n",
       "      Votes Turnout  AIADMK Votes AIADMK Votes %      ACs  \n",
       "#                                                          \n",
       "1   1173489  65.8 %        504813         43.4 %  AC View  \n",
       "2   1143907  82.5 %        386954         34.3 %  AC View  \n",
       "3   1125857  59.6 %        302649         27.3 %  AC View  \n",
       "4   1153192  80.1 %        497010         43.7 %  AC View  \n",
       "5   1067863  75.8 %        352973         33.5 %  AC View  \n",
       "6   1237612  78.7 %        397372         32.7 %  AC View  \n",
       "7   1103165  81.5 %        275151         25.2 %  AC View  \n",
       "8   1161369  79.7 %        454533         39.8 %  AC View  \n",
       "9   1016026  67.8 %        307680         30.8 %  AC View  \n",
       "10  1097243  75.4 %        337978         31.0 %  AC View  \n",
       "11  1002208  78.3 %        311539         31.4 %  AC View  \n",
       "12  1133774  83.1 %        361142         32.3 %  AC View  \n",
       "13  1010719  77.0 %        342009         34.5 %  AC View  \n",
       "14  1102767  80.9 %        280179         25.7 %  AC View  \n",
       "15  1081875  63.9 %        378347         35.5 %  AC View  \n",
       "16  1255459  80.5 %        459376         37.1 %  AC View  \n",
       "17  1065569  73.3 %        355870         33.8 %  AC View  \n",
       "18  1408189  75.8 %        410337         29.5 %  AC View  \n",
       "19  1039761  68.8 %        337166         32.8 %  AC View  \n",
       "20  1119584  76.6 %        415357         37.8 %  AC View  \n",
       "21  1151729  81.3 %        362085         31.8 %  AC View  "
      ]
     },
     "execution_count": 13,
     "metadata": {},
     "output_type": "execute_result"
    }
   ],
   "source": [
    "data.set_index('#')"
   ]
  },
  {
   "cell_type": "code",
   "execution_count": 14,
   "id": "db8dca06",
   "metadata": {},
   "outputs": [],
   "source": [
    "data = data.set_index('#')"
   ]
  },
  {
   "cell_type": "code",
   "execution_count": 15,
   "id": "bd1e0d14",
   "metadata": {},
   "outputs": [
    {
     "data": {
      "text/html": [
       "<div>\n",
       "<style scoped>\n",
       "    .dataframe tbody tr th:only-of-type {\n",
       "        vertical-align: middle;\n",
       "    }\n",
       "\n",
       "    .dataframe tbody tr th {\n",
       "        vertical-align: top;\n",
       "    }\n",
       "\n",
       "    .dataframe thead th {\n",
       "        text-align: right;\n",
       "    }\n",
       "</style>\n",
       "<table border=\"1\" class=\"dataframe\">\n",
       "  <thead>\n",
       "    <tr style=\"text-align: right;\">\n",
       "      <th></th>\n",
       "      <th>Position</th>\n",
       "      <th>Candidate</th>\n",
       "      <th>PC Name</th>\n",
       "      <th>State</th>\n",
       "      <th>Electors</th>\n",
       "      <th>Votes</th>\n",
       "      <th>Turnout</th>\n",
       "      <th>AIADMK Votes</th>\n",
       "      <th>AIADMK Votes %</th>\n",
       "      <th>ACs</th>\n",
       "    </tr>\n",
       "    <tr>\n",
       "      <th>#</th>\n",
       "      <th></th>\n",
       "      <th></th>\n",
       "      <th></th>\n",
       "      <th></th>\n",
       "      <th></th>\n",
       "      <th></th>\n",
       "      <th></th>\n",
       "      <th></th>\n",
       "      <th></th>\n",
       "      <th></th>\n",
       "    </tr>\n",
       "  </thead>\n",
       "  <tbody>\n",
       "    <tr>\n",
       "      <th>1</th>\n",
       "      <td>1</td>\n",
       "      <td>Raveendranath Kumar, P</td>\n",
       "      <td>Theni</td>\n",
       "      <td>Tamil Nadu</td>\n",
       "      <td>1800597</td>\n",
       "      <td>1173489</td>\n",
       "      <td>65.8 %</td>\n",
       "      <td>504813</td>\n",
       "      <td>43.4 %</td>\n",
       "      <td>AC View</td>\n",
       "    </tr>\n",
       "    <tr>\n",
       "      <th>2</th>\n",
       "      <td>2</td>\n",
       "      <td>Elumalai V</td>\n",
       "      <td>Arani</td>\n",
       "      <td>Tamil Nadu</td>\n",
       "      <td>1407725</td>\n",
       "      <td>1143907</td>\n",
       "      <td>82.5 %</td>\n",
       "      <td>386954</td>\n",
       "      <td>34.3 %</td>\n",
       "      <td>AC View</td>\n",
       "    </tr>\n",
       "    <tr>\n",
       "      <th>3</th>\n",
       "      <td>2</td>\n",
       "      <td>Dr.J.Jayavardhan</td>\n",
       "      <td>Chennai South</td>\n",
       "      <td>Tamil Nadu</td>\n",
       "      <td>1916378</td>\n",
       "      <td>1125857</td>\n",
       "      <td>59.6 %</td>\n",
       "      <td>302649</td>\n",
       "      <td>27.3 %</td>\n",
       "      <td>AC View</td>\n",
       "    </tr>\n",
       "    <tr>\n",
       "      <th>4</th>\n",
       "      <td>2</td>\n",
       "      <td>Chandrasekar P</td>\n",
       "      <td>Chidambaram</td>\n",
       "      <td>Tamil Nadu</td>\n",
       "      <td>1459769</td>\n",
       "      <td>1153192</td>\n",
       "      <td>80.1 %</td>\n",
       "      <td>497010</td>\n",
       "      <td>43.7 %</td>\n",
       "      <td>AC View</td>\n",
       "    </tr>\n",
       "    <tr>\n",
       "      <th>5</th>\n",
       "      <td>2</td>\n",
       "      <td>Manimaran G</td>\n",
       "      <td>Erode</td>\n",
       "      <td>Tamil Nadu</td>\n",
       "      <td>1427534</td>\n",
       "      <td>1067863</td>\n",
       "      <td>75.8 %</td>\n",
       "      <td>352973</td>\n",
       "      <td>33.5 %</td>\n",
       "      <td>AC View</td>\n",
       "    </tr>\n",
       "    <tr>\n",
       "      <th>6</th>\n",
       "      <td>2</td>\n",
       "      <td>Maragatham K</td>\n",
       "      <td>Kancheepuram</td>\n",
       "      <td>Tamil Nadu</td>\n",
       "      <td>1601060</td>\n",
       "      <td>1237612</td>\n",
       "      <td>78.7 %</td>\n",
       "      <td>397372</td>\n",
       "      <td>32.7 %</td>\n",
       "      <td>AC View</td>\n",
       "    </tr>\n",
       "    <tr>\n",
       "      <th>7</th>\n",
       "      <td>2</td>\n",
       "      <td>Thambidurai M</td>\n",
       "      <td>Karur</td>\n",
       "      <td>Tamil Nadu</td>\n",
       "      <td>1365804</td>\n",
       "      <td>1103165</td>\n",
       "      <td>81.5 %</td>\n",
       "      <td>275151</td>\n",
       "      <td>25.2 %</td>\n",
       "      <td>AC View</td>\n",
       "    </tr>\n",
       "    <tr>\n",
       "      <th>8</th>\n",
       "      <td>2</td>\n",
       "      <td>K.P.Munusamy</td>\n",
       "      <td>Krishnagiri</td>\n",
       "      <td>Tamil Nadu</td>\n",
       "      <td>1482269</td>\n",
       "      <td>1161369</td>\n",
       "      <td>79.7 %</td>\n",
       "      <td>454533</td>\n",
       "      <td>39.8 %</td>\n",
       "      <td>AC View</td>\n",
       "    </tr>\n",
       "    <tr>\n",
       "      <th>9</th>\n",
       "      <td>2</td>\n",
       "      <td>Raj Satyen V.V.R</td>\n",
       "      <td>Madurai</td>\n",
       "      <td>Tamil Nadu</td>\n",
       "      <td>1521452</td>\n",
       "      <td>1016026</td>\n",
       "      <td>67.8 %</td>\n",
       "      <td>307680</td>\n",
       "      <td>30.8 %</td>\n",
       "      <td>AC View</td>\n",
       "    </tr>\n",
       "    <tr>\n",
       "      <th>10</th>\n",
       "      <td>2</td>\n",
       "      <td>Asaimani. S</td>\n",
       "      <td>Mayiladuthurai</td>\n",
       "      <td>Tamil Nadu</td>\n",
       "      <td>1466813</td>\n",
       "      <td>1097243</td>\n",
       "      <td>75.4 %</td>\n",
       "      <td>337978</td>\n",
       "      <td>31.0 %</td>\n",
       "      <td>AC View</td>\n",
       "    </tr>\n",
       "    <tr>\n",
       "      <th>11</th>\n",
       "      <td>2</td>\n",
       "      <td>Saravanan M</td>\n",
       "      <td>Nagapattinam</td>\n",
       "      <td>Tamil Nadu</td>\n",
       "      <td>1292695</td>\n",
       "      <td>1002208</td>\n",
       "      <td>78.3 %</td>\n",
       "      <td>311539</td>\n",
       "      <td>31.4 %</td>\n",
       "      <td>AC View</td>\n",
       "    </tr>\n",
       "    <tr>\n",
       "      <th>12</th>\n",
       "      <td>2</td>\n",
       "      <td>Kaliappan P</td>\n",
       "      <td>Namakkal</td>\n",
       "      <td>Tamil Nadu</td>\n",
       "      <td>1383282</td>\n",
       "      <td>1133774</td>\n",
       "      <td>83.1 %</td>\n",
       "      <td>361142</td>\n",
       "      <td>32.3 %</td>\n",
       "      <td>AC View</td>\n",
       "    </tr>\n",
       "    <tr>\n",
       "      <th>13</th>\n",
       "      <td>2</td>\n",
       "      <td>Thiyagarajan, M.</td>\n",
       "      <td>Nilgiris</td>\n",
       "      <td>Tamil Nadu</td>\n",
       "      <td>1336480</td>\n",
       "      <td>1010719</td>\n",
       "      <td>77.0 %</td>\n",
       "      <td>342009</td>\n",
       "      <td>34.5 %</td>\n",
       "      <td>AC View</td>\n",
       "    </tr>\n",
       "    <tr>\n",
       "      <th>14</th>\n",
       "      <td>2</td>\n",
       "      <td>Sivapathy, N.R</td>\n",
       "      <td>Perambalur</td>\n",
       "      <td>Tamil Nadu</td>\n",
       "      <td>1376502</td>\n",
       "      <td>1102767</td>\n",
       "      <td>80.9 %</td>\n",
       "      <td>280179</td>\n",
       "      <td>25.7 %</td>\n",
       "      <td>AC View</td>\n",
       "    </tr>\n",
       "    <tr>\n",
       "      <th>15</th>\n",
       "      <td>2</td>\n",
       "      <td>Mahendran. C</td>\n",
       "      <td>Pollachi</td>\n",
       "      <td>Tamil Nadu</td>\n",
       "      <td>1716498</td>\n",
       "      <td>1081875</td>\n",
       "      <td>63.9 %</td>\n",
       "      <td>378347</td>\n",
       "      <td>35.5 %</td>\n",
       "      <td>AC View</td>\n",
       "    </tr>\n",
       "    <tr>\n",
       "      <th>16</th>\n",
       "      <td>2</td>\n",
       "      <td>Saravanan.K.R.S</td>\n",
       "      <td>Salem</td>\n",
       "      <td>Tamil Nadu</td>\n",
       "      <td>1580013</td>\n",
       "      <td>1255459</td>\n",
       "      <td>80.5 %</td>\n",
       "      <td>459376</td>\n",
       "      <td>37.1 %</td>\n",
       "      <td>AC View</td>\n",
       "    </tr>\n",
       "    <tr>\n",
       "      <th>17</th>\n",
       "      <td>2</td>\n",
       "      <td>Dr.Krishnasamy.K</td>\n",
       "      <td>Tenkasi</td>\n",
       "      <td>Tamil Nadu</td>\n",
       "      <td>1472742</td>\n",
       "      <td>1065569</td>\n",
       "      <td>73.3 %</td>\n",
       "      <td>355870</td>\n",
       "      <td>33.8 %</td>\n",
       "      <td>AC View</td>\n",
       "    </tr>\n",
       "    <tr>\n",
       "      <th>18</th>\n",
       "      <td>2</td>\n",
       "      <td>Dr.P.Venugopal</td>\n",
       "      <td>Thiruvallur</td>\n",
       "      <td>Tamil Nadu</td>\n",
       "      <td>1882738</td>\n",
       "      <td>1408189</td>\n",
       "      <td>75.8 %</td>\n",
       "      <td>410337</td>\n",
       "      <td>29.5 %</td>\n",
       "      <td>AC View</td>\n",
       "    </tr>\n",
       "    <tr>\n",
       "      <th>19</th>\n",
       "      <td>2</td>\n",
       "      <td>Paul Manoj Pandian</td>\n",
       "      <td>Tirunelveli</td>\n",
       "      <td>Tamil Nadu</td>\n",
       "      <td>1526692</td>\n",
       "      <td>1039761</td>\n",
       "      <td>68.8 %</td>\n",
       "      <td>337166</td>\n",
       "      <td>32.8 %</td>\n",
       "      <td>AC View</td>\n",
       "    </tr>\n",
       "    <tr>\n",
       "      <th>20</th>\n",
       "      <td>2</td>\n",
       "      <td>Anandan, M.S.M.</td>\n",
       "      <td>Tiruppur</td>\n",
       "      <td>Tamil Nadu</td>\n",
       "      <td>1490562</td>\n",
       "      <td>1119584</td>\n",
       "      <td>76.6 %</td>\n",
       "      <td>415357</td>\n",
       "      <td>37.8 %</td>\n",
       "      <td>AC View</td>\n",
       "    </tr>\n",
       "    <tr>\n",
       "      <th>21</th>\n",
       "      <td>2</td>\n",
       "      <td>Agri Krishnamurthy S S</td>\n",
       "      <td>Tiruvannamalai</td>\n",
       "      <td>Tamil Nadu</td>\n",
       "      <td>1431287</td>\n",
       "      <td>1151729</td>\n",
       "      <td>81.3 %</td>\n",
       "      <td>362085</td>\n",
       "      <td>31.8 %</td>\n",
       "      <td>AC View</td>\n",
       "    </tr>\n",
       "  </tbody>\n",
       "</table>\n",
       "</div>"
      ],
      "text/plain": [
       "    Position               Candidate         PC Name       State  Electors  \\\n",
       "#                                                                            \n",
       "1          1  Raveendranath Kumar, P           Theni  Tamil Nadu   1800597   \n",
       "2          2              Elumalai V           Arani  Tamil Nadu   1407725   \n",
       "3          2        Dr.J.Jayavardhan   Chennai South  Tamil Nadu   1916378   \n",
       "4          2          Chandrasekar P     Chidambaram  Tamil Nadu   1459769   \n",
       "5          2             Manimaran G           Erode  Tamil Nadu   1427534   \n",
       "6          2            Maragatham K    Kancheepuram  Tamil Nadu   1601060   \n",
       "7          2           Thambidurai M           Karur  Tamil Nadu   1365804   \n",
       "8          2            K.P.Munusamy     Krishnagiri  Tamil Nadu   1482269   \n",
       "9          2        Raj Satyen V.V.R         Madurai  Tamil Nadu   1521452   \n",
       "10         2             Asaimani. S  Mayiladuthurai  Tamil Nadu   1466813   \n",
       "11         2             Saravanan M    Nagapattinam  Tamil Nadu   1292695   \n",
       "12         2             Kaliappan P        Namakkal  Tamil Nadu   1383282   \n",
       "13         2        Thiyagarajan, M.        Nilgiris  Tamil Nadu   1336480   \n",
       "14         2          Sivapathy, N.R      Perambalur  Tamil Nadu   1376502   \n",
       "15         2            Mahendran. C        Pollachi  Tamil Nadu   1716498   \n",
       "16         2         Saravanan.K.R.S           Salem  Tamil Nadu   1580013   \n",
       "17         2        Dr.Krishnasamy.K         Tenkasi  Tamil Nadu   1472742   \n",
       "18         2          Dr.P.Venugopal     Thiruvallur  Tamil Nadu   1882738   \n",
       "19         2      Paul Manoj Pandian     Tirunelveli  Tamil Nadu   1526692   \n",
       "20         2         Anandan, M.S.M.        Tiruppur  Tamil Nadu   1490562   \n",
       "21         2  Agri Krishnamurthy S S  Tiruvannamalai  Tamil Nadu   1431287   \n",
       "\n",
       "      Votes Turnout  AIADMK Votes AIADMK Votes %      ACs  \n",
       "#                                                          \n",
       "1   1173489  65.8 %        504813         43.4 %  AC View  \n",
       "2   1143907  82.5 %        386954         34.3 %  AC View  \n",
       "3   1125857  59.6 %        302649         27.3 %  AC View  \n",
       "4   1153192  80.1 %        497010         43.7 %  AC View  \n",
       "5   1067863  75.8 %        352973         33.5 %  AC View  \n",
       "6   1237612  78.7 %        397372         32.7 %  AC View  \n",
       "7   1103165  81.5 %        275151         25.2 %  AC View  \n",
       "8   1161369  79.7 %        454533         39.8 %  AC View  \n",
       "9   1016026  67.8 %        307680         30.8 %  AC View  \n",
       "10  1097243  75.4 %        337978         31.0 %  AC View  \n",
       "11  1002208  78.3 %        311539         31.4 %  AC View  \n",
       "12  1133774  83.1 %        361142         32.3 %  AC View  \n",
       "13  1010719  77.0 %        342009         34.5 %  AC View  \n",
       "14  1102767  80.9 %        280179         25.7 %  AC View  \n",
       "15  1081875  63.9 %        378347         35.5 %  AC View  \n",
       "16  1255459  80.5 %        459376         37.1 %  AC View  \n",
       "17  1065569  73.3 %        355870         33.8 %  AC View  \n",
       "18  1408189  75.8 %        410337         29.5 %  AC View  \n",
       "19  1039761  68.8 %        337166         32.8 %  AC View  \n",
       "20  1119584  76.6 %        415357         37.8 %  AC View  \n",
       "21  1151729  81.3 %        362085         31.8 %  AC View  "
      ]
     },
     "execution_count": 15,
     "metadata": {},
     "output_type": "execute_result"
    }
   ],
   "source": [
    "data"
   ]
  },
  {
   "cell_type": "code",
   "execution_count": 16,
   "id": "02e37ec6",
   "metadata": {},
   "outputs": [],
   "source": [
    "a = data1.columns"
   ]
  },
  {
   "cell_type": "code",
   "execution_count": 17,
   "id": "9a9cf7f6",
   "metadata": {},
   "outputs": [
    {
     "data": {
      "text/plain": [
       "Index(['#', 'Position', 'Candidate', 'PC Name', 'State', 'Electors', 'Votes',\n",
       "       'Turnout', 'DMK Votes', 'DMK Votes %', 'ACs'],\n",
       "      dtype='object')"
      ]
     },
     "execution_count": 17,
     "metadata": {},
     "output_type": "execute_result"
    }
   ],
   "source": [
    "a"
   ]
  },
  {
   "cell_type": "code",
   "execution_count": 18,
   "id": "18d63a13",
   "metadata": {},
   "outputs": [],
   "source": [
    "b = []"
   ]
  },
  {
   "cell_type": "code",
   "execution_count": 19,
   "id": "5de60806",
   "metadata": {},
   "outputs": [],
   "source": [
    "for i in a:\n",
    "    b.append(i)"
   ]
  },
  {
   "cell_type": "code",
   "execution_count": 20,
   "id": "e5c4a83b",
   "metadata": {},
   "outputs": [
    {
     "data": {
      "text/plain": [
       "['#',\n",
       " 'Position',\n",
       " 'Candidate',\n",
       " 'PC Name',\n",
       " 'State',\n",
       " 'Electors',\n",
       " 'Votes',\n",
       " 'Turnout',\n",
       " 'DMK Votes',\n",
       " 'DMK Votes %',\n",
       " 'ACs']"
      ]
     },
     "execution_count": 20,
     "metadata": {},
     "output_type": "execute_result"
    }
   ],
   "source": [
    "b"
   ]
  },
  {
   "cell_type": "code",
   "execution_count": 21,
   "id": "e7bbfc38",
   "metadata": {},
   "outputs": [],
   "source": [
    "data1.columns = b"
   ]
  },
  {
   "cell_type": "code",
   "execution_count": 22,
   "id": "8dd34e1e",
   "metadata": {},
   "outputs": [],
   "source": [
    "data1 = data1.set_index('#')"
   ]
  },
  {
   "cell_type": "code",
   "execution_count": 23,
   "id": "c50638c0",
   "metadata": {},
   "outputs": [
    {
     "data": {
      "text/html": [
       "<div>\n",
       "<style scoped>\n",
       "    .dataframe tbody tr th:only-of-type {\n",
       "        vertical-align: middle;\n",
       "    }\n",
       "\n",
       "    .dataframe tbody tr th {\n",
       "        vertical-align: top;\n",
       "    }\n",
       "\n",
       "    .dataframe thead th {\n",
       "        text-align: right;\n",
       "    }\n",
       "</style>\n",
       "<table border=\"1\" class=\"dataframe\">\n",
       "  <thead>\n",
       "    <tr style=\"text-align: right;\">\n",
       "      <th></th>\n",
       "      <th>Position</th>\n",
       "      <th>Candidate</th>\n",
       "      <th>PC Name</th>\n",
       "      <th>State</th>\n",
       "      <th>Electors</th>\n",
       "      <th>Votes</th>\n",
       "      <th>Turnout</th>\n",
       "      <th>DMK Votes</th>\n",
       "      <th>DMK Votes %</th>\n",
       "      <th>ACs</th>\n",
       "    </tr>\n",
       "    <tr>\n",
       "      <th>#</th>\n",
       "      <th></th>\n",
       "      <th></th>\n",
       "      <th></th>\n",
       "      <th></th>\n",
       "      <th></th>\n",
       "      <th></th>\n",
       "      <th></th>\n",
       "      <th></th>\n",
       "      <th></th>\n",
       "      <th></th>\n",
       "    </tr>\n",
       "  </thead>\n",
       "  <tbody>\n",
       "    <tr>\n",
       "      <th>1</th>\n",
       "      <td>1</td>\n",
       "      <td>S. Jagathrakshakan</td>\n",
       "      <td>Arakkonam</td>\n",
       "      <td>Tamil Nadu</td>\n",
       "      <td>1461110</td>\n",
       "      <td>1178060</td>\n",
       "      <td>81.5 %</td>\n",
       "      <td>672190</td>\n",
       "      <td>57.7 %</td>\n",
       "      <td>AC View</td>\n",
       "    </tr>\n",
       "    <tr>\n",
       "      <th>2</th>\n",
       "      <td>1</td>\n",
       "      <td>Dayanidhi Maran</td>\n",
       "      <td>Chennai Centra</td>\n",
       "      <td>Tamil Nadu</td>\n",
       "      <td>1316388</td>\n",
       "      <td>785450</td>\n",
       "      <td>60.7 %</td>\n",
       "      <td>448911</td>\n",
       "      <td>58.2 %</td>\n",
       "      <td>AC View</td>\n",
       "    </tr>\n",
       "    <tr>\n",
       "      <th>3</th>\n",
       "      <td>1</td>\n",
       "      <td>Dr. Kalanidhi Veeraswamy</td>\n",
       "      <td>Chennai North</td>\n",
       "      <td>Tamil Nadu</td>\n",
       "      <td>1444753</td>\n",
       "      <td>955545</td>\n",
       "      <td>67.2 %</td>\n",
       "      <td>590986</td>\n",
       "      <td>62.9 %</td>\n",
       "      <td>AC View</td>\n",
       "    </tr>\n",
       "    <tr>\n",
       "      <th>4</th>\n",
       "      <td>1</td>\n",
       "      <td>T.Sumathy (A) THAMIZHACHI THANGAPANDIAN</td>\n",
       "      <td>Chennai South</td>\n",
       "      <td>Tamil Nadu</td>\n",
       "      <td>1916378</td>\n",
       "      <td>1125857</td>\n",
       "      <td>59.6 %</td>\n",
       "      <td>564872</td>\n",
       "      <td>50.9 %</td>\n",
       "      <td>AC View</td>\n",
       "    </tr>\n",
       "    <tr>\n",
       "      <th>5</th>\n",
       "      <td>1</td>\n",
       "      <td>T. R. V .S. Ramesh</td>\n",
       "      <td>Cuddalore</td>\n",
       "      <td>Tamil Nadu</td>\n",
       "      <td>1342320</td>\n",
       "      <td>1043202</td>\n",
       "      <td>78.4 %</td>\n",
       "      <td>522160</td>\n",
       "      <td>50.5 %</td>\n",
       "      <td>AC View</td>\n",
       "    </tr>\n",
       "    <tr>\n",
       "      <th>6</th>\n",
       "      <td>1</td>\n",
       "      <td>Dnv Senthilkumar. S.</td>\n",
       "      <td>Dharmapuri</td>\n",
       "      <td>Tamil Nadu</td>\n",
       "      <td>1453257</td>\n",
       "      <td>1223205</td>\n",
       "      <td>85.1 %</td>\n",
       "      <td>574988</td>\n",
       "      <td>47.5 %</td>\n",
       "      <td>AC View</td>\n",
       "    </tr>\n",
       "    <tr>\n",
       "      <th>7</th>\n",
       "      <td>1</td>\n",
       "      <td>Velusamy, P.</td>\n",
       "      <td>Dindigul</td>\n",
       "      <td>Tamil Nadu</td>\n",
       "      <td>1518633</td>\n",
       "      <td>1160046</td>\n",
       "      <td>77.3 %</td>\n",
       "      <td>746523</td>\n",
       "      <td>65.2 %</td>\n",
       "      <td>AC View</td>\n",
       "    </tr>\n",
       "    <tr>\n",
       "      <th>8</th>\n",
       "      <td>1</td>\n",
       "      <td>Ganeshamurthi A</td>\n",
       "      <td>Erode</td>\n",
       "      <td>Tamil Nadu</td>\n",
       "      <td>1427534</td>\n",
       "      <td>1067863</td>\n",
       "      <td>75.8 %</td>\n",
       "      <td>563591</td>\n",
       "      <td>53.5 %</td>\n",
       "      <td>AC View</td>\n",
       "    </tr>\n",
       "    <tr>\n",
       "      <th>9</th>\n",
       "      <td>1</td>\n",
       "      <td>Gautham Sigamani Pon</td>\n",
       "      <td>Kallakurichi</td>\n",
       "      <td>Tamil Nadu</td>\n",
       "      <td>1490339</td>\n",
       "      <td>1204375</td>\n",
       "      <td>81.6 %</td>\n",
       "      <td>721713</td>\n",
       "      <td>60.5 %</td>\n",
       "      <td>AC View</td>\n",
       "    </tr>\n",
       "    <tr>\n",
       "      <th>10</th>\n",
       "      <td>1</td>\n",
       "      <td>Selvam.G</td>\n",
       "      <td>Kancheepuram</td>\n",
       "      <td>Tamil Nadu</td>\n",
       "      <td>1601060</td>\n",
       "      <td>1237612</td>\n",
       "      <td>78.7 %</td>\n",
       "      <td>684004</td>\n",
       "      <td>56.3 %</td>\n",
       "      <td>AC View</td>\n",
       "    </tr>\n",
       "    <tr>\n",
       "      <th>11</th>\n",
       "      <td>1</td>\n",
       "      <td>Ramalingam. S</td>\n",
       "      <td>Mayiladuthurai</td>\n",
       "      <td>Tamil Nadu</td>\n",
       "      <td>1466813</td>\n",
       "      <td>1097243</td>\n",
       "      <td>75.4 %</td>\n",
       "      <td>599292</td>\n",
       "      <td>55.0 %</td>\n",
       "      <td>AC View</td>\n",
       "    </tr>\n",
       "    <tr>\n",
       "      <th>12</th>\n",
       "      <td>1</td>\n",
       "      <td>Chinraj A.K.P</td>\n",
       "      <td>Namakkal</td>\n",
       "      <td>Tamil Nadu</td>\n",
       "      <td>1383282</td>\n",
       "      <td>1133774</td>\n",
       "      <td>83.1 %</td>\n",
       "      <td>626293</td>\n",
       "      <td>56.0 %</td>\n",
       "      <td>AC View</td>\n",
       "    </tr>\n",
       "    <tr>\n",
       "      <th>13</th>\n",
       "      <td>1</td>\n",
       "      <td>Raja, A.</td>\n",
       "      <td>Nilgiris</td>\n",
       "      <td>Tamil Nadu</td>\n",
       "      <td>1336480</td>\n",
       "      <td>1010719</td>\n",
       "      <td>77.0 %</td>\n",
       "      <td>547832</td>\n",
       "      <td>55.2 %</td>\n",
       "      <td>AC View</td>\n",
       "    </tr>\n",
       "    <tr>\n",
       "      <th>14</th>\n",
       "      <td>1</td>\n",
       "      <td>Dr.Paarivendhar, T. R</td>\n",
       "      <td>Perambalur</td>\n",
       "      <td>Tamil Nadu</td>\n",
       "      <td>1376502</td>\n",
       "      <td>1102767</td>\n",
       "      <td>80.9 %</td>\n",
       "      <td>683697</td>\n",
       "      <td>62.6 %</td>\n",
       "      <td>AC View</td>\n",
       "    </tr>\n",
       "    <tr>\n",
       "      <th>15</th>\n",
       "      <td>1</td>\n",
       "      <td>Shanmuga Sundaram. K</td>\n",
       "      <td>Pollachi</td>\n",
       "      <td>Tamil Nadu</td>\n",
       "      <td>1716498</td>\n",
       "      <td>1081875</td>\n",
       "      <td>63.9 %</td>\n",
       "      <td>554230</td>\n",
       "      <td>52.0 %</td>\n",
       "      <td>AC View</td>\n",
       "    </tr>\n",
       "    <tr>\n",
       "      <th>16</th>\n",
       "      <td>1</td>\n",
       "      <td>Parthiban.S.R</td>\n",
       "      <td>Salem</td>\n",
       "      <td>Tamil Nadu</td>\n",
       "      <td>1580013</td>\n",
       "      <td>1255459</td>\n",
       "      <td>80.5 %</td>\n",
       "      <td>606302</td>\n",
       "      <td>49.0 %</td>\n",
       "      <td>AC View</td>\n",
       "    </tr>\n",
       "    <tr>\n",
       "      <th>17</th>\n",
       "      <td>1</td>\n",
       "      <td>Baalu.T.R.</td>\n",
       "      <td>Sriperumbudur</td>\n",
       "      <td>Tamil Nadu</td>\n",
       "      <td>2176499</td>\n",
       "      <td>1406782</td>\n",
       "      <td>65.7 %</td>\n",
       "      <td>793281</td>\n",
       "      <td>57.3 %</td>\n",
       "      <td>AC View</td>\n",
       "    </tr>\n",
       "    <tr>\n",
       "      <th>18</th>\n",
       "      <td>1</td>\n",
       "      <td>Dhanush.M.Kumar</td>\n",
       "      <td>Tenkasi</td>\n",
       "      <td>Tamil Nadu</td>\n",
       "      <td>1472742</td>\n",
       "      <td>1065569</td>\n",
       "      <td>73.3 %</td>\n",
       "      <td>476156</td>\n",
       "      <td>45.3 %</td>\n",
       "      <td>AC View</td>\n",
       "    </tr>\n",
       "    <tr>\n",
       "      <th>19</th>\n",
       "      <td>1</td>\n",
       "      <td>Palanimanickam,s.S.</td>\n",
       "      <td>Thanjavur</td>\n",
       "      <td>Tamil Nadu</td>\n",
       "      <td>1443417</td>\n",
       "      <td>1059223</td>\n",
       "      <td>74.4 %</td>\n",
       "      <td>588978</td>\n",
       "      <td>56.4 %</td>\n",
       "      <td>AC View</td>\n",
       "    </tr>\n",
       "    <tr>\n",
       "      <th>20</th>\n",
       "      <td>1</td>\n",
       "      <td>Kanimozhi Karunanidhi</td>\n",
       "      <td>Thoothukkudi</td>\n",
       "      <td>Tamil Nadu</td>\n",
       "      <td>1402826</td>\n",
       "      <td>991263</td>\n",
       "      <td>71.3 %</td>\n",
       "      <td>563143</td>\n",
       "      <td>57.3 %</td>\n",
       "      <td>AC View</td>\n",
       "    </tr>\n",
       "    <tr>\n",
       "      <th>21</th>\n",
       "      <td>1</td>\n",
       "      <td>Gnanathiraviam S</td>\n",
       "      <td>Tirunelveli</td>\n",
       "      <td>Tamil Nadu</td>\n",
       "      <td>1526692</td>\n",
       "      <td>1039761</td>\n",
       "      <td>68.8 %</td>\n",
       "      <td>522623</td>\n",
       "      <td>50.8 %</td>\n",
       "      <td>AC View</td>\n",
       "    </tr>\n",
       "    <tr>\n",
       "      <th>22</th>\n",
       "      <td>1</td>\n",
       "      <td>Annadurai C N</td>\n",
       "      <td>Tiruvannamalai</td>\n",
       "      <td>Tamil Nadu</td>\n",
       "      <td>1431287</td>\n",
       "      <td>1151729</td>\n",
       "      <td>81.3 %</td>\n",
       "      <td>666272</td>\n",
       "      <td>58.5 %</td>\n",
       "      <td>AC View</td>\n",
       "    </tr>\n",
       "    <tr>\n",
       "      <th>23</th>\n",
       "      <td>1</td>\n",
       "      <td>Ravikumar D</td>\n",
       "      <td>Viluppuram</td>\n",
       "      <td>Tamil Nadu</td>\n",
       "      <td>1400389</td>\n",
       "      <td>1135540</td>\n",
       "      <td>81.9 %</td>\n",
       "      <td>559585</td>\n",
       "      <td>49.8 %</td>\n",
       "      <td>AC View</td>\n",
       "    </tr>\n",
       "  </tbody>\n",
       "</table>\n",
       "</div>"
      ],
      "text/plain": [
       "    Position                                Candidate         PC Name  \\\n",
       "#                                                                       \n",
       "1          1                       S. Jagathrakshakan       Arakkonam   \n",
       "2          1                          Dayanidhi Maran  Chennai Centra   \n",
       "3          1                 Dr. Kalanidhi Veeraswamy   Chennai North   \n",
       "4          1  T.Sumathy (A) THAMIZHACHI THANGAPANDIAN   Chennai South   \n",
       "5          1                       T. R. V .S. Ramesh       Cuddalore   \n",
       "6          1                     Dnv Senthilkumar. S.      Dharmapuri   \n",
       "7          1                             Velusamy, P.        Dindigul   \n",
       "8          1                          Ganeshamurthi A           Erode   \n",
       "9          1                     Gautham Sigamani Pon    Kallakurichi   \n",
       "10         1                                 Selvam.G    Kancheepuram   \n",
       "11         1                            Ramalingam. S  Mayiladuthurai   \n",
       "12         1                            Chinraj A.K.P        Namakkal   \n",
       "13         1                                 Raja, A.        Nilgiris   \n",
       "14         1                    Dr.Paarivendhar, T. R      Perambalur   \n",
       "15         1                     Shanmuga Sundaram. K        Pollachi   \n",
       "16         1                            Parthiban.S.R           Salem   \n",
       "17         1                               Baalu.T.R.   Sriperumbudur   \n",
       "18         1                          Dhanush.M.Kumar         Tenkasi   \n",
       "19         1                      Palanimanickam,s.S.       Thanjavur   \n",
       "20         1                    Kanimozhi Karunanidhi    Thoothukkudi   \n",
       "21         1                         Gnanathiraviam S     Tirunelveli   \n",
       "22         1                            Annadurai C N  Tiruvannamalai   \n",
       "23         1                              Ravikumar D      Viluppuram   \n",
       "\n",
       "         State  Electors    Votes Turnout  DMK Votes DMK Votes %      ACs  \n",
       "#                                                                          \n",
       "1   Tamil Nadu   1461110  1178060  81.5 %     672190      57.7 %  AC View  \n",
       "2   Tamil Nadu   1316388   785450  60.7 %     448911      58.2 %  AC View  \n",
       "3   Tamil Nadu   1444753   955545  67.2 %     590986      62.9 %  AC View  \n",
       "4   Tamil Nadu   1916378  1125857  59.6 %     564872      50.9 %  AC View  \n",
       "5   Tamil Nadu   1342320  1043202  78.4 %     522160      50.5 %  AC View  \n",
       "6   Tamil Nadu   1453257  1223205  85.1 %     574988      47.5 %  AC View  \n",
       "7   Tamil Nadu   1518633  1160046  77.3 %     746523      65.2 %  AC View  \n",
       "8   Tamil Nadu   1427534  1067863  75.8 %     563591      53.5 %  AC View  \n",
       "9   Tamil Nadu   1490339  1204375  81.6 %     721713      60.5 %  AC View  \n",
       "10  Tamil Nadu   1601060  1237612  78.7 %     684004      56.3 %  AC View  \n",
       "11  Tamil Nadu   1466813  1097243  75.4 %     599292      55.0 %  AC View  \n",
       "12  Tamil Nadu   1383282  1133774  83.1 %     626293      56.0 %  AC View  \n",
       "13  Tamil Nadu   1336480  1010719  77.0 %     547832      55.2 %  AC View  \n",
       "14  Tamil Nadu   1376502  1102767  80.9 %     683697      62.6 %  AC View  \n",
       "15  Tamil Nadu   1716498  1081875  63.9 %     554230      52.0 %  AC View  \n",
       "16  Tamil Nadu   1580013  1255459  80.5 %     606302      49.0 %  AC View  \n",
       "17  Tamil Nadu   2176499  1406782  65.7 %     793281      57.3 %  AC View  \n",
       "18  Tamil Nadu   1472742  1065569  73.3 %     476156      45.3 %  AC View  \n",
       "19  Tamil Nadu   1443417  1059223  74.4 %     588978      56.4 %  AC View  \n",
       "20  Tamil Nadu   1402826   991263  71.3 %     563143      57.3 %  AC View  \n",
       "21  Tamil Nadu   1526692  1039761  68.8 %     522623      50.8 %  AC View  \n",
       "22  Tamil Nadu   1431287  1151729  81.3 %     666272      58.5 %  AC View  \n",
       "23  Tamil Nadu   1400389  1135540  81.9 %     559585      49.8 %  AC View  "
      ]
     },
     "execution_count": 23,
     "metadata": {},
     "output_type": "execute_result"
    }
   ],
   "source": [
    "data1"
   ]
  },
  {
   "cell_type": "code",
   "execution_count": 24,
   "id": "efeed1f7",
   "metadata": {},
   "outputs": [
    {
     "name": "stdout",
     "output_type": "stream",
     "text": [
      "<class 'pandas.core.frame.DataFrame'>\n",
      "Int64Index: 21 entries, 1 to 21\n",
      "Data columns (total 10 columns):\n",
      " #   Column          Non-Null Count  Dtype \n",
      "---  ------          --------------  ----- \n",
      " 0   Position        21 non-null     int64 \n",
      " 1   Candidate       21 non-null     object\n",
      " 2   PC Name         21 non-null     object\n",
      " 3   State           21 non-null     object\n",
      " 4   Electors        21 non-null     int64 \n",
      " 5   Votes           21 non-null     int64 \n",
      " 6   Turnout         21 non-null     object\n",
      " 7   AIADMK Votes    21 non-null     int64 \n",
      " 8   AIADMK Votes %  21 non-null     object\n",
      " 9   ACs             21 non-null     object\n",
      "dtypes: int64(4), object(6)\n",
      "memory usage: 1.8+ KB\n"
     ]
    }
   ],
   "source": [
    "data.info()"
   ]
  },
  {
   "cell_type": "code",
   "execution_count": 25,
   "id": "d4199f0a",
   "metadata": {},
   "outputs": [
    {
     "name": "stdout",
     "output_type": "stream",
     "text": [
      "<class 'pandas.core.frame.DataFrame'>\n",
      "Int64Index: 23 entries, 1 to 23\n",
      "Data columns (total 10 columns):\n",
      " #   Column       Non-Null Count  Dtype \n",
      "---  ------       --------------  ----- \n",
      " 0   Position     23 non-null     int64 \n",
      " 1   Candidate    23 non-null     object\n",
      " 2   PC Name      23 non-null     object\n",
      " 3   State        23 non-null     object\n",
      " 4   Electors     23 non-null     int64 \n",
      " 5   Votes        23 non-null     int64 \n",
      " 6   Turnout      23 non-null     object\n",
      " 7   DMK Votes    23 non-null     int64 \n",
      " 8   DMK Votes %  23 non-null     object\n",
      " 9   ACs          23 non-null     object\n",
      "dtypes: int64(4), object(6)\n",
      "memory usage: 2.0+ KB\n"
     ]
    }
   ],
   "source": [
    "data1.info()"
   ]
  },
  {
   "cell_type": "code",
   "execution_count": 26,
   "id": "164d0bbb",
   "metadata": {},
   "outputs": [
    {
     "data": {
      "text/html": [
       "<div>\n",
       "<style scoped>\n",
       "    .dataframe tbody tr th:only-of-type {\n",
       "        vertical-align: middle;\n",
       "    }\n",
       "\n",
       "    .dataframe tbody tr th {\n",
       "        vertical-align: top;\n",
       "    }\n",
       "\n",
       "    .dataframe thead th {\n",
       "        text-align: right;\n",
       "    }\n",
       "</style>\n",
       "<table border=\"1\" class=\"dataframe\">\n",
       "  <thead>\n",
       "    <tr style=\"text-align: right;\">\n",
       "      <th></th>\n",
       "      <th>Position</th>\n",
       "      <th>Electors</th>\n",
       "      <th>Votes</th>\n",
       "      <th>AIADMK Votes</th>\n",
       "    </tr>\n",
       "  </thead>\n",
       "  <tbody>\n",
       "    <tr>\n",
       "      <th>count</th>\n",
       "      <td>21.000000</td>\n",
       "      <td>2.100000e+01</td>\n",
       "      <td>2.100000e+01</td>\n",
       "      <td>21.000000</td>\n",
       "    </tr>\n",
       "    <tr>\n",
       "      <th>mean</th>\n",
       "      <td>1.952381</td>\n",
       "      <td>1.520900e+06</td>\n",
       "      <td>1.126255e+06</td>\n",
       "      <td>372881.904762</td>\n",
       "    </tr>\n",
       "    <tr>\n",
       "      <th>std</th>\n",
       "      <td>0.218218</td>\n",
       "      <td>1.738758e+05</td>\n",
       "      <td>9.305606e+04</td>\n",
       "      <td>65755.484063</td>\n",
       "    </tr>\n",
       "    <tr>\n",
       "      <th>min</th>\n",
       "      <td>1.000000</td>\n",
       "      <td>1.292695e+06</td>\n",
       "      <td>1.002208e+06</td>\n",
       "      <td>275151.000000</td>\n",
       "    </tr>\n",
       "    <tr>\n",
       "      <th>25%</th>\n",
       "      <td>2.000000</td>\n",
       "      <td>1.407725e+06</td>\n",
       "      <td>1.067863e+06</td>\n",
       "      <td>337166.000000</td>\n",
       "    </tr>\n",
       "    <tr>\n",
       "      <th>50%</th>\n",
       "      <td>2.000000</td>\n",
       "      <td>1.472742e+06</td>\n",
       "      <td>1.119584e+06</td>\n",
       "      <td>361142.000000</td>\n",
       "    </tr>\n",
       "    <tr>\n",
       "      <th>75%</th>\n",
       "      <td>2.000000</td>\n",
       "      <td>1.580013e+06</td>\n",
       "      <td>1.153192e+06</td>\n",
       "      <td>410337.000000</td>\n",
       "    </tr>\n",
       "    <tr>\n",
       "      <th>max</th>\n",
       "      <td>2.000000</td>\n",
       "      <td>1.916378e+06</td>\n",
       "      <td>1.408189e+06</td>\n",
       "      <td>504813.000000</td>\n",
       "    </tr>\n",
       "  </tbody>\n",
       "</table>\n",
       "</div>"
      ],
      "text/plain": [
       "        Position      Electors         Votes   AIADMK Votes\n",
       "count  21.000000  2.100000e+01  2.100000e+01      21.000000\n",
       "mean    1.952381  1.520900e+06  1.126255e+06  372881.904762\n",
       "std     0.218218  1.738758e+05  9.305606e+04   65755.484063\n",
       "min     1.000000  1.292695e+06  1.002208e+06  275151.000000\n",
       "25%     2.000000  1.407725e+06  1.067863e+06  337166.000000\n",
       "50%     2.000000  1.472742e+06  1.119584e+06  361142.000000\n",
       "75%     2.000000  1.580013e+06  1.153192e+06  410337.000000\n",
       "max     2.000000  1.916378e+06  1.408189e+06  504813.000000"
      ]
     },
     "execution_count": 26,
     "metadata": {},
     "output_type": "execute_result"
    }
   ],
   "source": [
    "data.describe()"
   ]
  },
  {
   "cell_type": "code",
   "execution_count": 27,
   "id": "b41fe319",
   "metadata": {},
   "outputs": [
    {
     "data": {
      "text/html": [
       "<div>\n",
       "<style scoped>\n",
       "    .dataframe tbody tr th:only-of-type {\n",
       "        vertical-align: middle;\n",
       "    }\n",
       "\n",
       "    .dataframe tbody tr th {\n",
       "        vertical-align: top;\n",
       "    }\n",
       "\n",
       "    .dataframe thead th {\n",
       "        text-align: right;\n",
       "    }\n",
       "</style>\n",
       "<table border=\"1\" class=\"dataframe\">\n",
       "  <thead>\n",
       "    <tr style=\"text-align: right;\">\n",
       "      <th></th>\n",
       "      <th>Position</th>\n",
       "      <th>Electors</th>\n",
       "      <th>Votes</th>\n",
       "      <th>DMK Votes</th>\n",
       "    </tr>\n",
       "  </thead>\n",
       "  <tbody>\n",
       "    <tr>\n",
       "      <th>count</th>\n",
       "      <td>23.0</td>\n",
       "      <td>2.300000e+01</td>\n",
       "      <td>2.300000e+01</td>\n",
       "      <td>23.000000</td>\n",
       "    </tr>\n",
       "    <tr>\n",
       "      <th>mean</th>\n",
       "      <td>1.0</td>\n",
       "      <td>1.508053e+06</td>\n",
       "      <td>1.109257e+06</td>\n",
       "      <td>603374.869565</td>\n",
       "    </tr>\n",
       "    <tr>\n",
       "      <th>std</th>\n",
       "      <td>0.0</td>\n",
       "      <td>1.965027e+05</td>\n",
       "      <td>1.220009e+05</td>\n",
       "      <td>85062.281256</td>\n",
       "    </tr>\n",
       "    <tr>\n",
       "      <th>min</th>\n",
       "      <td>1.0</td>\n",
       "      <td>1.316388e+06</td>\n",
       "      <td>7.854500e+05</td>\n",
       "      <td>448911.000000</td>\n",
       "    </tr>\n",
       "    <tr>\n",
       "      <th>25%</th>\n",
       "      <td>1.0</td>\n",
       "      <td>1.401608e+06</td>\n",
       "      <td>1.051212e+06</td>\n",
       "      <td>556907.500000</td>\n",
       "    </tr>\n",
       "    <tr>\n",
       "      <th>50%</th>\n",
       "      <td>1.0</td>\n",
       "      <td>1.453257e+06</td>\n",
       "      <td>1.102767e+06</td>\n",
       "      <td>588978.000000</td>\n",
       "    </tr>\n",
       "    <tr>\n",
       "      <th>75%</th>\n",
       "      <td>1.0</td>\n",
       "      <td>1.522662e+06</td>\n",
       "      <td>1.169053e+06</td>\n",
       "      <td>669231.000000</td>\n",
       "    </tr>\n",
       "    <tr>\n",
       "      <th>max</th>\n",
       "      <td>1.0</td>\n",
       "      <td>2.176499e+06</td>\n",
       "      <td>1.406782e+06</td>\n",
       "      <td>793281.000000</td>\n",
       "    </tr>\n",
       "  </tbody>\n",
       "</table>\n",
       "</div>"
      ],
      "text/plain": [
       "       Position      Electors         Votes      DMK Votes\n",
       "count      23.0  2.300000e+01  2.300000e+01      23.000000\n",
       "mean        1.0  1.508053e+06  1.109257e+06  603374.869565\n",
       "std         0.0  1.965027e+05  1.220009e+05   85062.281256\n",
       "min         1.0  1.316388e+06  7.854500e+05  448911.000000\n",
       "25%         1.0  1.401608e+06  1.051212e+06  556907.500000\n",
       "50%         1.0  1.453257e+06  1.102767e+06  588978.000000\n",
       "75%         1.0  1.522662e+06  1.169053e+06  669231.000000\n",
       "max         1.0  2.176499e+06  1.406782e+06  793281.000000"
      ]
     },
     "execution_count": 27,
     "metadata": {},
     "output_type": "execute_result"
    }
   ],
   "source": [
    "data1.describe()"
   ]
  },
  {
   "cell_type": "code",
   "execution_count": 28,
   "id": "80993978",
   "metadata": {},
   "outputs": [
    {
     "data": {
      "text/plain": [
       "Position          0\n",
       "Candidate         0\n",
       "PC Name           0\n",
       "State             0\n",
       "Electors          0\n",
       "Votes             0\n",
       "Turnout           0\n",
       "AIADMK Votes      0\n",
       "AIADMK Votes %    0\n",
       "ACs               0\n",
       "dtype: int64"
      ]
     },
     "execution_count": 28,
     "metadata": {},
     "output_type": "execute_result"
    }
   ],
   "source": [
    "data.isnull().sum()"
   ]
  },
  {
   "cell_type": "code",
   "execution_count": 29,
   "id": "2427eadc",
   "metadata": {},
   "outputs": [
    {
     "data": {
      "text/plain": [
       "Position       0\n",
       "Candidate      0\n",
       "PC Name        0\n",
       "State          0\n",
       "Electors       0\n",
       "Votes          0\n",
       "Turnout        0\n",
       "DMK Votes      0\n",
       "DMK Votes %    0\n",
       "ACs            0\n",
       "dtype: int64"
      ]
     },
     "execution_count": 29,
     "metadata": {},
     "output_type": "execute_result"
    }
   ],
   "source": [
    "data1.isnull().sum()"
   ]
  },
  {
   "cell_type": "code",
   "execution_count": 30,
   "id": "855326e6",
   "metadata": {},
   "outputs": [
    {
     "data": {
      "text/plain": [
       "Index(['Position', 'Candidate', 'PC Name', 'State', 'Electors', 'Votes',\n",
       "       'Turnout', 'AIADMK Votes', 'AIADMK Votes %', 'ACs'],\n",
       "      dtype='object')"
      ]
     },
     "execution_count": 30,
     "metadata": {},
     "output_type": "execute_result"
    }
   ],
   "source": [
    "data.columns"
   ]
  },
  {
   "cell_type": "code",
   "execution_count": 31,
   "id": "0c5e9149",
   "metadata": {},
   "outputs": [
    {
     "data": {
      "text/plain": [
       "Index(['Position', 'Candidate', 'PC Name', 'State', 'Electors', 'Votes',\n",
       "       'Turnout', 'DMK Votes', 'DMK Votes %', 'ACs'],\n",
       "      dtype='object')"
      ]
     },
     "execution_count": 31,
     "metadata": {},
     "output_type": "execute_result"
    }
   ],
   "source": [
    "data1.columns"
   ]
  },
  {
   "cell_type": "code",
   "execution_count": 32,
   "id": "04782185",
   "metadata": {},
   "outputs": [],
   "source": [
    "# Queries and Answers"
   ]
  },
  {
   "cell_type": "markdown",
   "id": "85b52c37",
   "metadata": {},
   "source": [
    "## 1. What is the average vote of AIADMK ?"
   ]
  },
  {
   "cell_type": "code",
   "execution_count": 53,
   "id": "24e4a346",
   "metadata": {},
   "outputs": [
    {
     "data": {
      "text/plain": [
       "#\n",
       "1     504813\n",
       "2     386954\n",
       "3     302649\n",
       "4     497010\n",
       "5     352973\n",
       "6     397372\n",
       "7     275151\n",
       "8     454533\n",
       "9     307680\n",
       "10    337978\n",
       "11    311539\n",
       "12    361142\n",
       "13    342009\n",
       "14    280179\n",
       "15    378347\n",
       "16    459376\n",
       "17    355870\n",
       "18    410337\n",
       "19    337166\n",
       "20    415357\n",
       "21    362085\n",
       "Name: AIADMK Votes, dtype: int64"
      ]
     },
     "execution_count": 53,
     "metadata": {},
     "output_type": "execute_result"
    }
   ],
   "source": [
    "data['AIADMK Votes']"
   ]
  },
  {
   "cell_type": "code",
   "execution_count": 75,
   "id": "004be94f",
   "metadata": {},
   "outputs": [],
   "source": [
    "aiadmk_mean = data['AIADMK Votes'].mean()"
   ]
  },
  {
   "cell_type": "code",
   "execution_count": 76,
   "id": "9e94788f",
   "metadata": {},
   "outputs": [
    {
     "data": {
      "text/plain": [
       "372881.90476190473"
      ]
     },
     "execution_count": 76,
     "metadata": {},
     "output_type": "execute_result"
    }
   ],
   "source": [
    "aiadmk_mean"
   ]
  },
  {
   "cell_type": "code",
   "execution_count": 55,
   "id": "84e8e480",
   "metadata": {},
   "outputs": [],
   "source": [
    "# Manual"
   ]
  },
  {
   "cell_type": "code",
   "execution_count": 56,
   "id": "2e27d5bf",
   "metadata": {},
   "outputs": [],
   "source": [
    "sum = data['AIADMK Votes'].sum()"
   ]
  },
  {
   "cell_type": "code",
   "execution_count": 57,
   "id": "aa17e02c",
   "metadata": {},
   "outputs": [],
   "source": [
    "total = 21"
   ]
  },
  {
   "cell_type": "code",
   "execution_count": 58,
   "id": "759e3630",
   "metadata": {},
   "outputs": [],
   "source": [
    "mean = sum / total"
   ]
  },
  {
   "cell_type": "code",
   "execution_count": 59,
   "id": "d30701e6",
   "metadata": {},
   "outputs": [
    {
     "data": {
      "text/plain": [
       "372881.90476190473"
      ]
     },
     "execution_count": 59,
     "metadata": {},
     "output_type": "execute_result"
    }
   ],
   "source": [
    "mean"
   ]
  },
  {
   "cell_type": "markdown",
   "id": "6c662554",
   "metadata": {},
   "source": [
    "## 2. What is the average vote of DMK ?"
   ]
  },
  {
   "cell_type": "code",
   "execution_count": 37,
   "id": "2be249a2",
   "metadata": {},
   "outputs": [
    {
     "data": {
      "text/plain": [
       "Index(['Position', 'Candidate', 'PC Name', 'State', 'Electors', 'Votes',\n",
       "       'Turnout', 'DMK Votes', 'DMK Votes %', 'ACs'],\n",
       "      dtype='object')"
      ]
     },
     "execution_count": 37,
     "metadata": {},
     "output_type": "execute_result"
    }
   ],
   "source": [
    "data1.columns"
   ]
  },
  {
   "cell_type": "code",
   "execution_count": 52,
   "id": "0ddd422b",
   "metadata": {},
   "outputs": [
    {
     "data": {
      "text/plain": [
       "#\n",
       "1     672190\n",
       "2     448911\n",
       "3     590986\n",
       "4     564872\n",
       "5     522160\n",
       "6     574988\n",
       "7     746523\n",
       "8     563591\n",
       "9     721713\n",
       "10    684004\n",
       "11    599292\n",
       "12    626293\n",
       "13    547832\n",
       "14    683697\n",
       "15    554230\n",
       "16    606302\n",
       "17    793281\n",
       "18    476156\n",
       "19    588978\n",
       "20    563143\n",
       "21    522623\n",
       "22    666272\n",
       "23    559585\n",
       "Name: DMK Votes, dtype: int64"
      ]
     },
     "execution_count": 52,
     "metadata": {},
     "output_type": "execute_result"
    }
   ],
   "source": [
    "data1['DMK Votes']"
   ]
  },
  {
   "cell_type": "code",
   "execution_count": 73,
   "id": "c5740f9f",
   "metadata": {},
   "outputs": [],
   "source": [
    "dmk_mean = data1['DMK Votes'].mean()"
   ]
  },
  {
   "cell_type": "code",
   "execution_count": 74,
   "id": "ff36ed6a",
   "metadata": {},
   "outputs": [
    {
     "data": {
      "text/plain": [
       "603374.8695652174"
      ]
     },
     "execution_count": 74,
     "metadata": {},
     "output_type": "execute_result"
    }
   ],
   "source": [
    "dmk_mean"
   ]
  },
  {
   "cell_type": "code",
   "execution_count": 61,
   "id": "f39cbc7c",
   "metadata": {},
   "outputs": [],
   "source": [
    "# Manual"
   ]
  },
  {
   "cell_type": "code",
   "execution_count": 62,
   "id": "69056e37",
   "metadata": {},
   "outputs": [],
   "source": [
    "sum = data1['DMK Votes'].sum()"
   ]
  },
  {
   "cell_type": "code",
   "execution_count": 66,
   "id": "ad30f12d",
   "metadata": {},
   "outputs": [],
   "source": [
    "total = 23"
   ]
  },
  {
   "cell_type": "code",
   "execution_count": 67,
   "id": "7ded16e4",
   "metadata": {},
   "outputs": [],
   "source": [
    "mean = sum / total"
   ]
  },
  {
   "cell_type": "code",
   "execution_count": 68,
   "id": "c98cbefd",
   "metadata": {},
   "outputs": [
    {
     "data": {
      "text/plain": [
       "603374.8695652174"
      ]
     },
     "execution_count": 68,
     "metadata": {},
     "output_type": "execute_result"
    }
   ],
   "source": [
    "mean"
   ]
  },
  {
   "cell_type": "code",
   "execution_count": 81,
   "id": "8b46b0be",
   "metadata": {},
   "outputs": [
    {
     "data": {
      "image/png": "[encoded data removed]",
      "text/plain": [
       "<Figure size 576x432 with 1 Axes>"
      ]
     },
     "metadata": {
      "needs_background": "light"
     },
     "output_type": "display_data"
    }
   ],
   "source": [
    "import matplotlib.pyplot as plt\n",
    "\n",
    "plt.figure(figsize=(8, 6))\n",
    "plt.bar(['AIADMK Votes', 'DMK Votes'], [aiadmk_mean, dmk_mean])\n",
    "plt.title('Comparison of Mean Votes')\n",
    "plt.xlabel('Party')\n",
    "plt.ylabel('Mean Votes')\n",
    "plt.show()"
   ]
  },
  {
   "cell_type": "markdown",
   "id": "8df8744a",
   "metadata": {},
   "source": [
    "## 3) What is the overall average voter turnout in Tamil Nadu for AIADMK Party?"
   ]
  },
  {
   "cell_type": "code",
   "execution_count": 82,
   "id": "91d68552",
   "metadata": {},
   "outputs": [
    {
     "data": {
      "text/plain": [
       "Index(['Position', 'Candidate', 'PC Name', 'State', 'Electors', 'Votes',\n",
       "       'Turnout', 'AIADMK Votes', 'AIADMK Votes %', 'ACs'],\n",
       "      dtype='object')"
      ]
     },
     "execution_count": 82,
     "metadata": {},
     "output_type": "execute_result"
    }
   ],
   "source": [
    "data.columns"
   ]
  },
  {
   "cell_type": "code",
   "execution_count": 85,
   "id": "d488b27a",
   "metadata": {},
   "outputs": [],
   "source": [
    "# To convert into numeric"
   ]
  },
  {
   "cell_type": "code",
   "execution_count": 87,
   "id": "8db2d59a",
   "metadata": {},
   "outputs": [
    {
     "data": {
      "text/plain": [
       "#\n",
       "1    65.8 %\n",
       "2    82.5 %\n",
       "3    59.6 %\n",
       "4    80.1 %\n",
       "5    75.8 %\n",
       "Name: Turnout, dtype: object"
      ]
     },
     "execution_count": 87,
     "metadata": {},
     "output_type": "execute_result"
    }
   ],
   "source": [
    "data['Turnout'].head()"
   ]
  },
  {
   "cell_type": "code",
   "execution_count": 88,
   "id": "54a7213b",
   "metadata": {},
   "outputs": [],
   "source": [
    "data['Turnout'] = data['Turnout'].str.rstrip('%').astype('float')"
   ]
  },
  {
   "cell_type": "code",
   "execution_count": 89,
   "id": "d9a480c6",
   "metadata": {},
   "outputs": [
    {
     "data": {
      "text/plain": [
       "#\n",
       "1     65.8\n",
       "2     82.5\n",
       "3     59.6\n",
       "4     80.1\n",
       "5     75.8\n",
       "6     78.7\n",
       "7     81.5\n",
       "8     79.7\n",
       "9     67.8\n",
       "10    75.4\n",
       "11    78.3\n",
       "12    83.1\n",
       "13    77.0\n",
       "14    80.9\n",
       "15    63.9\n",
       "16    80.5\n",
       "17    73.3\n",
       "18    75.8\n",
       "19    68.8\n",
       "20    76.6\n",
       "21    81.3\n",
       "Name: Turnout, dtype: float64"
      ]
     },
     "execution_count": 89,
     "metadata": {},
     "output_type": "execute_result"
    }
   ],
   "source": [
    "data['Turnout']"
   ]
  },
  {
   "cell_type": "code",
   "execution_count": 99,
   "id": "d259fbe6",
   "metadata": {},
   "outputs": [],
   "source": [
    "aiadmk_turnout_mean = data['Turnout'].mean()"
   ]
  },
  {
   "cell_type": "code",
   "execution_count": 100,
   "id": "430aa235",
   "metadata": {},
   "outputs": [
    {
     "data": {
      "text/plain": [
       "372881.90476190473"
      ]
     },
     "execution_count": 100,
     "metadata": {},
     "output_type": "execute_result"
    }
   ],
   "source": [
    "aiadmk_mean"
   ]
  },
  {
   "cell_type": "code",
   "execution_count": 93,
   "id": "4f0fc7d2",
   "metadata": {},
   "outputs": [
    {
     "data": {
      "text/html": [
       "<div>\n",
       "<style scoped>\n",
       "    .dataframe tbody tr th:only-of-type {\n",
       "        vertical-align: middle;\n",
       "    }\n",
       "\n",
       "    .dataframe tbody tr th {\n",
       "        vertical-align: top;\n",
       "    }\n",
       "\n",
       "    .dataframe thead th {\n",
       "        text-align: right;\n",
       "    }\n",
       "</style>\n",
       "<table border=\"1\" class=\"dataframe\">\n",
       "  <thead>\n",
       "    <tr style=\"text-align: right;\">\n",
       "      <th></th>\n",
       "      <th>Position</th>\n",
       "      <th>Electors</th>\n",
       "      <th>Votes</th>\n",
       "      <th>Turnout</th>\n",
       "      <th>AIADMK Votes</th>\n",
       "    </tr>\n",
       "  </thead>\n",
       "  <tbody>\n",
       "    <tr>\n",
       "      <th>count</th>\n",
       "      <td>21.000000</td>\n",
       "      <td>2.100000e+01</td>\n",
       "      <td>2.100000e+01</td>\n",
       "      <td>21.000000</td>\n",
       "      <td>21.000000</td>\n",
       "    </tr>\n",
       "    <tr>\n",
       "      <th>mean</th>\n",
       "      <td>1.952381</td>\n",
       "      <td>1.520900e+06</td>\n",
       "      <td>1.126255e+06</td>\n",
       "      <td>75.542857</td>\n",
       "      <td>372881.904762</td>\n",
       "    </tr>\n",
       "    <tr>\n",
       "      <th>std</th>\n",
       "      <td>0.218218</td>\n",
       "      <td>1.738758e+05</td>\n",
       "      <td>9.305606e+04</td>\n",
       "      <td>6.639019</td>\n",
       "      <td>65755.484063</td>\n",
       "    </tr>\n",
       "    <tr>\n",
       "      <th>min</th>\n",
       "      <td>1.000000</td>\n",
       "      <td>1.292695e+06</td>\n",
       "      <td>1.002208e+06</td>\n",
       "      <td>59.600000</td>\n",
       "      <td>275151.000000</td>\n",
       "    </tr>\n",
       "    <tr>\n",
       "      <th>25%</th>\n",
       "      <td>2.000000</td>\n",
       "      <td>1.407725e+06</td>\n",
       "      <td>1.067863e+06</td>\n",
       "      <td>73.300000</td>\n",
       "      <td>337166.000000</td>\n",
       "    </tr>\n",
       "    <tr>\n",
       "      <th>50%</th>\n",
       "      <td>2.000000</td>\n",
       "      <td>1.472742e+06</td>\n",
       "      <td>1.119584e+06</td>\n",
       "      <td>77.000000</td>\n",
       "      <td>361142.000000</td>\n",
       "    </tr>\n",
       "    <tr>\n",
       "      <th>75%</th>\n",
       "      <td>2.000000</td>\n",
       "      <td>1.580013e+06</td>\n",
       "      <td>1.153192e+06</td>\n",
       "      <td>80.500000</td>\n",
       "      <td>410337.000000</td>\n",
       "    </tr>\n",
       "    <tr>\n",
       "      <th>max</th>\n",
       "      <td>2.000000</td>\n",
       "      <td>1.916378e+06</td>\n",
       "      <td>1.408189e+06</td>\n",
       "      <td>83.100000</td>\n",
       "      <td>504813.000000</td>\n",
       "    </tr>\n",
       "  </tbody>\n",
       "</table>\n",
       "</div>"
      ],
      "text/plain": [
       "        Position      Electors         Votes    Turnout   AIADMK Votes\n",
       "count  21.000000  2.100000e+01  2.100000e+01  21.000000      21.000000\n",
       "mean    1.952381  1.520900e+06  1.126255e+06  75.542857  372881.904762\n",
       "std     0.218218  1.738758e+05  9.305606e+04   6.639019   65755.484063\n",
       "min     1.000000  1.292695e+06  1.002208e+06  59.600000  275151.000000\n",
       "25%     2.000000  1.407725e+06  1.067863e+06  73.300000  337166.000000\n",
       "50%     2.000000  1.472742e+06  1.119584e+06  77.000000  361142.000000\n",
       "75%     2.000000  1.580013e+06  1.153192e+06  80.500000  410337.000000\n",
       "max     2.000000  1.916378e+06  1.408189e+06  83.100000  504813.000000"
      ]
     },
     "execution_count": 93,
     "metadata": {},
     "output_type": "execute_result"
    }
   ],
   "source": [
    "data.describe()"
   ]
  },
  {
   "cell_type": "markdown",
   "id": "d372362f",
   "metadata": {},
   "source": [
    "## 4) What is the overall average voter turnout in Tamil Nadu for DMK Party?"
   ]
  },
  {
   "cell_type": "code",
   "execution_count": 94,
   "id": "4a7320f4",
   "metadata": {},
   "outputs": [
    {
     "data": {
      "text/plain": [
       "#\n",
       "1     81.5 %\n",
       "2     60.7 %\n",
       "3     67.2 %\n",
       "4     59.6 %\n",
       "5     78.4 %\n",
       "6     85.1 %\n",
       "7     77.3 %\n",
       "8     75.8 %\n",
       "9     81.6 %\n",
       "10    78.7 %\n",
       "11    75.4 %\n",
       "12    83.1 %\n",
       "13    77.0 %\n",
       "14    80.9 %\n",
       "15    63.9 %\n",
       "16    80.5 %\n",
       "17    65.7 %\n",
       "18    73.3 %\n",
       "19    74.4 %\n",
       "20    71.3 %\n",
       "21    68.8 %\n",
       "22    81.3 %\n",
       "23    81.9 %\n",
       "Name: Turnout, dtype: object"
      ]
     },
     "execution_count": 94,
     "metadata": {},
     "output_type": "execute_result"
    }
   ],
   "source": [
    "data1['Turnout']"
   ]
  },
  {
   "cell_type": "code",
   "execution_count": 96,
   "id": "e55fb872",
   "metadata": {},
   "outputs": [],
   "source": [
    "data1['Turnout'] = data1['Turnout'].str.rstrip('%').astype('float')"
   ]
  },
  {
   "cell_type": "code",
   "execution_count": 97,
   "id": "f1628aa9",
   "metadata": {},
   "outputs": [
    {
     "data": {
      "text/plain": [
       "#\n",
       "1     81.5\n",
       "2     60.7\n",
       "3     67.2\n",
       "4     59.6\n",
       "5     78.4\n",
       "6     85.1\n",
       "7     77.3\n",
       "8     75.8\n",
       "9     81.6\n",
       "10    78.7\n",
       "11    75.4\n",
       "12    83.1\n",
       "13    77.0\n",
       "14    80.9\n",
       "15    63.9\n",
       "16    80.5\n",
       "17    65.7\n",
       "18    73.3\n",
       "19    74.4\n",
       "20    71.3\n",
       "21    68.8\n",
       "22    81.3\n",
       "23    81.9\n",
       "Name: Turnout, dtype: float64"
      ]
     },
     "execution_count": 97,
     "metadata": {},
     "output_type": "execute_result"
    }
   ],
   "source": [
    "data1['Turnout']"
   ]
  },
  {
   "cell_type": "code",
   "execution_count": 101,
   "id": "1783c0eb",
   "metadata": {},
   "outputs": [],
   "source": [
    "dmk_turnout_mean = data1['Turnout'].mean()"
   ]
  },
  {
   "cell_type": "code",
   "execution_count": 102,
   "id": "b98b39c7",
   "metadata": {},
   "outputs": [
    {
     "data": {
      "text/plain": [
       "74.93043478260871"
      ]
     },
     "execution_count": 102,
     "metadata": {},
     "output_type": "execute_result"
    }
   ],
   "source": [
    "dmk_turnout_mean"
   ]
  },
  {
   "cell_type": "markdown",
   "id": "49c2624a",
   "metadata": {},
   "source": [
    "## 5) Compare this two parties average turnout"
   ]
  },
  {
   "cell_type": "code",
   "execution_count": 113,
   "id": "d12ef242",
   "metadata": {},
   "outputs": [
    {
     "data": {
      "image/png": "[encoded data removed]",
      "text/plain": [
       "<Figure size 576x432 with 1 Axes>"
      ]
     },
     "metadata": {
      "needs_background": "light"
     },
     "output_type": "display_data"
    }
   ],
   "source": [
    "plt.figure(figsize = (8,6))\n",
    "plt.bar(['AIADMK', 'DMK'], [aiadmk_turnout_mean, dmk_turnout_mean],color=['blue', 'red'],alpha=0.5)\n",
    "plt.xlabel('Party')\n",
    "plt.ylabel('Turnout')\n",
    "plt.title('Comparison of Voter Turnout between AIADMK and DMK')\n",
    "plt.show()"
   ]
  },
  {
   "cell_type": "markdown",
   "id": "dc6a5990",
   "metadata": {},
   "source": [
    "## 6) Which parliamentary constituency had the highest voter turnout? And the lowest?"
   ]
  },
  {
   "cell_type": "code",
   "execution_count": 133,
   "id": "3bd3cc26",
   "metadata": {},
   "outputs": [],
   "source": [
    "# AIADMK"
   ]
  },
  {
   "cell_type": "code",
   "execution_count": 116,
   "id": "237732a5",
   "metadata": {},
   "outputs": [
    {
     "data": {
      "text/plain": [
       "Index(['Position', 'Candidate', 'PC Name', 'State', 'Electors', 'Votes',\n",
       "       'Turnout', 'AIADMK Votes', 'AIADMK Votes %', 'ACs'],\n",
       "      dtype='object')"
      ]
     },
     "execution_count": 116,
     "metadata": {},
     "output_type": "execute_result"
    }
   ],
   "source": [
    "data.columns"
   ]
  },
  {
   "cell_type": "code",
   "execution_count": 117,
   "id": "2d8f6b90",
   "metadata": {},
   "outputs": [
    {
     "data": {
      "text/plain": [
       "#\n",
       "1              Theni\n",
       "2              Arani\n",
       "3      Chennai South\n",
       "4        Chidambaram\n",
       "5              Erode\n",
       "6       Kancheepuram\n",
       "7              Karur\n",
       "8        Krishnagiri\n",
       "9            Madurai\n",
       "10    Mayiladuthurai\n",
       "11      Nagapattinam\n",
       "12          Namakkal\n",
       "13          Nilgiris\n",
       "14        Perambalur\n",
       "15          Pollachi\n",
       "16             Salem\n",
       "17           Tenkasi\n",
       "18       Thiruvallur\n",
       "19       Tirunelveli\n",
       "20          Tiruppur\n",
       "21    Tiruvannamalai\n",
       "Name: PC Name, dtype: object"
      ]
     },
     "execution_count": 117,
     "metadata": {},
     "output_type": "execute_result"
    }
   ],
   "source": [
    "data['PC Name']"
   ]
  },
  {
   "cell_type": "code",
   "execution_count": 119,
   "id": "3b9fa710",
   "metadata": {},
   "outputs": [
    {
     "data": {
      "text/html": [
       "<div>\n",
       "<style scoped>\n",
       "    .dataframe tbody tr th:only-of-type {\n",
       "        vertical-align: middle;\n",
       "    }\n",
       "\n",
       "    .dataframe tbody tr th {\n",
       "        vertical-align: top;\n",
       "    }\n",
       "\n",
       "    .dataframe thead th {\n",
       "        text-align: right;\n",
       "    }\n",
       "</style>\n",
       "<table border=\"1\" class=\"dataframe\">\n",
       "  <thead>\n",
       "    <tr style=\"text-align: right;\">\n",
       "      <th></th>\n",
       "      <th>Position</th>\n",
       "      <th>Candidate</th>\n",
       "      <th>PC Name</th>\n",
       "      <th>State</th>\n",
       "      <th>Electors</th>\n",
       "      <th>Votes</th>\n",
       "      <th>Turnout</th>\n",
       "      <th>AIADMK Votes</th>\n",
       "      <th>AIADMK Votes %</th>\n",
       "      <th>ACs</th>\n",
       "    </tr>\n",
       "    <tr>\n",
       "      <th>#</th>\n",
       "      <th></th>\n",
       "      <th></th>\n",
       "      <th></th>\n",
       "      <th></th>\n",
       "      <th></th>\n",
       "      <th></th>\n",
       "      <th></th>\n",
       "      <th></th>\n",
       "      <th></th>\n",
       "      <th></th>\n",
       "    </tr>\n",
       "  </thead>\n",
       "  <tbody>\n",
       "    <tr>\n",
       "      <th>1</th>\n",
       "      <td>1</td>\n",
       "      <td>Raveendranath Kumar, P</td>\n",
       "      <td>Theni</td>\n",
       "      <td>Tamil Nadu</td>\n",
       "      <td>1800597</td>\n",
       "      <td>1173489</td>\n",
       "      <td>65.8</td>\n",
       "      <td>504813</td>\n",
       "      <td>43.4 %</td>\n",
       "      <td>AC View</td>\n",
       "    </tr>\n",
       "    <tr>\n",
       "      <th>2</th>\n",
       "      <td>2</td>\n",
       "      <td>Elumalai V</td>\n",
       "      <td>Arani</td>\n",
       "      <td>Tamil Nadu</td>\n",
       "      <td>1407725</td>\n",
       "      <td>1143907</td>\n",
       "      <td>82.5</td>\n",
       "      <td>386954</td>\n",
       "      <td>34.3 %</td>\n",
       "      <td>AC View</td>\n",
       "    </tr>\n",
       "    <tr>\n",
       "      <th>3</th>\n",
       "      <td>2</td>\n",
       "      <td>Dr.J.Jayavardhan</td>\n",
       "      <td>Chennai South</td>\n",
       "      <td>Tamil Nadu</td>\n",
       "      <td>1916378</td>\n",
       "      <td>1125857</td>\n",
       "      <td>59.6</td>\n",
       "      <td>302649</td>\n",
       "      <td>27.3 %</td>\n",
       "      <td>AC View</td>\n",
       "    </tr>\n",
       "    <tr>\n",
       "      <th>4</th>\n",
       "      <td>2</td>\n",
       "      <td>Chandrasekar P</td>\n",
       "      <td>Chidambaram</td>\n",
       "      <td>Tamil Nadu</td>\n",
       "      <td>1459769</td>\n",
       "      <td>1153192</td>\n",
       "      <td>80.1</td>\n",
       "      <td>497010</td>\n",
       "      <td>43.7 %</td>\n",
       "      <td>AC View</td>\n",
       "    </tr>\n",
       "    <tr>\n",
       "      <th>5</th>\n",
       "      <td>2</td>\n",
       "      <td>Manimaran G</td>\n",
       "      <td>Erode</td>\n",
       "      <td>Tamil Nadu</td>\n",
       "      <td>1427534</td>\n",
       "      <td>1067863</td>\n",
       "      <td>75.8</td>\n",
       "      <td>352973</td>\n",
       "      <td>33.5 %</td>\n",
       "      <td>AC View</td>\n",
       "    </tr>\n",
       "  </tbody>\n",
       "</table>\n",
       "</div>"
      ],
      "text/plain": [
       "   Position               Candidate        PC Name       State  Electors  \\\n",
       "#                                                                          \n",
       "1         1  Raveendranath Kumar, P          Theni  Tamil Nadu   1800597   \n",
       "2         2              Elumalai V          Arani  Tamil Nadu   1407725   \n",
       "3         2        Dr.J.Jayavardhan  Chennai South  Tamil Nadu   1916378   \n",
       "4         2          Chandrasekar P    Chidambaram  Tamil Nadu   1459769   \n",
       "5         2             Manimaran G          Erode  Tamil Nadu   1427534   \n",
       "\n",
       "     Votes  Turnout  AIADMK Votes AIADMK Votes %      ACs  \n",
       "#                                                          \n",
       "1  1173489     65.8        504813         43.4 %  AC View  \n",
       "2  1143907     82.5        386954         34.3 %  AC View  \n",
       "3  1125857     59.6        302649         27.3 %  AC View  \n",
       "4  1153192     80.1        497010         43.7 %  AC View  \n",
       "5  1067863     75.8        352973         33.5 %  AC View  "
      ]
     },
     "execution_count": 119,
     "metadata": {},
     "output_type": "execute_result"
    }
   ],
   "source": [
    "data.head()"
   ]
  },
  {
   "cell_type": "code",
   "execution_count": 150,
   "id": "b71afba6",
   "metadata": {},
   "outputs": [],
   "source": [
    "highest_turnout_constituency_admk = data.loc[data['Turnout'].idxmax()]['PC Name']"
   ]
  },
  {
   "cell_type": "code",
   "execution_count": 151,
   "id": "a4535941",
   "metadata": {},
   "outputs": [
    {
     "data": {
      "text/plain": [
       "'Namakkal'"
      ]
     },
     "execution_count": 151,
     "metadata": {},
     "output_type": "execute_result"
    }
   ],
   "source": [
    "highest_turnout_constituency_admk"
   ]
  },
  {
   "cell_type": "code",
   "execution_count": 152,
   "id": "91f9639e",
   "metadata": {},
   "outputs": [],
   "source": [
    "highest_turnout_value_admk = data['Turnout'].max()"
   ]
  },
  {
   "cell_type": "code",
   "execution_count": 153,
   "id": "e01694ce",
   "metadata": {},
   "outputs": [
    {
     "data": {
      "text/plain": [
       "83.1"
      ]
     },
     "execution_count": 153,
     "metadata": {},
     "output_type": "execute_result"
    }
   ],
   "source": [
    "highest_turnout_value_admk"
   ]
  },
  {
   "cell_type": "code",
   "execution_count": 154,
   "id": "bac58e33",
   "metadata": {},
   "outputs": [],
   "source": [
    "lowest_turnout_constituency_admk = data.loc[data['Turnout'].idxmin()]['PC Name']"
   ]
  },
  {
   "cell_type": "code",
   "execution_count": 155,
   "id": "4b832070",
   "metadata": {},
   "outputs": [
    {
     "data": {
      "text/plain": [
       "'Chennai South'"
      ]
     },
     "execution_count": 155,
     "metadata": {},
     "output_type": "execute_result"
    }
   ],
   "source": [
    "lowest_turnout_constituency_admk"
   ]
  },
  {
   "cell_type": "code",
   "execution_count": 156,
   "id": "f183c115",
   "metadata": {},
   "outputs": [],
   "source": [
    "lowest_turnout_value_admk = data['Turnout'].min()"
   ]
  },
  {
   "cell_type": "code",
   "execution_count": 157,
   "id": "a6fc55fc",
   "metadata": {},
   "outputs": [
    {
     "data": {
      "text/plain": [
       "59.6"
      ]
     },
     "execution_count": 157,
     "metadata": {},
     "output_type": "execute_result"
    }
   ],
   "source": [
    "lowest_turnout_value_admk"
   ]
  },
  {
   "cell_type": "code",
   "execution_count": 134,
   "id": "f19baa1f",
   "metadata": {},
   "outputs": [],
   "source": [
    "# DMK"
   ]
  },
  {
   "cell_type": "code",
   "execution_count": 158,
   "id": "03684814",
   "metadata": {},
   "outputs": [],
   "source": [
    "highest_turnout_constituency_dmk = data1.loc[data['Turnout'].idxmax()]['PC Name']"
   ]
  },
  {
   "cell_type": "code",
   "execution_count": 159,
   "id": "8a77b6fc",
   "metadata": {},
   "outputs": [
    {
     "data": {
      "text/plain": [
       "'Namakkal'"
      ]
     },
     "execution_count": 159,
     "metadata": {},
     "output_type": "execute_result"
    }
   ],
   "source": [
    "highest_turnout_constituency_dmk"
   ]
  },
  {
   "cell_type": "code",
   "execution_count": 160,
   "id": "eb90faa8",
   "metadata": {},
   "outputs": [],
   "source": [
    "highest_turnout_value_dmk = data1['Turnout'].max()"
   ]
  },
  {
   "cell_type": "code",
   "execution_count": 161,
   "id": "12cba5c2",
   "metadata": {},
   "outputs": [
    {
     "data": {
      "text/plain": [
       "85.1"
      ]
     },
     "execution_count": 161,
     "metadata": {},
     "output_type": "execute_result"
    }
   ],
   "source": [
    "highest_turnout_value_dmk"
   ]
  },
  {
   "cell_type": "code",
   "execution_count": 162,
   "id": "cfac8b67",
   "metadata": {},
   "outputs": [],
   "source": [
    "lowest_turnout_constituency_dmk = data.loc[data1['Turnout'].idxmin()]['PC Name']"
   ]
  },
  {
   "cell_type": "code",
   "execution_count": 163,
   "id": "0edacf57",
   "metadata": {},
   "outputs": [
    {
     "data": {
      "text/plain": [
       "'Chidambaram'"
      ]
     },
     "execution_count": 163,
     "metadata": {},
     "output_type": "execute_result"
    }
   ],
   "source": [
    "lowest_turnout_constituency_dmk"
   ]
  },
  {
   "cell_type": "code",
   "execution_count": 164,
   "id": "920dd0d5",
   "metadata": {},
   "outputs": [],
   "source": [
    "lowest_turnout_value_dmk = data1['Turnout'].min()"
   ]
  },
  {
   "cell_type": "code",
   "execution_count": 165,
   "id": "08571ed6",
   "metadata": {},
   "outputs": [
    {
     "data": {
      "text/plain": [
       "59.6"
      ]
     },
     "execution_count": 165,
     "metadata": {},
     "output_type": "execute_result"
    }
   ],
   "source": [
    "lowest_turnout_value_dmk"
   ]
  },
  {
   "cell_type": "code",
   "execution_count": 149,
   "id": "6c10cc04",
   "metadata": {},
   "outputs": [],
   "source": [
    "# AIADMK"
   ]
  },
  {
   "cell_type": "code",
   "execution_count": 167,
   "id": "4f9bae03",
   "metadata": {},
   "outputs": [
    {
     "name": "stdout",
     "output_type": "stream",
     "text": [
      "Namakkal\n",
      "83.1\n"
     ]
    }
   ],
   "source": [
    "print(highest_turnout_constituency_admk)\n",
    "print(highest_turnout_value_admk)"
   ]
  },
  {
   "cell_type": "code",
   "execution_count": 168,
   "id": "d4837dd8",
   "metadata": {},
   "outputs": [
    {
     "name": "stdout",
     "output_type": "stream",
     "text": [
      "Chennai South\n",
      "59.6\n"
     ]
    }
   ],
   "source": [
    "print(lowest_turnout_constituency_admk)\n",
    "print(lowest_turnout_value_admk)"
   ]
  },
  {
   "cell_type": "code",
   "execution_count": 169,
   "id": "51ba199c",
   "metadata": {},
   "outputs": [],
   "source": [
    "# DMK"
   ]
  },
  {
   "cell_type": "code",
   "execution_count": 170,
   "id": "9ecab83f",
   "metadata": {},
   "outputs": [
    {
     "name": "stdout",
     "output_type": "stream",
     "text": [
      "Namakkal\n",
      "85.1\n"
     ]
    }
   ],
   "source": [
    "print(highest_turnout_constituency_dmk)\n",
    "print(highest_turnout_value_dmk)"
   ]
  },
  {
   "cell_type": "code",
   "execution_count": 171,
   "id": "3c30620b",
   "metadata": {},
   "outputs": [
    {
     "name": "stdout",
     "output_type": "stream",
     "text": [
      "Chidambaram\n",
      "59.6\n"
     ]
    }
   ],
   "source": [
    "print(lowest_turnout_constituency_dmk)\n",
    "print(lowest_turnout_value_dmk)"
   ]
  },
  {
   "cell_type": "code",
   "execution_count": 185,
   "id": "cef6a4ab",
   "metadata": {},
   "outputs": [
    {
     "data": {
      "image/png": "[encoded data removed]",
      "text/plain": [
       "<Figure size 576x432 with 1 Axes>"
      ]
     },
     "metadata": {
      "needs_background": "light"
     },
     "output_type": "display_data"
    }
   ],
   "source": [
    "plt.figure(figsize = (8,6))\n",
    "plt.bar(['AIADMK','DMK'],[highest_turnout_value_admk, highest_turnout_value_dmk],color=['red','blue'],label=['AIADMK', 'DMK'])\n",
    "plt.xlabel('Party')\n",
    "plt.ylabel('Turnout')\n",
    "plt.show()"
   ]
  },
  {
   "cell_type": "markdown",
   "id": "1f9f7586",
   "metadata": {},
   "source": [
    "## 6) Is there any correlation between voter turnout and the number of electors in a constituency?"
   ]
  },
  {
   "cell_type": "code",
   "execution_count": 229,
   "id": "12425257",
   "metadata": {},
   "outputs": [],
   "source": [
    "# ADMK"
   ]
  },
  {
   "cell_type": "code",
   "execution_count": 172,
   "id": "7eee2e2a",
   "metadata": {},
   "outputs": [
    {
     "data": {
      "text/plain": [
       "Index(['Position', 'Candidate', 'PC Name', 'State', 'Electors', 'Votes',\n",
       "       'Turnout', 'AIADMK Votes', 'AIADMK Votes %', 'ACs'],\n",
       "      dtype='object')"
      ]
     },
     "execution_count": 172,
     "metadata": {},
     "output_type": "execute_result"
    }
   ],
   "source": [
    "data.columns"
   ]
  },
  {
   "cell_type": "code",
   "execution_count": 174,
   "id": "482fb8e3",
   "metadata": {},
   "outputs": [
    {
     "data": {
      "text/html": [
       "<div>\n",
       "<style scoped>\n",
       "    .dataframe tbody tr th:only-of-type {\n",
       "        vertical-align: middle;\n",
       "    }\n",
       "\n",
       "    .dataframe tbody tr th {\n",
       "        vertical-align: top;\n",
       "    }\n",
       "\n",
       "    .dataframe thead th {\n",
       "        text-align: right;\n",
       "    }\n",
       "</style>\n",
       "<table border=\"1\" class=\"dataframe\">\n",
       "  <thead>\n",
       "    <tr style=\"text-align: right;\">\n",
       "      <th></th>\n",
       "      <th>Turnout</th>\n",
       "      <th>Electors</th>\n",
       "    </tr>\n",
       "    <tr>\n",
       "      <th>#</th>\n",
       "      <th></th>\n",
       "      <th></th>\n",
       "    </tr>\n",
       "  </thead>\n",
       "  <tbody>\n",
       "    <tr>\n",
       "      <th>1</th>\n",
       "      <td>65.8</td>\n",
       "      <td>1800597</td>\n",
       "    </tr>\n",
       "    <tr>\n",
       "      <th>2</th>\n",
       "      <td>82.5</td>\n",
       "      <td>1407725</td>\n",
       "    </tr>\n",
       "    <tr>\n",
       "      <th>3</th>\n",
       "      <td>59.6</td>\n",
       "      <td>1916378</td>\n",
       "    </tr>\n",
       "    <tr>\n",
       "      <th>4</th>\n",
       "      <td>80.1</td>\n",
       "      <td>1459769</td>\n",
       "    </tr>\n",
       "    <tr>\n",
       "      <th>5</th>\n",
       "      <td>75.8</td>\n",
       "      <td>1427534</td>\n",
       "    </tr>\n",
       "    <tr>\n",
       "      <th>6</th>\n",
       "      <td>78.7</td>\n",
       "      <td>1601060</td>\n",
       "    </tr>\n",
       "    <tr>\n",
       "      <th>7</th>\n",
       "      <td>81.5</td>\n",
       "      <td>1365804</td>\n",
       "    </tr>\n",
       "    <tr>\n",
       "      <th>8</th>\n",
       "      <td>79.7</td>\n",
       "      <td>1482269</td>\n",
       "    </tr>\n",
       "    <tr>\n",
       "      <th>9</th>\n",
       "      <td>67.8</td>\n",
       "      <td>1521452</td>\n",
       "    </tr>\n",
       "    <tr>\n",
       "      <th>10</th>\n",
       "      <td>75.4</td>\n",
       "      <td>1466813</td>\n",
       "    </tr>\n",
       "    <tr>\n",
       "      <th>11</th>\n",
       "      <td>78.3</td>\n",
       "      <td>1292695</td>\n",
       "    </tr>\n",
       "    <tr>\n",
       "      <th>12</th>\n",
       "      <td>83.1</td>\n",
       "      <td>1383282</td>\n",
       "    </tr>\n",
       "    <tr>\n",
       "      <th>13</th>\n",
       "      <td>77.0</td>\n",
       "      <td>1336480</td>\n",
       "    </tr>\n",
       "    <tr>\n",
       "      <th>14</th>\n",
       "      <td>80.9</td>\n",
       "      <td>1376502</td>\n",
       "    </tr>\n",
       "    <tr>\n",
       "      <th>15</th>\n",
       "      <td>63.9</td>\n",
       "      <td>1716498</td>\n",
       "    </tr>\n",
       "    <tr>\n",
       "      <th>16</th>\n",
       "      <td>80.5</td>\n",
       "      <td>1580013</td>\n",
       "    </tr>\n",
       "    <tr>\n",
       "      <th>17</th>\n",
       "      <td>73.3</td>\n",
       "      <td>1472742</td>\n",
       "    </tr>\n",
       "    <tr>\n",
       "      <th>18</th>\n",
       "      <td>75.8</td>\n",
       "      <td>1882738</td>\n",
       "    </tr>\n",
       "    <tr>\n",
       "      <th>19</th>\n",
       "      <td>68.8</td>\n",
       "      <td>1526692</td>\n",
       "    </tr>\n",
       "    <tr>\n",
       "      <th>20</th>\n",
       "      <td>76.6</td>\n",
       "      <td>1490562</td>\n",
       "    </tr>\n",
       "    <tr>\n",
       "      <th>21</th>\n",
       "      <td>81.3</td>\n",
       "      <td>1431287</td>\n",
       "    </tr>\n",
       "  </tbody>\n",
       "</table>\n",
       "</div>"
      ],
      "text/plain": [
       "    Turnout  Electors\n",
       "#                    \n",
       "1      65.8   1800597\n",
       "2      82.5   1407725\n",
       "3      59.6   1916378\n",
       "4      80.1   1459769\n",
       "5      75.8   1427534\n",
       "6      78.7   1601060\n",
       "7      81.5   1365804\n",
       "8      79.7   1482269\n",
       "9      67.8   1521452\n",
       "10     75.4   1466813\n",
       "11     78.3   1292695\n",
       "12     83.1   1383282\n",
       "13     77.0   1336480\n",
       "14     80.9   1376502\n",
       "15     63.9   1716498\n",
       "16     80.5   1580013\n",
       "17     73.3   1472742\n",
       "18     75.8   1882738\n",
       "19     68.8   1526692\n",
       "20     76.6   1490562\n",
       "21     81.3   1431287"
      ]
     },
     "execution_count": 174,
     "metadata": {},
     "output_type": "execute_result"
    }
   ],
   "source": [
    "data[['Turnout','Electors']]"
   ]
  },
  {
   "cell_type": "code",
   "execution_count": 186,
   "id": "aa74656b",
   "metadata": {},
   "outputs": [],
   "source": [
    "correlation = data['Turnout'].corr(data['Electors'])"
   ]
  },
  {
   "cell_type": "code",
   "execution_count": 187,
   "id": "3ce9fc6a",
   "metadata": {},
   "outputs": [
    {
     "data": {
      "text/plain": [
       "-0.6943132696154"
      ]
     },
     "execution_count": 187,
     "metadata": {},
     "output_type": "execute_result"
    }
   ],
   "source": [
    "correlation"
   ]
  },
  {
   "cell_type": "code",
   "execution_count": 189,
   "id": "81c2aac8",
   "metadata": {},
   "outputs": [],
   "source": [
    "# Manual calculation"
   ]
  },
  {
   "cell_type": "raw",
   "id": "31c112ad",
   "metadata": {},
   "source": [
    "Mean for turnout is x^ and Mean for electors is y^"
   ]
  },
  {
   "attachments": {
    "Screenshot%202024-02-08%20at%201.11.33%E2%80%AFPM.png": {
     "image/png": "[encoded data removed]"
    }
   },
   "cell_type": "markdown",
   "id": "948af376",
   "metadata": {},
   "source": [
    "![Screenshot%202024-02-08%20at%201.11.33%E2%80%AFPM.png](attachment:Screenshot%202024-02-08%20at%201.11.33%E2%80%AFPM.png)"
   ]
  },
  {
   "cell_type": "raw",
   "id": "67bfc613",
   "metadata": {},
   "source": [
    "Standard deviation for turnout is Sx and electors is Sy"
   ]
  },
  {
   "attachments": {
    "Screenshot%202024-02-08%20at%201.11.42%E2%80%AFPM.png": {
     "image/png": "[encoded data removed]"
    }
   },
   "cell_type": "markdown",
   "id": "8819d553",
   "metadata": {},
   "source": [
    "![Screenshot%202024-02-08%20at%201.11.42%E2%80%AFPM.png](attachment:Screenshot%202024-02-08%20at%201.11.42%E2%80%AFPM.png)"
   ]
  },
  {
   "cell_type": "raw",
   "id": "fe153350",
   "metadata": {},
   "source": [
    "Covariance of turnout and electors is Sxy"
   ]
  },
  {
   "attachments": {
    "Screenshot%202024-02-08%20at%201.11.55%E2%80%AFPM.png": {
     "image/png": "[encoded data removed]"
    }
   },
   "cell_type": "markdown",
   "id": "989b2d8b",
   "metadata": {},
   "source": [
    "![Screenshot%202024-02-08%20at%201.11.55%E2%80%AFPM.png](attachment:Screenshot%202024-02-08%20at%201.11.55%E2%80%AFPM.png)"
   ]
  },
  {
   "cell_type": "raw",
   "id": "db5095f4",
   "metadata": {},
   "source": [
    "Correlation Coefficient"
   ]
  },
  {
   "attachments": {
    "Screenshot%202024-02-08%20at%201.12.07%E2%80%AFPM.png": {
     "image/png": "[encoded data removed]"
    }
   },
   "cell_type": "markdown",
   "id": "d4725334",
   "metadata": {},
   "source": [
    "![Screenshot%202024-02-08%20at%201.12.07%E2%80%AFPM.png](attachment:Screenshot%202024-02-08%20at%201.12.07%E2%80%AFPM.png)"
   ]
  },
  {
   "cell_type": "code",
   "execution_count": 191,
   "id": "2b1b396e",
   "metadata": {},
   "outputs": [],
   "source": [
    "x_bar = data['Turnout'].mean()"
   ]
  },
  {
   "cell_type": "code",
   "execution_count": 195,
   "id": "b1a2ab3e",
   "metadata": {},
   "outputs": [
    {
     "data": {
      "text/plain": [
       "75.54285714285713"
      ]
     },
     "execution_count": 195,
     "metadata": {},
     "output_type": "execute_result"
    }
   ],
   "source": [
    "x_bar"
   ]
  },
  {
   "cell_type": "code",
   "execution_count": 197,
   "id": "57fc3eae",
   "metadata": {},
   "outputs": [],
   "source": [
    "y_bar = data['Electors'].mean()"
   ]
  },
  {
   "cell_type": "code",
   "execution_count": 198,
   "id": "6b4c0acc",
   "metadata": {},
   "outputs": [
    {
     "data": {
      "text/plain": [
       "1520899.619047619"
      ]
     },
     "execution_count": 198,
     "metadata": {},
     "output_type": "execute_result"
    }
   ],
   "source": [
    "y_bar"
   ]
  },
  {
   "cell_type": "code",
   "execution_count": 193,
   "id": "3f3bb6db",
   "metadata": {},
   "outputs": [],
   "source": [
    "std_x = data['Turnout'].std()"
   ]
  },
  {
   "cell_type": "code",
   "execution_count": 199,
   "id": "99943fb3",
   "metadata": {},
   "outputs": [
    {
     "data": {
      "text/plain": [
       "6.639018860386785"
      ]
     },
     "execution_count": 199,
     "metadata": {},
     "output_type": "execute_result"
    }
   ],
   "source": [
    "std_x"
   ]
  },
  {
   "cell_type": "code",
   "execution_count": 194,
   "id": "aefc5f17",
   "metadata": {},
   "outputs": [],
   "source": [
    "std_y = data['Electors'].std()"
   ]
  },
  {
   "cell_type": "code",
   "execution_count": 200,
   "id": "bc625096",
   "metadata": {},
   "outputs": [
    {
     "data": {
      "text/plain": [
       "173875.7528945529"
      ]
     },
     "execution_count": 200,
     "metadata": {},
     "output_type": "execute_result"
    }
   ],
   "source": [
    "std_y"
   ]
  },
  {
   "cell_type": "code",
   "execution_count": 222,
   "id": "fb5b7e05",
   "metadata": {},
   "outputs": [],
   "source": [
    "# Calculate the covariance\n",
    "covariance = np.cov(data['Turnout'], data['Electors'])"
   ]
  },
  {
   "cell_type": "code",
   "execution_count": 223,
   "id": "a53d26a8",
   "metadata": {},
   "outputs": [
    {
     "data": {
      "text/plain": [
       "array([[ 4.40765714e+01, -8.01490523e+05],\n",
       "       [-8.01490523e+05,  3.02327774e+10]])"
      ]
     },
     "execution_count": 223,
     "metadata": {},
     "output_type": "execute_result"
    }
   ],
   "source": [
    "covariance"
   ]
  },
  {
   "cell_type": "code",
   "execution_count": 224,
   "id": "6b3ec721",
   "metadata": {},
   "outputs": [],
   "source": [
    "# Calculate the covariance\n",
    "covariance = np.cov(data['Turnout'], data['Electors'])[0][1]"
   ]
  },
  {
   "cell_type": "code",
   "execution_count": 225,
   "id": "24bc92b1",
   "metadata": {},
   "outputs": [
    {
     "data": {
      "text/plain": [
       "-801490.522857143"
      ]
     },
     "execution_count": 225,
     "metadata": {},
     "output_type": "execute_result"
    }
   ],
   "source": [
    "covariance"
   ]
  },
  {
   "cell_type": "code",
   "execution_count": 227,
   "id": "7e3c00ce",
   "metadata": {},
   "outputs": [],
   "source": [
    "# Calculate the correlation coefficient\n",
    "correlation_admk = covariance / (std_x * std_y)"
   ]
  },
  {
   "cell_type": "code",
   "execution_count": 228,
   "id": "e66d67ae",
   "metadata": {},
   "outputs": [
    {
     "data": {
      "text/plain": [
       "-0.6943132696153999"
      ]
     },
     "execution_count": 228,
     "metadata": {},
     "output_type": "execute_result"
    }
   ],
   "source": [
    "correlation_admk # negative linear relationship between voter turnout and the number of electors in the constituency."
   ]
  },
  {
   "cell_type": "code",
   "execution_count": 226,
   "id": "aba08a59",
   "metadata": {},
   "outputs": [],
   "source": [
    "# As the number of electors in a constituency increases, voter turnout tends to decrease.\n",
    "# Conversely, as the number of electors decreases, voter turnout tends to increase."
   ]
  },
  {
   "cell_type": "code",
   "execution_count": 230,
   "id": "136bcc24",
   "metadata": {},
   "outputs": [],
   "source": [
    "# DMK"
   ]
  },
  {
   "cell_type": "code",
   "execution_count": 231,
   "id": "6a218427",
   "metadata": {},
   "outputs": [
    {
     "data": {
      "text/plain": [
       "Index(['Position', 'Candidate', 'PC Name', 'State', 'Electors', 'Votes',\n",
       "       'Turnout', 'DMK Votes', 'DMK Votes %', 'ACs'],\n",
       "      dtype='object')"
      ]
     },
     "execution_count": 231,
     "metadata": {},
     "output_type": "execute_result"
    }
   ],
   "source": [
    "data1.columns"
   ]
  },
  {
   "cell_type": "code",
   "execution_count": 232,
   "id": "c1fc169a",
   "metadata": {},
   "outputs": [
    {
     "data": {
      "text/html": [
       "<div>\n",
       "<style scoped>\n",
       "    .dataframe tbody tr th:only-of-type {\n",
       "        vertical-align: middle;\n",
       "    }\n",
       "\n",
       "    .dataframe tbody tr th {\n",
       "        vertical-align: top;\n",
       "    }\n",
       "\n",
       "    .dataframe thead th {\n",
       "        text-align: right;\n",
       "    }\n",
       "</style>\n",
       "<table border=\"1\" class=\"dataframe\">\n",
       "  <thead>\n",
       "    <tr style=\"text-align: right;\">\n",
       "      <th></th>\n",
       "      <th>Turnout</th>\n",
       "      <th>Electors</th>\n",
       "    </tr>\n",
       "    <tr>\n",
       "      <th>#</th>\n",
       "      <th></th>\n",
       "      <th></th>\n",
       "    </tr>\n",
       "  </thead>\n",
       "  <tbody>\n",
       "    <tr>\n",
       "      <th>1</th>\n",
       "      <td>81.5</td>\n",
       "      <td>1461110</td>\n",
       "    </tr>\n",
       "    <tr>\n",
       "      <th>2</th>\n",
       "      <td>60.7</td>\n",
       "      <td>1316388</td>\n",
       "    </tr>\n",
       "    <tr>\n",
       "      <th>3</th>\n",
       "      <td>67.2</td>\n",
       "      <td>1444753</td>\n",
       "    </tr>\n",
       "    <tr>\n",
       "      <th>4</th>\n",
       "      <td>59.6</td>\n",
       "      <td>1916378</td>\n",
       "    </tr>\n",
       "    <tr>\n",
       "      <th>5</th>\n",
       "      <td>78.4</td>\n",
       "      <td>1342320</td>\n",
       "    </tr>\n",
       "    <tr>\n",
       "      <th>6</th>\n",
       "      <td>85.1</td>\n",
       "      <td>1453257</td>\n",
       "    </tr>\n",
       "    <tr>\n",
       "      <th>7</th>\n",
       "      <td>77.3</td>\n",
       "      <td>1518633</td>\n",
       "    </tr>\n",
       "    <tr>\n",
       "      <th>8</th>\n",
       "      <td>75.8</td>\n",
       "      <td>1427534</td>\n",
       "    </tr>\n",
       "    <tr>\n",
       "      <th>9</th>\n",
       "      <td>81.6</td>\n",
       "      <td>1490339</td>\n",
       "    </tr>\n",
       "    <tr>\n",
       "      <th>10</th>\n",
       "      <td>78.7</td>\n",
       "      <td>1601060</td>\n",
       "    </tr>\n",
       "    <tr>\n",
       "      <th>11</th>\n",
       "      <td>75.4</td>\n",
       "      <td>1466813</td>\n",
       "    </tr>\n",
       "    <tr>\n",
       "      <th>12</th>\n",
       "      <td>83.1</td>\n",
       "      <td>1383282</td>\n",
       "    </tr>\n",
       "    <tr>\n",
       "      <th>13</th>\n",
       "      <td>77.0</td>\n",
       "      <td>1336480</td>\n",
       "    </tr>\n",
       "    <tr>\n",
       "      <th>14</th>\n",
       "      <td>80.9</td>\n",
       "      <td>1376502</td>\n",
       "    </tr>\n",
       "    <tr>\n",
       "      <th>15</th>\n",
       "      <td>63.9</td>\n",
       "      <td>1716498</td>\n",
       "    </tr>\n",
       "    <tr>\n",
       "      <th>16</th>\n",
       "      <td>80.5</td>\n",
       "      <td>1580013</td>\n",
       "    </tr>\n",
       "    <tr>\n",
       "      <th>17</th>\n",
       "      <td>65.7</td>\n",
       "      <td>2176499</td>\n",
       "    </tr>\n",
       "    <tr>\n",
       "      <th>18</th>\n",
       "      <td>73.3</td>\n",
       "      <td>1472742</td>\n",
       "    </tr>\n",
       "    <tr>\n",
       "      <th>19</th>\n",
       "      <td>74.4</td>\n",
       "      <td>1443417</td>\n",
       "    </tr>\n",
       "    <tr>\n",
       "      <th>20</th>\n",
       "      <td>71.3</td>\n",
       "      <td>1402826</td>\n",
       "    </tr>\n",
       "    <tr>\n",
       "      <th>21</th>\n",
       "      <td>68.8</td>\n",
       "      <td>1526692</td>\n",
       "    </tr>\n",
       "    <tr>\n",
       "      <th>22</th>\n",
       "      <td>81.3</td>\n",
       "      <td>1431287</td>\n",
       "    </tr>\n",
       "    <tr>\n",
       "      <th>23</th>\n",
       "      <td>81.9</td>\n",
       "      <td>1400389</td>\n",
       "    </tr>\n",
       "  </tbody>\n",
       "</table>\n",
       "</div>"
      ],
      "text/plain": [
       "    Turnout  Electors\n",
       "#                    \n",
       "1      81.5   1461110\n",
       "2      60.7   1316388\n",
       "3      67.2   1444753\n",
       "4      59.6   1916378\n",
       "5      78.4   1342320\n",
       "6      85.1   1453257\n",
       "7      77.3   1518633\n",
       "8      75.8   1427534\n",
       "9      81.6   1490339\n",
       "10     78.7   1601060\n",
       "11     75.4   1466813\n",
       "12     83.1   1383282\n",
       "13     77.0   1336480\n",
       "14     80.9   1376502\n",
       "15     63.9   1716498\n",
       "16     80.5   1580013\n",
       "17     65.7   2176499\n",
       "18     73.3   1472742\n",
       "19     74.4   1443417\n",
       "20     71.3   1402826\n",
       "21     68.8   1526692\n",
       "22     81.3   1431287\n",
       "23     81.9   1400389"
      ]
     },
     "execution_count": 232,
     "metadata": {},
     "output_type": "execute_result"
    }
   ],
   "source": [
    "data1[['Turnout','Electors']]"
   ]
  },
  {
   "cell_type": "code",
   "execution_count": 233,
   "id": "0901aa33",
   "metadata": {},
   "outputs": [],
   "source": [
    "# Mean"
   ]
  },
  {
   "cell_type": "code",
   "execution_count": 234,
   "id": "292ddde6",
   "metadata": {},
   "outputs": [],
   "source": [
    "x_bar = data1['Turnout'].mean()"
   ]
  },
  {
   "cell_type": "code",
   "execution_count": 235,
   "id": "cbc2eae9",
   "metadata": {},
   "outputs": [],
   "source": [
    "y_bar = data['Electors'].mean()"
   ]
  },
  {
   "cell_type": "code",
   "execution_count": 236,
   "id": "d1f02350",
   "metadata": {},
   "outputs": [],
   "source": [
    "# std"
   ]
  },
  {
   "cell_type": "code",
   "execution_count": 237,
   "id": "5d1bd93c",
   "metadata": {},
   "outputs": [],
   "source": [
    "std_x = data1['Turnout'].std()"
   ]
  },
  {
   "cell_type": "code",
   "execution_count": 238,
   "id": "7ac798fd",
   "metadata": {},
   "outputs": [],
   "source": [
    "std_y = data1['Electors'].std()"
   ]
  },
  {
   "cell_type": "code",
   "execution_count": 239,
   "id": "06927d38",
   "metadata": {},
   "outputs": [],
   "source": [
    "# covariance"
   ]
  },
  {
   "cell_type": "code",
   "execution_count": 245,
   "id": "3376a6ba",
   "metadata": {},
   "outputs": [],
   "source": [
    "covariance = np.cov(data1['Turnout'],data1['Electors'])[0][1]"
   ]
  },
  {
   "cell_type": "code",
   "execution_count": 246,
   "id": "67722d97",
   "metadata": {},
   "outputs": [],
   "source": [
    "# Correlation"
   ]
  },
  {
   "cell_type": "code",
   "execution_count": 247,
   "id": "e8d6acaf",
   "metadata": {},
   "outputs": [],
   "source": [
    "correlation_dmk = covariance / (std_x * std_y)"
   ]
  },
  {
   "cell_type": "code",
   "execution_count": 248,
   "id": "d95d3c41",
   "metadata": {},
   "outputs": [
    {
     "data": {
      "text/plain": [
       "-0.4813514706541826"
      ]
     },
     "execution_count": 248,
     "metadata": {},
     "output_type": "execute_result"
    }
   ],
   "source": [
    "correlation_dmk"
   ]
  },
  {
   "cell_type": "code",
   "execution_count": 249,
   "id": "c9f1a3a5",
   "metadata": {},
   "outputs": [],
   "source": [
    "# As the number of electors in a constituency increases, voter turnout tends to decrease.\n",
    "# Conversely, as the number of electors decreases, voter turnout tends to increase."
   ]
  },
  {
   "cell_type": "code",
   "execution_count": 257,
   "id": "4ee83eb6",
   "metadata": {},
   "outputs": [
    {
     "data": {
      "image/png": "[encoded data removed]",
      "text/plain": [
       "<Figure size 576x432 with 1 Axes>"
      ]
     },
     "metadata": {
      "needs_background": "light"
     },
     "output_type": "display_data"
    }
   ],
   "source": [
    "plt.figure(figsize=(8,6))\n",
    "plt.bar(['AIADMK','DMK'],[correlation_admk,correlation_dmk],color=['red','blue'])\n",
    "plt.show()"
   ]
  }
 ],
 "metadata": {
  "kernelspec": {
   "display_name": "Python 3 (ipykernel)",
   "language": "python",
   "name": "python3"
  },
  "language_info": {
   "codemirror_mode": {
    "name": "ipython",
    "version": 3
   },
   "file_extension": ".py",
   "mimetype": "text/x-python",
   "name": "python",
   "nbconvert_exporter": "python",
   "pygments_lexer": "ipython3",
   "version": "3.9.7"
  }
 },
 "nbformat": 4,
 "nbformat_minor": 5
}
