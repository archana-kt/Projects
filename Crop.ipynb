{
 "cells": [
  {
   "cell_type": "markdown",
   "id": "c346d6f3",
   "metadata": {},
   "source": [
    "# Crop production analysis"
   ]
  },
  {
   "cell_type": "code",
   "execution_count": 1,
   "id": "2833e716",
   "metadata": {},
   "outputs": [],
   "source": [
    "import numpy as np\n",
    "import pandas as pd\n",
    "import matplotlib.pyplot as plt\n",
    "import seaborn as sns"
   ]
  },
  {
   "cell_type": "code",
   "execution_count": 2,
   "id": "582feb79",
   "metadata": {},
   "outputs": [],
   "source": [
    "data = pd.read_csv('crop_production.csv')"
   ]
  },
  {
   "cell_type": "code",
   "execution_count": 3,
   "id": "e1ed2596",
   "metadata": {},
   "outputs": [
    {
     "data": {
      "text/html": [
       "<div>\n",
       "<style scoped>\n",
       "    .dataframe tbody tr th:only-of-type {\n",
       "        vertical-align: middle;\n",
       "    }\n",
       "\n",
       "    .dataframe tbody tr th {\n",
       "        vertical-align: top;\n",
       "    }\n",
       "\n",
       "    .dataframe thead th {\n",
       "        text-align: right;\n",
       "    }\n",
       "</style>\n",
       "<table border=\"1\" class=\"dataframe\">\n",
       "  <thead>\n",
       "    <tr style=\"text-align: right;\">\n",
       "      <th></th>\n",
       "      <th>State_Name</th>\n",
       "      <th>District_Name</th>\n",
       "      <th>Crop_Year</th>\n",
       "      <th>Season</th>\n",
       "      <th>Crop</th>\n",
       "      <th>Area</th>\n",
       "      <th>Production</th>\n",
       "    </tr>\n",
       "  </thead>\n",
       "  <tbody>\n",
       "    <tr>\n",
       "      <th>0</th>\n",
       "      <td>Andaman and Nicobar Islands</td>\n",
       "      <td>NICOBARS</td>\n",
       "      <td>2000</td>\n",
       "      <td>Kharif</td>\n",
       "      <td>Arecanut</td>\n",
       "      <td>1254.0</td>\n",
       "      <td>2000.0</td>\n",
       "    </tr>\n",
       "    <tr>\n",
       "      <th>1</th>\n",
       "      <td>Andaman and Nicobar Islands</td>\n",
       "      <td>NICOBARS</td>\n",
       "      <td>2000</td>\n",
       "      <td>Kharif</td>\n",
       "      <td>Other Kharif pulses</td>\n",
       "      <td>2.0</td>\n",
       "      <td>1.0</td>\n",
       "    </tr>\n",
       "    <tr>\n",
       "      <th>2</th>\n",
       "      <td>Andaman and Nicobar Islands</td>\n",
       "      <td>NICOBARS</td>\n",
       "      <td>2000</td>\n",
       "      <td>Kharif</td>\n",
       "      <td>Rice</td>\n",
       "      <td>102.0</td>\n",
       "      <td>321.0</td>\n",
       "    </tr>\n",
       "    <tr>\n",
       "      <th>3</th>\n",
       "      <td>Andaman and Nicobar Islands</td>\n",
       "      <td>NICOBARS</td>\n",
       "      <td>2000</td>\n",
       "      <td>Whole Year</td>\n",
       "      <td>Banana</td>\n",
       "      <td>176.0</td>\n",
       "      <td>641.0</td>\n",
       "    </tr>\n",
       "    <tr>\n",
       "      <th>4</th>\n",
       "      <td>Andaman and Nicobar Islands</td>\n",
       "      <td>NICOBARS</td>\n",
       "      <td>2000</td>\n",
       "      <td>Whole Year</td>\n",
       "      <td>Cashewnut</td>\n",
       "      <td>720.0</td>\n",
       "      <td>165.0</td>\n",
       "    </tr>\n",
       "    <tr>\n",
       "      <th>...</th>\n",
       "      <td>...</td>\n",
       "      <td>...</td>\n",
       "      <td>...</td>\n",
       "      <td>...</td>\n",
       "      <td>...</td>\n",
       "      <td>...</td>\n",
       "      <td>...</td>\n",
       "    </tr>\n",
       "    <tr>\n",
       "      <th>246086</th>\n",
       "      <td>West Bengal</td>\n",
       "      <td>PURULIA</td>\n",
       "      <td>2014</td>\n",
       "      <td>Summer</td>\n",
       "      <td>Rice</td>\n",
       "      <td>306.0</td>\n",
       "      <td>801.0</td>\n",
       "    </tr>\n",
       "    <tr>\n",
       "      <th>246087</th>\n",
       "      <td>West Bengal</td>\n",
       "      <td>PURULIA</td>\n",
       "      <td>2014</td>\n",
       "      <td>Summer</td>\n",
       "      <td>Sesamum</td>\n",
       "      <td>627.0</td>\n",
       "      <td>463.0</td>\n",
       "    </tr>\n",
       "    <tr>\n",
       "      <th>246088</th>\n",
       "      <td>West Bengal</td>\n",
       "      <td>PURULIA</td>\n",
       "      <td>2014</td>\n",
       "      <td>Whole Year</td>\n",
       "      <td>Sugarcane</td>\n",
       "      <td>324.0</td>\n",
       "      <td>16250.0</td>\n",
       "    </tr>\n",
       "    <tr>\n",
       "      <th>246089</th>\n",
       "      <td>West Bengal</td>\n",
       "      <td>PURULIA</td>\n",
       "      <td>2014</td>\n",
       "      <td>Winter</td>\n",
       "      <td>Rice</td>\n",
       "      <td>279151.0</td>\n",
       "      <td>597899.0</td>\n",
       "    </tr>\n",
       "    <tr>\n",
       "      <th>246090</th>\n",
       "      <td>West Bengal</td>\n",
       "      <td>PURULIA</td>\n",
       "      <td>2014</td>\n",
       "      <td>Winter</td>\n",
       "      <td>Sesamum</td>\n",
       "      <td>175.0</td>\n",
       "      <td>88.0</td>\n",
       "    </tr>\n",
       "  </tbody>\n",
       "</table>\n",
       "<p>246091 rows × 7 columns</p>\n",
       "</div>"
      ],
      "text/plain": [
       "                         State_Name District_Name  Crop_Year       Season  \\\n",
       "0       Andaman and Nicobar Islands      NICOBARS       2000  Kharif        \n",
       "1       Andaman and Nicobar Islands      NICOBARS       2000  Kharif        \n",
       "2       Andaman and Nicobar Islands      NICOBARS       2000  Kharif        \n",
       "3       Andaman and Nicobar Islands      NICOBARS       2000  Whole Year    \n",
       "4       Andaman and Nicobar Islands      NICOBARS       2000  Whole Year    \n",
       "...                             ...           ...        ...          ...   \n",
       "246086                  West Bengal       PURULIA       2014  Summer        \n",
       "246087                  West Bengal       PURULIA       2014  Summer        \n",
       "246088                  West Bengal       PURULIA       2014  Whole Year    \n",
       "246089                  West Bengal       PURULIA       2014  Winter        \n",
       "246090                  West Bengal       PURULIA       2014  Winter        \n",
       "\n",
       "                       Crop      Area  Production  \n",
       "0                  Arecanut    1254.0      2000.0  \n",
       "1       Other Kharif pulses       2.0         1.0  \n",
       "2                      Rice     102.0       321.0  \n",
       "3                    Banana     176.0       641.0  \n",
       "4                 Cashewnut     720.0       165.0  \n",
       "...                     ...       ...         ...  \n",
       "246086                 Rice     306.0       801.0  \n",
       "246087              Sesamum     627.0       463.0  \n",
       "246088            Sugarcane     324.0     16250.0  \n",
       "246089                 Rice  279151.0    597899.0  \n",
       "246090              Sesamum     175.0        88.0  \n",
       "\n",
       "[246091 rows x 7 columns]"
      ]
     },
     "execution_count": 3,
     "metadata": {},
     "output_type": "execute_result"
    }
   ],
   "source": [
    "data"
   ]
  },
  {
   "cell_type": "markdown",
   "id": "d080f102",
   "metadata": {},
   "source": [
    "## Exploratory Data Analysis and Data Pre-processing"
   ]
  },
  {
   "cell_type": "code",
   "execution_count": 4,
   "id": "3b496649",
   "metadata": {},
   "outputs": [
    {
     "data": {
      "text/plain": [
       "(246091, 7)"
      ]
     },
     "execution_count": 4,
     "metadata": {},
     "output_type": "execute_result"
    }
   ],
   "source": [
    "data.shape"
   ]
  },
  {
   "cell_type": "code",
   "execution_count": 5,
   "id": "27412bd8",
   "metadata": {},
   "outputs": [
    {
     "data": {
      "text/plain": [
       "Index(['State_Name', 'District_Name', 'Crop_Year', 'Season', 'Crop', 'Area',\n",
       "       'Production'],\n",
       "      dtype='object')"
      ]
     },
     "execution_count": 5,
     "metadata": {},
     "output_type": "execute_result"
    }
   ],
   "source": [
    "data.columns"
   ]
  },
  {
   "cell_type": "code",
   "execution_count": 6,
   "id": "07f928e1",
   "metadata": {},
   "outputs": [
    {
     "data": {
      "text/html": [
       "<div>\n",
       "<style scoped>\n",
       "    .dataframe tbody tr th:only-of-type {\n",
       "        vertical-align: middle;\n",
       "    }\n",
       "\n",
       "    .dataframe tbody tr th {\n",
       "        vertical-align: top;\n",
       "    }\n",
       "\n",
       "    .dataframe thead th {\n",
       "        text-align: right;\n",
       "    }\n",
       "</style>\n",
       "<table border=\"1\" class=\"dataframe\">\n",
       "  <thead>\n",
       "    <tr style=\"text-align: right;\">\n",
       "      <th></th>\n",
       "      <th>Crop_Year</th>\n",
       "      <th>Area</th>\n",
       "      <th>Production</th>\n",
       "    </tr>\n",
       "  </thead>\n",
       "  <tbody>\n",
       "    <tr>\n",
       "      <th>count</th>\n",
       "      <td>246091.000000</td>\n",
       "      <td>2.460910e+05</td>\n",
       "      <td>2.423610e+05</td>\n",
       "    </tr>\n",
       "    <tr>\n",
       "      <th>mean</th>\n",
       "      <td>2005.643018</td>\n",
       "      <td>1.200282e+04</td>\n",
       "      <td>5.825034e+05</td>\n",
       "    </tr>\n",
       "    <tr>\n",
       "      <th>std</th>\n",
       "      <td>4.952164</td>\n",
       "      <td>5.052340e+04</td>\n",
       "      <td>1.706581e+07</td>\n",
       "    </tr>\n",
       "    <tr>\n",
       "      <th>min</th>\n",
       "      <td>1997.000000</td>\n",
       "      <td>4.000000e-02</td>\n",
       "      <td>0.000000e+00</td>\n",
       "    </tr>\n",
       "    <tr>\n",
       "      <th>25%</th>\n",
       "      <td>2002.000000</td>\n",
       "      <td>8.000000e+01</td>\n",
       "      <td>8.800000e+01</td>\n",
       "    </tr>\n",
       "    <tr>\n",
       "      <th>50%</th>\n",
       "      <td>2006.000000</td>\n",
       "      <td>5.820000e+02</td>\n",
       "      <td>7.290000e+02</td>\n",
       "    </tr>\n",
       "    <tr>\n",
       "      <th>75%</th>\n",
       "      <td>2010.000000</td>\n",
       "      <td>4.392000e+03</td>\n",
       "      <td>7.023000e+03</td>\n",
       "    </tr>\n",
       "    <tr>\n",
       "      <th>max</th>\n",
       "      <td>2015.000000</td>\n",
       "      <td>8.580100e+06</td>\n",
       "      <td>1.250800e+09</td>\n",
       "    </tr>\n",
       "  </tbody>\n",
       "</table>\n",
       "</div>"
      ],
      "text/plain": [
       "           Crop_Year          Area    Production\n",
       "count  246091.000000  2.460910e+05  2.423610e+05\n",
       "mean     2005.643018  1.200282e+04  5.825034e+05\n",
       "std         4.952164  5.052340e+04  1.706581e+07\n",
       "min      1997.000000  4.000000e-02  0.000000e+00\n",
       "25%      2002.000000  8.000000e+01  8.800000e+01\n",
       "50%      2006.000000  5.820000e+02  7.290000e+02\n",
       "75%      2010.000000  4.392000e+03  7.023000e+03\n",
       "max      2015.000000  8.580100e+06  1.250800e+09"
      ]
     },
     "execution_count": 6,
     "metadata": {},
     "output_type": "execute_result"
    }
   ],
   "source": [
    "data.describe()"
   ]
  },
  {
   "cell_type": "code",
   "execution_count": 7,
   "id": "d5864d86",
   "metadata": {},
   "outputs": [
    {
     "data": {
      "text/plain": [
       "array(['Arecanut', 'Other Kharif pulses', 'Rice', 'Banana', 'Cashewnut',\n",
       "       'Coconut ', 'Dry ginger', 'Sugarcane', 'Sweet potato', 'Tapioca',\n",
       "       'Black pepper', 'Dry chillies', 'other oilseeds', 'Turmeric',\n",
       "       'Maize', 'Moong(Green Gram)', 'Urad', 'Arhar/Tur', 'Groundnut',\n",
       "       'Sunflower', 'Bajra', 'Castor seed', 'Cotton(lint)', 'Horse-gram',\n",
       "       'Jowar', 'Korra', 'Ragi', 'Tobacco', 'Gram', 'Wheat', 'Masoor',\n",
       "       'Sesamum', 'Linseed', 'Safflower', 'Onion', 'other misc. pulses',\n",
       "       'Samai', 'Small millets', 'Coriander', 'Potato',\n",
       "       'Other  Rabi pulses', 'Soyabean', 'Beans & Mutter(Vegetable)',\n",
       "       'Bhindi', 'Brinjal', 'Citrus Fruit', 'Cucumber', 'Grapes', 'Mango',\n",
       "       'Orange', 'other fibres', 'Other Fresh Fruits', 'Other Vegetables',\n",
       "       'Papaya', 'Pome Fruit', 'Tomato', 'Rapeseed &Mustard', 'Mesta',\n",
       "       'Cowpea(Lobia)', 'Lemon', 'Pome Granet', 'Sapota', 'Cabbage',\n",
       "       'Peas  (vegetable)', 'Niger seed', 'Bottle Gourd', 'Sannhamp',\n",
       "       'Varagu', 'Garlic', 'Ginger', 'Oilseeds total', 'Pulses total',\n",
       "       'Jute', 'Peas & beans (Pulses)', 'Blackgram', 'Paddy', 'Pineapple',\n",
       "       'Barley', 'Khesari', 'Guar seed', 'Moth',\n",
       "       'Other Cereals & Millets', 'Cond-spcs other', 'Turnip', 'Carrot',\n",
       "       'Redish', 'Arcanut (Processed)', 'Atcanut (Raw)',\n",
       "       'Cashewnut Processed', 'Cashewnut Raw', 'Cardamom', 'Rubber',\n",
       "       'Bitter Gourd', 'Drum Stick', 'Jack Fruit', 'Snak Guard',\n",
       "       'Pump Kin', 'Tea', 'Coffee', 'Cauliflower', 'Other Citrus Fruit',\n",
       "       'Water Melon', 'Total foodgrain', 'Kapas', 'Colocosia', 'Lentil',\n",
       "       'Bean', 'Jobster', 'Perilla', 'Rajmash Kholar',\n",
       "       'Ricebean (nagadal)', 'Ash Gourd', 'Beet Root', 'Lab-Lab',\n",
       "       'Ribed Guard', 'Yam', 'Apple', 'Peach', 'Pear', 'Plums', 'Litchi',\n",
       "       'Ber', 'Other Dry Fruit', 'Jute & mesta'], dtype=object)"
      ]
     },
     "execution_count": 7,
     "metadata": {},
     "output_type": "execute_result"
    }
   ],
   "source": [
    "# viewing unique crops available in the dataset\n",
    "\n",
    "data['Crop'].unique()"
   ]
  },
  {
   "cell_type": "code",
   "execution_count": 8,
   "id": "42decb72",
   "metadata": {},
   "outputs": [
    {
     "name": "stdout",
     "output_type": "stream",
     "text": [
      "<class 'pandas.core.frame.DataFrame'>\n",
      "RangeIndex: 246091 entries, 0 to 246090\n",
      "Data columns (total 7 columns):\n",
      " #   Column         Non-Null Count   Dtype  \n",
      "---  ------         --------------   -----  \n",
      " 0   State_Name     246091 non-null  object \n",
      " 1   District_Name  246091 non-null  object \n",
      " 2   Crop_Year      246091 non-null  int64  \n",
      " 3   Season         246091 non-null  object \n",
      " 4   Crop           246091 non-null  object \n",
      " 5   Area           246091 non-null  float64\n",
      " 6   Production     242361 non-null  float64\n",
      "dtypes: float64(2), int64(1), object(4)\n",
      "memory usage: 13.1+ MB\n"
     ]
    }
   ],
   "source": [
    "data.info()"
   ]
  },
  {
   "cell_type": "code",
   "execution_count": 9,
   "id": "eae39739",
   "metadata": {},
   "outputs": [
    {
     "data": {
      "text/plain": [
       "State_Name          0\n",
       "District_Name       0\n",
       "Crop_Year           0\n",
       "Season              0\n",
       "Crop                0\n",
       "Area                0\n",
       "Production       3730\n",
       "dtype: int64"
      ]
     },
     "execution_count": 9,
     "metadata": {},
     "output_type": "execute_result"
    }
   ],
   "source": [
    "# Checking missing values of the dataset in each column\n",
    "\n",
    "data.isnull().sum()"
   ]
  },
  {
   "cell_type": "code",
   "execution_count": 10,
   "id": "16c8df14",
   "metadata": {},
   "outputs": [],
   "source": [
    "# Dropping missing values \n",
    "\n",
    "data = data.dropna()"
   ]
  },
  {
   "cell_type": "code",
   "execution_count": 11,
   "id": "26698ad8",
   "metadata": {},
   "outputs": [
    {
     "data": {
      "text/html": [
       "<div>\n",
       "<style scoped>\n",
       "    .dataframe tbody tr th:only-of-type {\n",
       "        vertical-align: middle;\n",
       "    }\n",
       "\n",
       "    .dataframe tbody tr th {\n",
       "        vertical-align: top;\n",
       "    }\n",
       "\n",
       "    .dataframe thead th {\n",
       "        text-align: right;\n",
       "    }\n",
       "</style>\n",
       "<table border=\"1\" class=\"dataframe\">\n",
       "  <thead>\n",
       "    <tr style=\"text-align: right;\">\n",
       "      <th></th>\n",
       "      <th>State_Name</th>\n",
       "      <th>District_Name</th>\n",
       "      <th>Crop_Year</th>\n",
       "      <th>Season</th>\n",
       "      <th>Crop</th>\n",
       "      <th>Area</th>\n",
       "      <th>Production</th>\n",
       "    </tr>\n",
       "  </thead>\n",
       "  <tbody>\n",
       "    <tr>\n",
       "      <th>0</th>\n",
       "      <td>Andaman and Nicobar Islands</td>\n",
       "      <td>NICOBARS</td>\n",
       "      <td>2000</td>\n",
       "      <td>Kharif</td>\n",
       "      <td>Arecanut</td>\n",
       "      <td>1254.0</td>\n",
       "      <td>2000.0</td>\n",
       "    </tr>\n",
       "    <tr>\n",
       "      <th>1</th>\n",
       "      <td>Andaman and Nicobar Islands</td>\n",
       "      <td>NICOBARS</td>\n",
       "      <td>2000</td>\n",
       "      <td>Kharif</td>\n",
       "      <td>Other Kharif pulses</td>\n",
       "      <td>2.0</td>\n",
       "      <td>1.0</td>\n",
       "    </tr>\n",
       "    <tr>\n",
       "      <th>2</th>\n",
       "      <td>Andaman and Nicobar Islands</td>\n",
       "      <td>NICOBARS</td>\n",
       "      <td>2000</td>\n",
       "      <td>Kharif</td>\n",
       "      <td>Rice</td>\n",
       "      <td>102.0</td>\n",
       "      <td>321.0</td>\n",
       "    </tr>\n",
       "    <tr>\n",
       "      <th>3</th>\n",
       "      <td>Andaman and Nicobar Islands</td>\n",
       "      <td>NICOBARS</td>\n",
       "      <td>2000</td>\n",
       "      <td>Whole Year</td>\n",
       "      <td>Banana</td>\n",
       "      <td>176.0</td>\n",
       "      <td>641.0</td>\n",
       "    </tr>\n",
       "    <tr>\n",
       "      <th>4</th>\n",
       "      <td>Andaman and Nicobar Islands</td>\n",
       "      <td>NICOBARS</td>\n",
       "      <td>2000</td>\n",
       "      <td>Whole Year</td>\n",
       "      <td>Cashewnut</td>\n",
       "      <td>720.0</td>\n",
       "      <td>165.0</td>\n",
       "    </tr>\n",
       "    <tr>\n",
       "      <th>...</th>\n",
       "      <td>...</td>\n",
       "      <td>...</td>\n",
       "      <td>...</td>\n",
       "      <td>...</td>\n",
       "      <td>...</td>\n",
       "      <td>...</td>\n",
       "      <td>...</td>\n",
       "    </tr>\n",
       "    <tr>\n",
       "      <th>246086</th>\n",
       "      <td>West Bengal</td>\n",
       "      <td>PURULIA</td>\n",
       "      <td>2014</td>\n",
       "      <td>Summer</td>\n",
       "      <td>Rice</td>\n",
       "      <td>306.0</td>\n",
       "      <td>801.0</td>\n",
       "    </tr>\n",
       "    <tr>\n",
       "      <th>246087</th>\n",
       "      <td>West Bengal</td>\n",
       "      <td>PURULIA</td>\n",
       "      <td>2014</td>\n",
       "      <td>Summer</td>\n",
       "      <td>Sesamum</td>\n",
       "      <td>627.0</td>\n",
       "      <td>463.0</td>\n",
       "    </tr>\n",
       "    <tr>\n",
       "      <th>246088</th>\n",
       "      <td>West Bengal</td>\n",
       "      <td>PURULIA</td>\n",
       "      <td>2014</td>\n",
       "      <td>Whole Year</td>\n",
       "      <td>Sugarcane</td>\n",
       "      <td>324.0</td>\n",
       "      <td>16250.0</td>\n",
       "    </tr>\n",
       "    <tr>\n",
       "      <th>246089</th>\n",
       "      <td>West Bengal</td>\n",
       "      <td>PURULIA</td>\n",
       "      <td>2014</td>\n",
       "      <td>Winter</td>\n",
       "      <td>Rice</td>\n",
       "      <td>279151.0</td>\n",
       "      <td>597899.0</td>\n",
       "    </tr>\n",
       "    <tr>\n",
       "      <th>246090</th>\n",
       "      <td>West Bengal</td>\n",
       "      <td>PURULIA</td>\n",
       "      <td>2014</td>\n",
       "      <td>Winter</td>\n",
       "      <td>Sesamum</td>\n",
       "      <td>175.0</td>\n",
       "      <td>88.0</td>\n",
       "    </tr>\n",
       "  </tbody>\n",
       "</table>\n",
       "<p>242361 rows × 7 columns</p>\n",
       "</div>"
      ],
      "text/plain": [
       "                         State_Name District_Name  Crop_Year       Season  \\\n",
       "0       Andaman and Nicobar Islands      NICOBARS       2000  Kharif        \n",
       "1       Andaman and Nicobar Islands      NICOBARS       2000  Kharif        \n",
       "2       Andaman and Nicobar Islands      NICOBARS       2000  Kharif        \n",
       "3       Andaman and Nicobar Islands      NICOBARS       2000  Whole Year    \n",
       "4       Andaman and Nicobar Islands      NICOBARS       2000  Whole Year    \n",
       "...                             ...           ...        ...          ...   \n",
       "246086                  West Bengal       PURULIA       2014  Summer        \n",
       "246087                  West Bengal       PURULIA       2014  Summer        \n",
       "246088                  West Bengal       PURULIA       2014  Whole Year    \n",
       "246089                  West Bengal       PURULIA       2014  Winter        \n",
       "246090                  West Bengal       PURULIA       2014  Winter        \n",
       "\n",
       "                       Crop      Area  Production  \n",
       "0                  Arecanut    1254.0      2000.0  \n",
       "1       Other Kharif pulses       2.0         1.0  \n",
       "2                      Rice     102.0       321.0  \n",
       "3                    Banana     176.0       641.0  \n",
       "4                 Cashewnut     720.0       165.0  \n",
       "...                     ...       ...         ...  \n",
       "246086                 Rice     306.0       801.0  \n",
       "246087              Sesamum     627.0       463.0  \n",
       "246088            Sugarcane     324.0     16250.0  \n",
       "246089                 Rice  279151.0    597899.0  \n",
       "246090              Sesamum     175.0        88.0  \n",
       "\n",
       "[242361 rows x 7 columns]"
      ]
     },
     "execution_count": 11,
     "metadata": {},
     "output_type": "execute_result"
    }
   ],
   "source": [
    "data"
   ]
  },
  {
   "cell_type": "code",
   "execution_count": 12,
   "id": "97e518eb",
   "metadata": {},
   "outputs": [
    {
     "data": {
      "text/plain": [
       "State_Name       0\n",
       "District_Name    0\n",
       "Crop_Year        0\n",
       "Season           0\n",
       "Crop             0\n",
       "Area             0\n",
       "Production       0\n",
       "dtype: int64"
      ]
     },
     "execution_count": 12,
     "metadata": {},
     "output_type": "execute_result"
    }
   ],
   "source": [
    "data.isnull().sum()"
   ]
  },
  {
   "cell_type": "code",
   "execution_count": 13,
   "id": "3a2b5857",
   "metadata": {},
   "outputs": [
    {
     "data": {
      "image/png": "[encoded data removed]",
      "text/plain": [
       "<Figure size 432x288 with 1 Axes>"
      ]
     },
     "metadata": {},
     "output_type": "display_data"
    }
   ],
   "source": [
    "new_df =  data.groupby('Crop')['Production'].sum().reset_index()\n",
    "sorted_prod = new_df.sort_values(by='Production', ascending=False)\n",
    "sorted_prod\n",
    "\n",
    "plot_pie = sorted_prod[2:10]\n",
    "# plot_pie\n",
    "\n",
    "crop_names = plot_pie['Crop']\n",
    "production_values = plot_pie['Production']\n",
    "\n",
    "plt.pie(production_values, labels=crop_names, autopct='%1.1f%%')\n",
    "\n",
    "plt.title('Crop Production Distribution (Excluding Coconut)')\n",
    "\n",
    "plt.show()"
   ]
  },
  {
   "cell_type": "markdown",
   "id": "cddbe710",
   "metadata": {},
   "source": [
    "## Prominent crops in Andhra Pradesh"
   ]
  },
  {
   "cell_type": "code",
   "execution_count": 14,
   "id": "14d541c7",
   "metadata": {},
   "outputs": [
    {
     "data": {
      "text/plain": [
       "(array([0, 1, 2, 3, 4, 5]),\n",
       " [Text(0, 0, 'Sugarcane'),\n",
       "  Text(1, 0, 'Rice'),\n",
       "  Text(2, 0, 'Maize'),\n",
       "  Text(3, 0, 'Groundnut'),\n",
       "  Text(4, 0, 'Cotton(lint)'),\n",
       "  Text(5, 0, 'Banana')])"
      ]
     },
     "execution_count": 14,
     "metadata": {},
     "output_type": "execute_result"
    },
    {
     "data": {
      "image/png": "[encoded data removed]",
      "text/plain": [
       "<Figure size 432x288 with 1 Axes>"
      ]
     },
     "metadata": {
      "needs_background": "light"
     },
     "output_type": "display_data"
    }
   ],
   "source": [
    "import seaborn as sns\n",
    "import matplotlib.pyplot as plt\n",
    "\n",
    "df1 = data\n",
    "\n",
    "andhra_data = df1[df1['State_Name'] == 'Andhra Pradesh']\n",
    "\n",
    "crop_production = andhra_data.groupby('Crop')['Production'].sum().reset_index()\n",
    "\n",
    "prominent_crops = crop_production.sort_values('Production', ascending=False)\n",
    "\n",
    "top_6_crops = prominent_crops.iloc[1:7]\n",
    "\n",
    "sns.barplot(x='Crop', y='Production', data=top_6_crops, palette='viridis')\n",
    "plt.xticks(rotation=45)"
   ]
  },
  {
   "cell_type": "raw",
   "id": "f04866c1",
   "metadata": {},
   "source": [
    "Observations:\n",
    "\n",
    "1. Sugarcane and rice are the prominent crops in Andhra Pradesh.\n",
    "2. Sugarcane has a high production quantity.\n",
    "3. Rice production quantity is comparable to sugarcane.\n",
    "4. Maize, groundnut, cotton (lint), and banana have relatively low production quantities.\n",
    "5.The production quantities of maize, groundnut, cotton (lint), and banana are much less compared to sugarcane and rice.\n"
   ]
  },
  {
   "cell_type": "markdown",
   "id": "6c567fb2",
   "metadata": {},
   "source": [
    "## Prominent crops in Kerala"
   ]
  },
  {
   "cell_type": "code",
   "execution_count": 15,
   "id": "60f9306e",
   "metadata": {},
   "outputs": [
    {
     "data": {
      "text/plain": [
       "(array([0, 1, 2, 3, 4, 5]),\n",
       " [Text(0, 0, 'Tapioca'),\n",
       "  Text(1, 0, 'Rice'),\n",
       "  Text(2, 0, 'Banana'),\n",
       "  Text(3, 0, 'Sugarcane'),\n",
       "  Text(4, 0, 'Arecanut'),\n",
       "  Text(5, 0, 'Mango')])"
      ]
     },
     "execution_count": 15,
     "metadata": {},
     "output_type": "execute_result"
    },
    {
     "data": {
      "image/png": "[encoded data removed]",
      "text/plain": [
       "<Figure size 432x288 with 1 Axes>"
      ]
     },
     "metadata": {
      "needs_background": "light"
     },
     "output_type": "display_data"
    }
   ],
   "source": [
    "df2 = data\n",
    "\n",
    "kerala_data = df2[df2['State_Name'] == 'Kerala']\n",
    "\n",
    "crop_production = kerala_data.groupby('Crop')['Production'].sum().reset_index()\n",
    "\n",
    "prominent_crops = crop_production.sort_values('Production', ascending=False)\n",
    "\n",
    "top_6_crops = prominent_crops.iloc[1:7]\n",
    "\n",
    "sns.barplot(x='Crop', y='Production', data=top_6_crops, palette='viridis')\n",
    "plt.xticks(rotation=45)"
   ]
  },
  {
   "cell_type": "code",
   "execution_count": null,
   "id": "313c4c31",
   "metadata": {},
   "outputs": [],
   "source": []
  },
  {
   "cell_type": "code",
   "execution_count": null,
   "id": "6b149516",
   "metadata": {},
   "outputs": [],
   "source": []
  },
  {
   "cell_type": "code",
   "execution_count": null,
   "id": "de8b2f45",
   "metadata": {},
   "outputs": [],
   "source": []
  },
  {
   "cell_type": "code",
   "execution_count": null,
   "id": "e5cc364d",
   "metadata": {},
   "outputs": [],
   "source": []
  },
  {
   "cell_type": "code",
   "execution_count": null,
   "id": "5eb05817",
   "metadata": {},
   "outputs": [],
   "source": []
  },
  {
   "cell_type": "code",
   "execution_count": null,
   "id": "758b37b4",
   "metadata": {},
   "outputs": [],
   "source": []
  },
  {
   "cell_type": "code",
   "execution_count": null,
   "id": "e966c39a",
   "metadata": {},
   "outputs": [],
   "source": []
  },
  {
   "cell_type": "code",
   "execution_count": null,
   "id": "09521028",
   "metadata": {},
   "outputs": [],
   "source": []
  },
  {
   "cell_type": "code",
   "execution_count": null,
   "id": "43e5822e",
   "metadata": {},
   "outputs": [],
   "source": []
  },
  {
   "cell_type": "code",
   "execution_count": null,
   "id": "76598faa",
   "metadata": {},
   "outputs": [],
   "source": []
  },
  {
   "cell_type": "code",
   "execution_count": null,
   "id": "b6d1e919",
   "metadata": {},
   "outputs": [],
   "source": []
  },
  {
   "cell_type": "code",
   "execution_count": null,
   "id": "1f67f00f",
   "metadata": {},
   "outputs": [],
   "source": []
  },
  {
   "cell_type": "code",
   "execution_count": 16,
   "id": "0dfa9737",
   "metadata": {},
   "outputs": [
    {
     "data": {
      "text/plain": [
       "array(['Andaman and Nicobar Islands', 'Andhra Pradesh',\n",
       "       'Arunachal Pradesh', 'Assam', 'Bihar', 'Chandigarh',\n",
       "       'Chhattisgarh', 'Dadra and Nagar Haveli', 'Goa', 'Gujarat',\n",
       "       'Haryana', 'Himachal Pradesh', 'Jammu and Kashmir ', 'Jharkhand',\n",
       "       'Karnataka', 'Kerala', 'Madhya Pradesh', 'Maharashtra', 'Manipur',\n",
       "       'Meghalaya', 'Mizoram', 'Nagaland', 'Odisha', 'Puducherry',\n",
       "       'Punjab', 'Rajasthan', 'Sikkim', 'Tamil Nadu', 'Telangana ',\n",
       "       'Tripura', 'Uttar Pradesh', 'Uttarakhand', 'West Bengal'],\n",
       "      dtype=object)"
      ]
     },
     "execution_count": 16,
     "metadata": {},
     "output_type": "execute_result"
    }
   ],
   "source": [
    "# Displaying State Names present in the dataset\n",
    "\n",
    "data['State_Name'].unique()"
   ]
  },
  {
   "cell_type": "code",
   "execution_count": 17,
   "id": "8a41d4b0",
   "metadata": {},
   "outputs": [
    {
     "name": "stderr",
     "output_type": "stream",
     "text": [
      "/var/folders/5f/zvvxs6012zn4htwxbbkh2mvh0000gn/T/ipykernel_997/3473205621.py:3: SettingWithCopyWarning: \n",
      "A value is trying to be set on a copy of a slice from a DataFrame.\n",
      "Try using .loc[row_indexer,col_indexer] = value instead\n",
      "\n",
      "See the caveats in the documentation: https://pandas.pydata.org/pandas-docs/stable/user_guide/indexing.html#returning-a-view-versus-a-copy\n",
      "  data['Yield'] = (data['Production'] / data['Area'])\n"
     ]
    },
    {
     "data": {
      "text/html": [
       "<div>\n",
       "<style scoped>\n",
       "    .dataframe tbody tr th:only-of-type {\n",
       "        vertical-align: middle;\n",
       "    }\n",
       "\n",
       "    .dataframe tbody tr th {\n",
       "        vertical-align: top;\n",
       "    }\n",
       "\n",
       "    .dataframe thead th {\n",
       "        text-align: right;\n",
       "    }\n",
       "</style>\n",
       "<table border=\"1\" class=\"dataframe\">\n",
       "  <thead>\n",
       "    <tr style=\"text-align: right;\">\n",
       "      <th></th>\n",
       "      <th>State_Name</th>\n",
       "      <th>District_Name</th>\n",
       "      <th>Crop_Year</th>\n",
       "      <th>Season</th>\n",
       "      <th>Crop</th>\n",
       "      <th>Area</th>\n",
       "      <th>Production</th>\n",
       "      <th>Yield</th>\n",
       "    </tr>\n",
       "  </thead>\n",
       "  <tbody>\n",
       "    <tr>\n",
       "      <th>0</th>\n",
       "      <td>Andaman and Nicobar Islands</td>\n",
       "      <td>NICOBARS</td>\n",
       "      <td>2000</td>\n",
       "      <td>Kharif</td>\n",
       "      <td>Arecanut</td>\n",
       "      <td>1254.0</td>\n",
       "      <td>2000.0</td>\n",
       "      <td>1.594896</td>\n",
       "    </tr>\n",
       "    <tr>\n",
       "      <th>1</th>\n",
       "      <td>Andaman and Nicobar Islands</td>\n",
       "      <td>NICOBARS</td>\n",
       "      <td>2000</td>\n",
       "      <td>Kharif</td>\n",
       "      <td>Other Kharif pulses</td>\n",
       "      <td>2.0</td>\n",
       "      <td>1.0</td>\n",
       "      <td>0.500000</td>\n",
       "    </tr>\n",
       "    <tr>\n",
       "      <th>2</th>\n",
       "      <td>Andaman and Nicobar Islands</td>\n",
       "      <td>NICOBARS</td>\n",
       "      <td>2000</td>\n",
       "      <td>Kharif</td>\n",
       "      <td>Rice</td>\n",
       "      <td>102.0</td>\n",
       "      <td>321.0</td>\n",
       "      <td>3.147059</td>\n",
       "    </tr>\n",
       "    <tr>\n",
       "      <th>3</th>\n",
       "      <td>Andaman and Nicobar Islands</td>\n",
       "      <td>NICOBARS</td>\n",
       "      <td>2000</td>\n",
       "      <td>Whole Year</td>\n",
       "      <td>Banana</td>\n",
       "      <td>176.0</td>\n",
       "      <td>641.0</td>\n",
       "      <td>3.642045</td>\n",
       "    </tr>\n",
       "    <tr>\n",
       "      <th>4</th>\n",
       "      <td>Andaman and Nicobar Islands</td>\n",
       "      <td>NICOBARS</td>\n",
       "      <td>2000</td>\n",
       "      <td>Whole Year</td>\n",
       "      <td>Cashewnut</td>\n",
       "      <td>720.0</td>\n",
       "      <td>165.0</td>\n",
       "      <td>0.229167</td>\n",
       "    </tr>\n",
       "  </tbody>\n",
       "</table>\n",
       "</div>"
      ],
      "text/plain": [
       "                    State_Name District_Name  Crop_Year       Season  \\\n",
       "0  Andaman and Nicobar Islands      NICOBARS       2000  Kharif        \n",
       "1  Andaman and Nicobar Islands      NICOBARS       2000  Kharif        \n",
       "2  Andaman and Nicobar Islands      NICOBARS       2000  Kharif        \n",
       "3  Andaman and Nicobar Islands      NICOBARS       2000  Whole Year    \n",
       "4  Andaman and Nicobar Islands      NICOBARS       2000  Whole Year    \n",
       "\n",
       "                  Crop    Area  Production     Yield  \n",
       "0             Arecanut  1254.0      2000.0  1.594896  \n",
       "1  Other Kharif pulses     2.0         1.0  0.500000  \n",
       "2                 Rice   102.0       321.0  3.147059  \n",
       "3               Banana   176.0       641.0  3.642045  \n",
       "4            Cashewnut   720.0       165.0  0.229167  "
      ]
     },
     "execution_count": 17,
     "metadata": {},
     "output_type": "execute_result"
    }
   ],
   "source": [
    "# Adding a new column Yield which indicates Production per unit Area. \n",
    "\n",
    "data['Yield'] = (data['Production'] / data['Area'])\n",
    "data.head()"
   ]
  },
  {
   "cell_type": "markdown",
   "id": "6f776ec1",
   "metadata": {},
   "source": [
    "## Visualizing the dataset"
   ]
  },
  {
   "cell_type": "code",
   "execution_count": 18,
   "id": "9616a01a",
   "metadata": {},
   "outputs": [
    {
     "data": {
      "text/plain": [
       "(array([ 0,  1,  2,  3,  4,  5,  6,  7,  8,  9, 10, 11, 12, 13, 14, 15, 16,\n",
       "        17, 18, 19, 20, 21, 22, 23, 24, 25, 26, 27, 28, 29, 30, 31, 32]),\n",
       " [Text(0, 0, 'Andaman and Nicobar Islands'),\n",
       "  Text(1, 0, 'Andhra Pradesh'),\n",
       "  Text(2, 0, 'Arunachal Pradesh'),\n",
       "  Text(3, 0, 'Assam'),\n",
       "  Text(4, 0, 'Bihar'),\n",
       "  Text(5, 0, 'Chandigarh'),\n",
       "  Text(6, 0, 'Chhattisgarh'),\n",
       "  Text(7, 0, 'Dadra and Nagar Haveli'),\n",
       "  Text(8, 0, 'Goa'),\n",
       "  Text(9, 0, 'Gujarat'),\n",
       "  Text(10, 0, 'Haryana'),\n",
       "  Text(11, 0, 'Himachal Pradesh'),\n",
       "  Text(12, 0, 'Jammu and Kashmir '),\n",
       "  Text(13, 0, 'Jharkhand'),\n",
       "  Text(14, 0, 'Karnataka'),\n",
       "  Text(15, 0, 'Kerala'),\n",
       "  Text(16, 0, 'Madhya Pradesh'),\n",
       "  Text(17, 0, 'Maharashtra'),\n",
       "  Text(18, 0, 'Manipur'),\n",
       "  Text(19, 0, 'Meghalaya'),\n",
       "  Text(20, 0, 'Mizoram'),\n",
       "  Text(21, 0, 'Nagaland'),\n",
       "  Text(22, 0, 'Odisha'),\n",
       "  Text(23, 0, 'Puducherry'),\n",
       "  Text(24, 0, 'Punjab'),\n",
       "  Text(25, 0, 'Rajasthan'),\n",
       "  Text(26, 0, 'Sikkim'),\n",
       "  Text(27, 0, 'Tamil Nadu'),\n",
       "  Text(28, 0, 'Telangana '),\n",
       "  Text(29, 0, 'Tripura'),\n",
       "  Text(30, 0, 'Uttar Pradesh'),\n",
       "  Text(31, 0, 'Uttarakhand'),\n",
       "  Text(32, 0, 'West Bengal')])"
      ]
     },
     "execution_count": 18,
     "metadata": {},
     "output_type": "execute_result"
    },
    {
     "data": {
      "image/png": "[encoded data removed]",
      "text/plain": [
       "<Figure size 432x288 with 1 Axes>"
      ]
     },
     "metadata": {
      "needs_background": "light"
     },
     "output_type": "display_data"
    }
   ],
   "source": [
    "sns.barplot(x = 'State_Name', y = 'Production', data=data)\n",
    "plt.xticks(rotation = 90)"
   ]
  },
  {
   "cell_type": "code",
   "execution_count": 19,
   "id": "66199ba4",
   "metadata": {},
   "outputs": [
    {
     "data": {
      "text/plain": [
       "(array([ 0,  1,  2,  3,  4,  5,  6,  7,  8,  9, 10, 11, 12, 13, 14, 15, 16,\n",
       "        17, 18, 19, 20, 21, 22, 23, 24, 25, 26, 27, 28, 29, 30, 31, 32]),\n",
       " [Text(0, 0, 'Andaman and Nicobar Islands'),\n",
       "  Text(1, 0, 'Andhra Pradesh'),\n",
       "  Text(2, 0, 'Arunachal Pradesh'),\n",
       "  Text(3, 0, 'Assam'),\n",
       "  Text(4, 0, 'Bihar'),\n",
       "  Text(5, 0, 'Chandigarh'),\n",
       "  Text(6, 0, 'Chhattisgarh'),\n",
       "  Text(7, 0, 'Dadra and Nagar Haveli'),\n",
       "  Text(8, 0, 'Goa'),\n",
       "  Text(9, 0, 'Gujarat'),\n",
       "  Text(10, 0, 'Haryana'),\n",
       "  Text(11, 0, 'Himachal Pradesh'),\n",
       "  Text(12, 0, 'Jammu and Kashmir '),\n",
       "  Text(13, 0, 'Jharkhand'),\n",
       "  Text(14, 0, 'Karnataka'),\n",
       "  Text(15, 0, 'Kerala'),\n",
       "  Text(16, 0, 'Madhya Pradesh'),\n",
       "  Text(17, 0, 'Maharashtra'),\n",
       "  Text(18, 0, 'Manipur'),\n",
       "  Text(19, 0, 'Meghalaya'),\n",
       "  Text(20, 0, 'Mizoram'),\n",
       "  Text(21, 0, 'Nagaland'),\n",
       "  Text(22, 0, 'Odisha'),\n",
       "  Text(23, 0, 'Puducherry'),\n",
       "  Text(24, 0, 'Punjab'),\n",
       "  Text(25, 0, 'Rajasthan'),\n",
       "  Text(26, 0, 'Sikkim'),\n",
       "  Text(27, 0, 'Tamil Nadu'),\n",
       "  Text(28, 0, 'Telangana '),\n",
       "  Text(29, 0, 'Tripura'),\n",
       "  Text(30, 0, 'Uttar Pradesh'),\n",
       "  Text(31, 0, 'Uttarakhand'),\n",
       "  Text(32, 0, 'West Bengal')])"
      ]
     },
     "execution_count": 19,
     "metadata": {},
     "output_type": "execute_result"
    },
    {
     "data": {
      "image/png": "[encoded data removed]",
      "text/plain": [
       "<Figure size 432x288 with 1 Axes>"
      ]
     },
     "metadata": {
      "needs_background": "light"
     },
     "output_type": "display_data"
    }
   ],
   "source": [
    "sns.barplot(x = 'State_Name', y = 'Yield', data = data)\n",
    "plt.xticks(rotation = 90)"
   ]
  },
  {
   "cell_type": "code",
   "execution_count": 20,
   "id": "24b9664b",
   "metadata": {},
   "outputs": [
    {
     "data": {
      "text/plain": [
       "(array([ 0,  1,  2,  3,  4,  5,  6,  7,  8,  9, 10, 11, 12, 13, 14, 15, 16,\n",
       "        17, 18]),\n",
       " [Text(0, 0, '1997'),\n",
       "  Text(1, 0, '1998'),\n",
       "  Text(2, 0, '1999'),\n",
       "  Text(3, 0, '2000'),\n",
       "  Text(4, 0, '2001'),\n",
       "  Text(5, 0, '2002'),\n",
       "  Text(6, 0, '2003'),\n",
       "  Text(7, 0, '2004'),\n",
       "  Text(8, 0, '2005'),\n",
       "  Text(9, 0, '2006'),\n",
       "  Text(10, 0, '2007'),\n",
       "  Text(11, 0, '2008'),\n",
       "  Text(12, 0, '2009'),\n",
       "  Text(13, 0, '2010'),\n",
       "  Text(14, 0, '2011'),\n",
       "  Text(15, 0, '2012'),\n",
       "  Text(16, 0, '2013'),\n",
       "  Text(17, 0, '2014'),\n",
       "  Text(18, 0, '2015')])"
      ]
     },
     "execution_count": 20,
     "metadata": {},
     "output_type": "execute_result"
    },
    {
     "data": {
      "image/png": "[encoded data removed]",
      "text/plain": [
       "<Figure size 432x288 with 1 Axes>"
      ]
     },
     "metadata": {
      "needs_background": "light"
     },
     "output_type": "display_data"
    }
   ],
   "source": [
    "sns.barplot(x = 'Crop_Year', y = 'Production', data = data)\n",
    "plt.xticks(rotation = 90)"
   ]
  },
  {
   "cell_type": "code",
   "execution_count": 21,
   "id": "86701a6d",
   "metadata": {},
   "outputs": [
    {
     "data": {
      "text/plain": [
       "([0, 1, 2, 3, 4, 5],\n",
       " [Text(0, 0, 'Kharif     '),\n",
       "  Text(1, 0, 'Whole Year '),\n",
       "  Text(2, 0, 'Autumn     '),\n",
       "  Text(3, 0, 'Rabi       '),\n",
       "  Text(4, 0, 'Summer     '),\n",
       "  Text(5, 0, 'Winter     ')])"
      ]
     },
     "execution_count": 21,
     "metadata": {},
     "output_type": "execute_result"
    },
    {
     "data": {
      "image/png": "[encoded data removed]",
      "text/plain": [
       "<Figure size 360x360 with 1 Axes>"
      ]
     },
     "metadata": {
      "needs_background": "light"
     },
     "output_type": "display_data"
    }
   ],
   "source": [
    "sns.relplot(x = 'Season', y = 'Yield', data = data)\n",
    "plt.xticks(rotation = 90)"
   ]
  },
  {
   "cell_type": "code",
   "execution_count": 22,
   "id": "9e3d386e",
   "metadata": {},
   "outputs": [
    {
     "data": {
      "text/plain": [
       "<seaborn.axisgrid.FacetGrid at 0x7fc9da6361c0>"
      ]
     },
     "execution_count": 22,
     "metadata": {},
     "output_type": "execute_result"
    },
    {
     "data": {
      "image/png": "[encoded data removed]",
      "text/plain": [
       "<Figure size 360x360 with 1 Axes>"
      ]
     },
     "metadata": {
      "needs_background": "light"
     },
     "output_type": "display_data"
    }
   ],
   "source": [
    "sns.relplot(y = 'Yield', x = 'Season', data = data)"
   ]
  },
  {
   "cell_type": "code",
   "execution_count": 23,
   "id": "4cfcfb49",
   "metadata": {},
   "outputs": [
    {
     "data": {
      "text/plain": [
       "([0, 1, 2, 3, 4, 5],\n",
       " [Text(0, 0, 'Kharif     '),\n",
       "  Text(1, 0, 'Whole Year '),\n",
       "  Text(2, 0, 'Autumn     '),\n",
       "  Text(3, 0, 'Rabi       '),\n",
       "  Text(4, 0, 'Summer     '),\n",
       "  Text(5, 0, 'Winter     ')])"
      ]
     },
     "execution_count": 23,
     "metadata": {},
     "output_type": "execute_result"
    },
    {
     "data": {
      "image/png": "[encoded data removed]",
      "text/plain": [
       "<Figure size 360x360 with 1 Axes>"
      ]
     },
     "metadata": {
      "needs_background": "light"
     },
     "output_type": "display_data"
    }
   ],
   "source": [
    "sns.relplot(x = 'Season', y = 'Yield', data = data, kind = 'line')\n",
    "plt.xticks(rotation = 90)"
   ]
  },
  {
   "cell_type": "code",
   "execution_count": 24,
   "id": "da482a64",
   "metadata": {},
   "outputs": [
    {
     "data": {
      "text/plain": [
       "([0, 1, 2, 3, 4, 5],\n",
       " [Text(0, 0, 'Kharif     '),\n",
       "  Text(1, 0, 'Whole Year '),\n",
       "  Text(2, 0, 'Autumn     '),\n",
       "  Text(3, 0, 'Rabi       '),\n",
       "  Text(4, 0, 'Summer     '),\n",
       "  Text(5, 0, 'Winter     ')])"
      ]
     },
     "execution_count": 24,
     "metadata": {},
     "output_type": "execute_result"
    },
    {
     "data": {
      "image/png": "[encoded data removed]",
      "text/plain": [
       "<Figure size 360x360 with 1 Axes>"
      ]
     },
     "metadata": {
      "needs_background": "light"
     },
     "output_type": "display_data"
    }
   ],
   "source": [
    "sns.relplot(x = 'Season', y = 'Production', data = data, kind = 'line')\n",
    "plt.xticks(rotation = 90)"
   ]
  },
  {
   "cell_type": "code",
   "execution_count": 25,
   "id": "8c2119ca",
   "metadata": {},
   "outputs": [
    {
     "data": {
      "text/plain": [
       "(array([  0,   1,   2,   3,   4,   5,   6,   7,   8,   9,  10,  11,  12,\n",
       "         13,  14,  15,  16,  17,  18,  19,  20,  21,  22,  23,  24,  25,\n",
       "         26,  27,  28,  29,  30,  31,  32,  33,  34,  35,  36,  37,  38,\n",
       "         39,  40,  41,  42,  43,  44,  45,  46,  47,  48,  49,  50,  51,\n",
       "         52,  53,  54,  55,  56,  57,  58,  59,  60,  61,  62,  63,  64,\n",
       "         65,  66,  67,  68,  69,  70,  71,  72,  73,  74,  75,  76,  77,\n",
       "         78,  79,  80,  81,  82,  83,  84,  85,  86,  87,  88,  89,  90,\n",
       "         91,  92,  93,  94,  95,  96,  97,  98,  99, 100, 101, 102, 103,\n",
       "        104, 105, 106, 107, 108, 109, 110, 111, 112, 113, 114, 115, 116,\n",
       "        117, 118, 119, 120, 121, 122, 123]),\n",
       " [Text(0, 0, 'Arecanut'),\n",
       "  Text(1, 0, 'Other Kharif pulses'),\n",
       "  Text(2, 0, 'Rice'),\n",
       "  Text(3, 0, 'Banana'),\n",
       "  Text(4, 0, 'Cashewnut'),\n",
       "  Text(5, 0, 'Coconut '),\n",
       "  Text(6, 0, 'Dry ginger'),\n",
       "  Text(7, 0, 'Sugarcane'),\n",
       "  Text(8, 0, 'Sweet potato'),\n",
       "  Text(9, 0, 'Tapioca'),\n",
       "  Text(10, 0, 'Black pepper'),\n",
       "  Text(11, 0, 'Dry chillies'),\n",
       "  Text(12, 0, 'other oilseeds'),\n",
       "  Text(13, 0, 'Turmeric'),\n",
       "  Text(14, 0, 'Maize'),\n",
       "  Text(15, 0, 'Moong(Green Gram)'),\n",
       "  Text(16, 0, 'Urad'),\n",
       "  Text(17, 0, 'Arhar/Tur'),\n",
       "  Text(18, 0, 'Groundnut'),\n",
       "  Text(19, 0, 'Sunflower'),\n",
       "  Text(20, 0, 'Bajra'),\n",
       "  Text(21, 0, 'Castor seed'),\n",
       "  Text(22, 0, 'Cotton(lint)'),\n",
       "  Text(23, 0, 'Horse-gram'),\n",
       "  Text(24, 0, 'Jowar'),\n",
       "  Text(25, 0, 'Korra'),\n",
       "  Text(26, 0, 'Ragi'),\n",
       "  Text(27, 0, 'Tobacco'),\n",
       "  Text(28, 0, 'Gram'),\n",
       "  Text(29, 0, 'Wheat'),\n",
       "  Text(30, 0, 'Masoor'),\n",
       "  Text(31, 0, 'Sesamum'),\n",
       "  Text(32, 0, 'Linseed'),\n",
       "  Text(33, 0, 'Safflower'),\n",
       "  Text(34, 0, 'Onion'),\n",
       "  Text(35, 0, 'other misc. pulses'),\n",
       "  Text(36, 0, 'Samai'),\n",
       "  Text(37, 0, 'Small millets'),\n",
       "  Text(38, 0, 'Coriander'),\n",
       "  Text(39, 0, 'Potato'),\n",
       "  Text(40, 0, 'Other  Rabi pulses'),\n",
       "  Text(41, 0, 'Soyabean'),\n",
       "  Text(42, 0, 'Beans & Mutter(Vegetable)'),\n",
       "  Text(43, 0, 'Bhindi'),\n",
       "  Text(44, 0, 'Brinjal'),\n",
       "  Text(45, 0, 'Citrus Fruit'),\n",
       "  Text(46, 0, 'Cucumber'),\n",
       "  Text(47, 0, 'Grapes'),\n",
       "  Text(48, 0, 'Mango'),\n",
       "  Text(49, 0, 'Orange'),\n",
       "  Text(50, 0, 'other fibres'),\n",
       "  Text(51, 0, 'Other Fresh Fruits'),\n",
       "  Text(52, 0, 'Other Vegetables'),\n",
       "  Text(53, 0, 'Papaya'),\n",
       "  Text(54, 0, 'Pome Fruit'),\n",
       "  Text(55, 0, 'Tomato'),\n",
       "  Text(56, 0, 'Mesta'),\n",
       "  Text(57, 0, 'Cowpea(Lobia)'),\n",
       "  Text(58, 0, 'Lemon'),\n",
       "  Text(59, 0, 'Pome Granet'),\n",
       "  Text(60, 0, 'Sapota'),\n",
       "  Text(61, 0, 'Cabbage'),\n",
       "  Text(62, 0, 'Rapeseed &Mustard'),\n",
       "  Text(63, 0, 'Peas  (vegetable)'),\n",
       "  Text(64, 0, 'Niger seed'),\n",
       "  Text(65, 0, 'Bottle Gourd'),\n",
       "  Text(66, 0, 'Varagu'),\n",
       "  Text(67, 0, 'Garlic'),\n",
       "  Text(68, 0, 'Ginger'),\n",
       "  Text(69, 0, 'Oilseeds total'),\n",
       "  Text(70, 0, 'Pulses total'),\n",
       "  Text(71, 0, 'Jute'),\n",
       "  Text(72, 0, 'Peas & beans (Pulses)'),\n",
       "  Text(73, 0, 'Blackgram'),\n",
       "  Text(74, 0, 'Paddy'),\n",
       "  Text(75, 0, 'Pineapple'),\n",
       "  Text(76, 0, 'Barley'),\n",
       "  Text(77, 0, 'Sannhamp'),\n",
       "  Text(78, 0, 'Khesari'),\n",
       "  Text(79, 0, 'Guar seed'),\n",
       "  Text(80, 0, 'Moth'),\n",
       "  Text(81, 0, 'Other Cereals & Millets'),\n",
       "  Text(82, 0, 'Cond-spcs other'),\n",
       "  Text(83, 0, 'Turnip'),\n",
       "  Text(84, 0, 'Carrot'),\n",
       "  Text(85, 0, 'Redish'),\n",
       "  Text(86, 0, 'Arcanut (Processed)'),\n",
       "  Text(87, 0, 'Atcanut (Raw)'),\n",
       "  Text(88, 0, 'Cashewnut Processed'),\n",
       "  Text(89, 0, 'Cashewnut Raw'),\n",
       "  Text(90, 0, 'Cardamom'),\n",
       "  Text(91, 0, 'Rubber'),\n",
       "  Text(92, 0, 'Bitter Gourd'),\n",
       "  Text(93, 0, 'Drum Stick'),\n",
       "  Text(94, 0, 'Jack Fruit'),\n",
       "  Text(95, 0, 'Snak Guard'),\n",
       "  Text(96, 0, 'Tea'),\n",
       "  Text(97, 0, 'Coffee'),\n",
       "  Text(98, 0, 'Cauliflower'),\n",
       "  Text(99, 0, 'Other Citrus Fruit'),\n",
       "  Text(100, 0, 'Water Melon'),\n",
       "  Text(101, 0, 'Total foodgrain'),\n",
       "  Text(102, 0, 'Kapas'),\n",
       "  Text(103, 0, 'Colocosia'),\n",
       "  Text(104, 0, 'Lentil'),\n",
       "  Text(105, 0, 'Bean'),\n",
       "  Text(106, 0, 'Jobster'),\n",
       "  Text(107, 0, 'Perilla'),\n",
       "  Text(108, 0, 'Rajmash Kholar'),\n",
       "  Text(109, 0, 'Ricebean (nagadal)'),\n",
       "  Text(110, 0, 'Ash Gourd'),\n",
       "  Text(111, 0, 'Beet Root'),\n",
       "  Text(112, 0, 'Lab-Lab'),\n",
       "  Text(113, 0, 'Ribed Guard'),\n",
       "  Text(114, 0, 'Yam'),\n",
       "  Text(115, 0, 'Pump Kin'),\n",
       "  Text(116, 0, 'Apple'),\n",
       "  Text(117, 0, 'Peach'),\n",
       "  Text(118, 0, 'Pear'),\n",
       "  Text(119, 0, 'Plums'),\n",
       "  Text(120, 0, 'Litchi'),\n",
       "  Text(121, 0, 'Ber'),\n",
       "  Text(122, 0, 'Other Dry Fruit'),\n",
       "  Text(123, 0, 'Jute & mesta')])"
      ]
     },
     "execution_count": 25,
     "metadata": {},
     "output_type": "execute_result"
    },
    {
     "data": {
      "image/png": "[encoded data removed]",
      "text/plain": [
       "<Figure size 432x288 with 1 Axes>"
      ]
     },
     "metadata": {
      "needs_background": "light"
     },
     "output_type": "display_data"
    }
   ],
   "source": [
    "sns.barplot(x = 'Crop', y = 'Yield', data = data)\n",
    "plt.xticks(rotation = 90)"
   ]
  },
  {
   "cell_type": "raw",
   "id": "6ac84da7",
   "metadata": {},
   "source": [
    "Conclusions Obtained from the dataset:\n",
    "\n",
    "1. Kerela is the largest producer of crop in India.\n",
    "2. Production per unit area (Yield ) of Puducherry is maximum.\n",
    "3. In the year 2011, crop yield was maximum.\n"
   ]
  },
  {
   "cell_type": "markdown",
   "id": "51780d27",
   "metadata": {},
   "source": [
    "## Analyzing each type of crop"
   ]
  },
  {
   "cell_type": "code",
   "execution_count": 26,
   "id": "9285c254",
   "metadata": {},
   "outputs": [],
   "source": [
    "# 1) Rice"
   ]
  },
  {
   "cell_type": "code",
   "execution_count": 27,
   "id": "172555a4",
   "metadata": {},
   "outputs": [],
   "source": [
    "rice_data = data[data['Crop'] == 'Rice']"
   ]
  },
  {
   "cell_type": "code",
   "execution_count": 28,
   "id": "e321fcf3",
   "metadata": {},
   "outputs": [
    {
     "data": {
      "text/html": [
       "<div>\n",
       "<style scoped>\n",
       "    .dataframe tbody tr th:only-of-type {\n",
       "        vertical-align: middle;\n",
       "    }\n",
       "\n",
       "    .dataframe tbody tr th {\n",
       "        vertical-align: top;\n",
       "    }\n",
       "\n",
       "    .dataframe thead th {\n",
       "        text-align: right;\n",
       "    }\n",
       "</style>\n",
       "<table border=\"1\" class=\"dataframe\">\n",
       "  <thead>\n",
       "    <tr style=\"text-align: right;\">\n",
       "      <th></th>\n",
       "      <th>State_Name</th>\n",
       "      <th>District_Name</th>\n",
       "      <th>Crop_Year</th>\n",
       "      <th>Season</th>\n",
       "      <th>Crop</th>\n",
       "      <th>Area</th>\n",
       "      <th>Production</th>\n",
       "      <th>Yield</th>\n",
       "    </tr>\n",
       "  </thead>\n",
       "  <tbody>\n",
       "    <tr>\n",
       "      <th>2</th>\n",
       "      <td>Andaman and Nicobar Islands</td>\n",
       "      <td>NICOBARS</td>\n",
       "      <td>2000</td>\n",
       "      <td>Kharif</td>\n",
       "      <td>Rice</td>\n",
       "      <td>102.00</td>\n",
       "      <td>321.00</td>\n",
       "      <td>3.147059</td>\n",
       "    </tr>\n",
       "    <tr>\n",
       "      <th>12</th>\n",
       "      <td>Andaman and Nicobar Islands</td>\n",
       "      <td>NICOBARS</td>\n",
       "      <td>2001</td>\n",
       "      <td>Kharif</td>\n",
       "      <td>Rice</td>\n",
       "      <td>83.00</td>\n",
       "      <td>300.00</td>\n",
       "      <td>3.614458</td>\n",
       "    </tr>\n",
       "    <tr>\n",
       "      <th>18</th>\n",
       "      <td>Andaman and Nicobar Islands</td>\n",
       "      <td>NICOBARS</td>\n",
       "      <td>2002</td>\n",
       "      <td>Kharif</td>\n",
       "      <td>Rice</td>\n",
       "      <td>189.20</td>\n",
       "      <td>510.84</td>\n",
       "      <td>2.700000</td>\n",
       "    </tr>\n",
       "    <tr>\n",
       "      <th>27</th>\n",
       "      <td>Andaman and Nicobar Islands</td>\n",
       "      <td>NICOBARS</td>\n",
       "      <td>2003</td>\n",
       "      <td>Kharif</td>\n",
       "      <td>Rice</td>\n",
       "      <td>52.00</td>\n",
       "      <td>90.17</td>\n",
       "      <td>1.734038</td>\n",
       "    </tr>\n",
       "    <tr>\n",
       "      <th>36</th>\n",
       "      <td>Andaman and Nicobar Islands</td>\n",
       "      <td>NICOBARS</td>\n",
       "      <td>2004</td>\n",
       "      <td>Kharif</td>\n",
       "      <td>Rice</td>\n",
       "      <td>52.94</td>\n",
       "      <td>72.57</td>\n",
       "      <td>1.370797</td>\n",
       "    </tr>\n",
       "    <tr>\n",
       "      <th>...</th>\n",
       "      <td>...</td>\n",
       "      <td>...</td>\n",
       "      <td>...</td>\n",
       "      <td>...</td>\n",
       "      <td>...</td>\n",
       "      <td>...</td>\n",
       "      <td>...</td>\n",
       "      <td>...</td>\n",
       "    </tr>\n",
       "    <tr>\n",
       "      <th>246049</th>\n",
       "      <td>West Bengal</td>\n",
       "      <td>PURULIA</td>\n",
       "      <td>2013</td>\n",
       "      <td>Summer</td>\n",
       "      <td>Rice</td>\n",
       "      <td>516.00</td>\n",
       "      <td>1274.00</td>\n",
       "      <td>2.468992</td>\n",
       "    </tr>\n",
       "    <tr>\n",
       "      <th>246052</th>\n",
       "      <td>West Bengal</td>\n",
       "      <td>PURULIA</td>\n",
       "      <td>2013</td>\n",
       "      <td>Winter</td>\n",
       "      <td>Rice</td>\n",
       "      <td>302274.00</td>\n",
       "      <td>730136.00</td>\n",
       "      <td>2.415477</td>\n",
       "    </tr>\n",
       "    <tr>\n",
       "      <th>246058</th>\n",
       "      <td>West Bengal</td>\n",
       "      <td>PURULIA</td>\n",
       "      <td>2014</td>\n",
       "      <td>Autumn</td>\n",
       "      <td>Rice</td>\n",
       "      <td>264.00</td>\n",
       "      <td>721.00</td>\n",
       "      <td>2.731061</td>\n",
       "    </tr>\n",
       "    <tr>\n",
       "      <th>246086</th>\n",
       "      <td>West Bengal</td>\n",
       "      <td>PURULIA</td>\n",
       "      <td>2014</td>\n",
       "      <td>Summer</td>\n",
       "      <td>Rice</td>\n",
       "      <td>306.00</td>\n",
       "      <td>801.00</td>\n",
       "      <td>2.617647</td>\n",
       "    </tr>\n",
       "    <tr>\n",
       "      <th>246089</th>\n",
       "      <td>West Bengal</td>\n",
       "      <td>PURULIA</td>\n",
       "      <td>2014</td>\n",
       "      <td>Winter</td>\n",
       "      <td>Rice</td>\n",
       "      <td>279151.00</td>\n",
       "      <td>597899.00</td>\n",
       "      <td>2.141848</td>\n",
       "    </tr>\n",
       "  </tbody>\n",
       "</table>\n",
       "<p>15082 rows × 8 columns</p>\n",
       "</div>"
      ],
      "text/plain": [
       "                         State_Name District_Name  Crop_Year       Season  \\\n",
       "2       Andaman and Nicobar Islands      NICOBARS       2000  Kharif        \n",
       "12      Andaman and Nicobar Islands      NICOBARS       2001  Kharif        \n",
       "18      Andaman and Nicobar Islands      NICOBARS       2002  Kharif        \n",
       "27      Andaman and Nicobar Islands      NICOBARS       2003  Kharif        \n",
       "36      Andaman and Nicobar Islands      NICOBARS       2004  Kharif        \n",
       "...                             ...           ...        ...          ...   \n",
       "246049                  West Bengal       PURULIA       2013  Summer        \n",
       "246052                  West Bengal       PURULIA       2013  Winter        \n",
       "246058                  West Bengal       PURULIA       2014  Autumn        \n",
       "246086                  West Bengal       PURULIA       2014  Summer        \n",
       "246089                  West Bengal       PURULIA       2014  Winter        \n",
       "\n",
       "        Crop       Area  Production     Yield  \n",
       "2       Rice     102.00      321.00  3.147059  \n",
       "12      Rice      83.00      300.00  3.614458  \n",
       "18      Rice     189.20      510.84  2.700000  \n",
       "27      Rice      52.00       90.17  1.734038  \n",
       "36      Rice      52.94       72.57  1.370797  \n",
       "...      ...        ...         ...       ...  \n",
       "246049  Rice     516.00     1274.00  2.468992  \n",
       "246052  Rice  302274.00   730136.00  2.415477  \n",
       "246058  Rice     264.00      721.00  2.731061  \n",
       "246086  Rice     306.00      801.00  2.617647  \n",
       "246089  Rice  279151.00   597899.00  2.141848  \n",
       "\n",
       "[15082 rows x 8 columns]"
      ]
     },
     "execution_count": 28,
     "metadata": {},
     "output_type": "execute_result"
    }
   ],
   "source": [
    "rice_data"
   ]
  },
  {
   "cell_type": "code",
   "execution_count": 29,
   "id": "e75b0201",
   "metadata": {},
   "outputs": [
    {
     "data": {
      "text/plain": [
       "(15082, 8)"
      ]
     },
     "execution_count": 29,
     "metadata": {},
     "output_type": "execute_result"
    }
   ],
   "source": [
    "rice_data.shape"
   ]
  },
  {
   "cell_type": "code",
   "execution_count": 30,
   "id": "ad1bd9e2",
   "metadata": {},
   "outputs": [
    {
     "data": {
      "text/plain": [
       "(array([0, 1, 2, 3, 4, 5]),\n",
       " [Text(0, 0, 'Kharif     '),\n",
       "  Text(1, 0, 'Autumn     '),\n",
       "  Text(2, 0, 'Rabi       '),\n",
       "  Text(3, 0, 'Whole Year '),\n",
       "  Text(4, 0, 'Summer     '),\n",
       "  Text(5, 0, 'Winter     ')])"
      ]
     },
     "execution_count": 30,
     "metadata": {},
     "output_type": "execute_result"
    },
    {
     "data": {
      "image/png": "[encoded data removed]",
      "text/plain": [
       "<Figure size 432x288 with 1 Axes>"
      ]
     },
     "metadata": {
      "needs_background": "light"
     },
     "output_type": "display_data"
    }
   ],
   "source": [
    "sns.barplot(x = 'Season', y = 'Yield', data = rice_data)\n",
    "plt.xticks(rotation = 90)"
   ]
  },
  {
   "cell_type": "code",
   "execution_count": 31,
   "id": "27dfa0ba",
   "metadata": {},
   "outputs": [
    {
     "data": {
      "text/plain": [
       "(array([ 0,  1,  2,  3,  4,  5,  6,  7,  8,  9, 10, 11, 12, 13, 14, 15, 16,\n",
       "        17, 18, 19, 20, 21, 22, 23, 24, 25, 26, 27, 28, 29, 30, 31, 32]),\n",
       " [Text(0, 0, 'Andaman and Nicobar Islands'),\n",
       "  Text(1, 0, 'Andhra Pradesh'),\n",
       "  Text(2, 0, 'Arunachal Pradesh'),\n",
       "  Text(3, 0, 'Assam'),\n",
       "  Text(4, 0, 'Bihar'),\n",
       "  Text(5, 0, 'Chandigarh'),\n",
       "  Text(6, 0, 'Chhattisgarh'),\n",
       "  Text(7, 0, 'Dadra and Nagar Haveli'),\n",
       "  Text(8, 0, 'Goa'),\n",
       "  Text(9, 0, 'Gujarat'),\n",
       "  Text(10, 0, 'Haryana'),\n",
       "  Text(11, 0, 'Himachal Pradesh'),\n",
       "  Text(12, 0, 'Jammu and Kashmir '),\n",
       "  Text(13, 0, 'Jharkhand'),\n",
       "  Text(14, 0, 'Karnataka'),\n",
       "  Text(15, 0, 'Kerala'),\n",
       "  Text(16, 0, 'Madhya Pradesh'),\n",
       "  Text(17, 0, 'Maharashtra'),\n",
       "  Text(18, 0, 'Manipur'),\n",
       "  Text(19, 0, 'Meghalaya'),\n",
       "  Text(20, 0, 'Mizoram'),\n",
       "  Text(21, 0, 'Nagaland'),\n",
       "  Text(22, 0, 'Odisha'),\n",
       "  Text(23, 0, 'Puducherry'),\n",
       "  Text(24, 0, 'Punjab'),\n",
       "  Text(25, 0, 'Rajasthan'),\n",
       "  Text(26, 0, 'Sikkim'),\n",
       "  Text(27, 0, 'Tamil Nadu'),\n",
       "  Text(28, 0, 'Telangana '),\n",
       "  Text(29, 0, 'Tripura'),\n",
       "  Text(30, 0, 'Uttar Pradesh'),\n",
       "  Text(31, 0, 'Uttarakhand'),\n",
       "  Text(32, 0, 'West Bengal')])"
      ]
     },
     "execution_count": 31,
     "metadata": {},
     "output_type": "execute_result"
    },
    {
     "data": {
      "image/png": "[encoded data removed]",
      "text/plain": [
       "<Figure size 432x288 with 1 Axes>"
      ]
     },
     "metadata": {
      "needs_background": "light"
     },
     "output_type": "display_data"
    }
   ],
   "source": [
    "sns.barplot(x = 'State_Name', y = 'Yield', data = rice_data)\n",
    "plt.xticks(rotation = 90)"
   ]
  },
  {
   "cell_type": "code",
   "execution_count": 32,
   "id": "4c8090b3",
   "metadata": {},
   "outputs": [
    {
     "data": {
      "text/plain": [
       "(array([ 0,  1,  2,  3,  4,  5,  6,  7,  8,  9, 10, 11, 12, 13, 14, 15, 16,\n",
       "        17, 18]),\n",
       " [Text(0, 0, '1997'),\n",
       "  Text(1, 0, '1998'),\n",
       "  Text(2, 0, '1999'),\n",
       "  Text(3, 0, '2000'),\n",
       "  Text(4, 0, '2001'),\n",
       "  Text(5, 0, '2002'),\n",
       "  Text(6, 0, '2003'),\n",
       "  Text(7, 0, '2004'),\n",
       "  Text(8, 0, '2005'),\n",
       "  Text(9, 0, '2006'),\n",
       "  Text(10, 0, '2007'),\n",
       "  Text(11, 0, '2008'),\n",
       "  Text(12, 0, '2009'),\n",
       "  Text(13, 0, '2010'),\n",
       "  Text(14, 0, '2011'),\n",
       "  Text(15, 0, '2012'),\n",
       "  Text(16, 0, '2013'),\n",
       "  Text(17, 0, '2014'),\n",
       "  Text(18, 0, '2015')])"
      ]
     },
     "execution_count": 32,
     "metadata": {},
     "output_type": "execute_result"
    },
    {
     "data": {
      "image/png": "[encoded data removed]",
      "text/plain": [
       "<Figure size 432x288 with 1 Axes>"
      ]
     },
     "metadata": {
      "needs_background": "light"
     },
     "output_type": "display_data"
    }
   ],
   "source": [
    "sns.barplot(x = 'Crop_Year', y = 'Production', data = rice_data)\n",
    "plt.xticks(rotation = 90)"
   ]
  },
  {
   "cell_type": "code",
   "execution_count": 33,
   "id": "02b9833c",
   "metadata": {},
   "outputs": [
    {
     "data": {
      "text/plain": [
       "(array([ 0,  1,  2,  3,  4,  5,  6,  7,  8,  9, 10, 11, 12, 13, 14, 15, 16,\n",
       "        17, 18]),\n",
       " [Text(0, 0, '1997'),\n",
       "  Text(1, 0, '1998'),\n",
       "  Text(2, 0, '1999'),\n",
       "  Text(3, 0, '2000'),\n",
       "  Text(4, 0, '2001'),\n",
       "  Text(5, 0, '2002'),\n",
       "  Text(6, 0, '2003'),\n",
       "  Text(7, 0, '2004'),\n",
       "  Text(8, 0, '2005'),\n",
       "  Text(9, 0, '2006'),\n",
       "  Text(10, 0, '2007'),\n",
       "  Text(11, 0, '2008'),\n",
       "  Text(12, 0, '2009'),\n",
       "  Text(13, 0, '2010'),\n",
       "  Text(14, 0, '2011'),\n",
       "  Text(15, 0, '2012'),\n",
       "  Text(16, 0, '2013'),\n",
       "  Text(17, 0, '2014'),\n",
       "  Text(18, 0, '2015')])"
      ]
     },
     "execution_count": 33,
     "metadata": {},
     "output_type": "execute_result"
    },
    {
     "data": {
      "image/png": "[encoded data removed]",
      "text/plain": [
       "<Figure size 432x288 with 1 Axes>"
      ]
     },
     "metadata": {
      "needs_background": "light"
     },
     "output_type": "display_data"
    }
   ],
   "source": [
    "sns.barplot(x = 'Crop_Year', y = 'Yield', data = rice_data)\n",
    "plt.xticks(rotation = 90)"
   ]
  },
  {
   "cell_type": "raw",
   "id": "1f34841c",
   "metadata": {},
   "source": [
    "Observations : \n",
    "\n",
    "1. Rice yield is maximum in Rabi season.\n",
    "2. Rice yield is maximum in Chandigarh.\n",
    "3. Rice yield has been growing a little from the year 2009 to 2014."
   ]
  },
  {
   "cell_type": "code",
   "execution_count": 34,
   "id": "949c9a32",
   "metadata": {},
   "outputs": [],
   "source": [
    "# 2) WHEAT"
   ]
  },
  {
   "cell_type": "code",
   "execution_count": 35,
   "id": "549f12e2",
   "metadata": {},
   "outputs": [],
   "source": [
    "wheat_data = data[data['Crop'] == 'Wheat']"
   ]
  },
  {
   "cell_type": "code",
   "execution_count": 36,
   "id": "b03f1af7",
   "metadata": {},
   "outputs": [
    {
     "data": {
      "text/html": [
       "<div>\n",
       "<style scoped>\n",
       "    .dataframe tbody tr th:only-of-type {\n",
       "        vertical-align: middle;\n",
       "    }\n",
       "\n",
       "    .dataframe tbody tr th {\n",
       "        vertical-align: top;\n",
       "    }\n",
       "\n",
       "    .dataframe thead th {\n",
       "        text-align: right;\n",
       "    }\n",
       "</style>\n",
       "<table border=\"1\" class=\"dataframe\">\n",
       "  <thead>\n",
       "    <tr style=\"text-align: right;\">\n",
       "      <th></th>\n",
       "      <th>State_Name</th>\n",
       "      <th>District_Name</th>\n",
       "      <th>Crop_Year</th>\n",
       "      <th>Season</th>\n",
       "      <th>Crop</th>\n",
       "      <th>Area</th>\n",
       "      <th>Production</th>\n",
       "      <th>Yield</th>\n",
       "    </tr>\n",
       "  </thead>\n",
       "  <tbody>\n",
       "    <tr>\n",
       "      <th>230</th>\n",
       "      <td>Andhra Pradesh</td>\n",
       "      <td>ANANTAPUR</td>\n",
       "      <td>1997</td>\n",
       "      <td>Rabi</td>\n",
       "      <td>Wheat</td>\n",
       "      <td>300.0</td>\n",
       "      <td>200.0</td>\n",
       "      <td>0.666667</td>\n",
       "    </tr>\n",
       "    <tr>\n",
       "      <th>255</th>\n",
       "      <td>Andhra Pradesh</td>\n",
       "      <td>ANANTAPUR</td>\n",
       "      <td>1998</td>\n",
       "      <td>Rabi</td>\n",
       "      <td>Wheat</td>\n",
       "      <td>400.0</td>\n",
       "      <td>200.0</td>\n",
       "      <td>0.500000</td>\n",
       "    </tr>\n",
       "    <tr>\n",
       "      <th>284</th>\n",
       "      <td>Andhra Pradesh</td>\n",
       "      <td>ANANTAPUR</td>\n",
       "      <td>1999</td>\n",
       "      <td>Rabi</td>\n",
       "      <td>Wheat</td>\n",
       "      <td>439.0</td>\n",
       "      <td>294.0</td>\n",
       "      <td>0.669704</td>\n",
       "    </tr>\n",
       "    <tr>\n",
       "      <th>326</th>\n",
       "      <td>Andhra Pradesh</td>\n",
       "      <td>ANANTAPUR</td>\n",
       "      <td>2000</td>\n",
       "      <td>Rabi</td>\n",
       "      <td>Wheat</td>\n",
       "      <td>520.0</td>\n",
       "      <td>297.0</td>\n",
       "      <td>0.571154</td>\n",
       "    </tr>\n",
       "    <tr>\n",
       "      <th>372</th>\n",
       "      <td>Andhra Pradesh</td>\n",
       "      <td>ANANTAPUR</td>\n",
       "      <td>2001</td>\n",
       "      <td>Rabi</td>\n",
       "      <td>Wheat</td>\n",
       "      <td>307.0</td>\n",
       "      <td>213.0</td>\n",
       "      <td>0.693811</td>\n",
       "    </tr>\n",
       "    <tr>\n",
       "      <th>...</th>\n",
       "      <td>...</td>\n",
       "      <td>...</td>\n",
       "      <td>...</td>\n",
       "      <td>...</td>\n",
       "      <td>...</td>\n",
       "      <td>...</td>\n",
       "      <td>...</td>\n",
       "      <td>...</td>\n",
       "    </tr>\n",
       "    <tr>\n",
       "      <th>245949</th>\n",
       "      <td>West Bengal</td>\n",
       "      <td>PURULIA</td>\n",
       "      <td>2010</td>\n",
       "      <td>Rabi</td>\n",
       "      <td>Wheat</td>\n",
       "      <td>2013.0</td>\n",
       "      <td>5152.0</td>\n",
       "      <td>2.559364</td>\n",
       "    </tr>\n",
       "    <tr>\n",
       "      <th>245980</th>\n",
       "      <td>West Bengal</td>\n",
       "      <td>PURULIA</td>\n",
       "      <td>2011</td>\n",
       "      <td>Rabi</td>\n",
       "      <td>Wheat</td>\n",
       "      <td>1880.0</td>\n",
       "      <td>4206.0</td>\n",
       "      <td>2.237234</td>\n",
       "    </tr>\n",
       "    <tr>\n",
       "      <th>246012</th>\n",
       "      <td>West Bengal</td>\n",
       "      <td>PURULIA</td>\n",
       "      <td>2012</td>\n",
       "      <td>Rabi</td>\n",
       "      <td>Wheat</td>\n",
       "      <td>1648.0</td>\n",
       "      <td>3310.0</td>\n",
       "      <td>2.008495</td>\n",
       "    </tr>\n",
       "    <tr>\n",
       "      <th>246047</th>\n",
       "      <td>West Bengal</td>\n",
       "      <td>PURULIA</td>\n",
       "      <td>2013</td>\n",
       "      <td>Rabi</td>\n",
       "      <td>Wheat</td>\n",
       "      <td>1187.0</td>\n",
       "      <td>2675.0</td>\n",
       "      <td>2.253580</td>\n",
       "    </tr>\n",
       "    <tr>\n",
       "      <th>246084</th>\n",
       "      <td>West Bengal</td>\n",
       "      <td>PURULIA</td>\n",
       "      <td>2014</td>\n",
       "      <td>Rabi</td>\n",
       "      <td>Wheat</td>\n",
       "      <td>1622.0</td>\n",
       "      <td>3663.0</td>\n",
       "      <td>2.258323</td>\n",
       "    </tr>\n",
       "  </tbody>\n",
       "</table>\n",
       "<p>7878 rows × 8 columns</p>\n",
       "</div>"
      ],
      "text/plain": [
       "            State_Name District_Name  Crop_Year       Season   Crop    Area  \\\n",
       "230     Andhra Pradesh     ANANTAPUR       1997  Rabi         Wheat   300.0   \n",
       "255     Andhra Pradesh     ANANTAPUR       1998  Rabi         Wheat   400.0   \n",
       "284     Andhra Pradesh     ANANTAPUR       1999  Rabi         Wheat   439.0   \n",
       "326     Andhra Pradesh     ANANTAPUR       2000  Rabi         Wheat   520.0   \n",
       "372     Andhra Pradesh     ANANTAPUR       2001  Rabi         Wheat   307.0   \n",
       "...                ...           ...        ...          ...    ...     ...   \n",
       "245949     West Bengal       PURULIA       2010  Rabi         Wheat  2013.0   \n",
       "245980     West Bengal       PURULIA       2011  Rabi         Wheat  1880.0   \n",
       "246012     West Bengal       PURULIA       2012  Rabi         Wheat  1648.0   \n",
       "246047     West Bengal       PURULIA       2013  Rabi         Wheat  1187.0   \n",
       "246084     West Bengal       PURULIA       2014  Rabi         Wheat  1622.0   \n",
       "\n",
       "        Production     Yield  \n",
       "230          200.0  0.666667  \n",
       "255          200.0  0.500000  \n",
       "284          294.0  0.669704  \n",
       "326          297.0  0.571154  \n",
       "372          213.0  0.693811  \n",
       "...            ...       ...  \n",
       "245949      5152.0  2.559364  \n",
       "245980      4206.0  2.237234  \n",
       "246012      3310.0  2.008495  \n",
       "246047      2675.0  2.253580  \n",
       "246084      3663.0  2.258323  \n",
       "\n",
       "[7878 rows x 8 columns]"
      ]
     },
     "execution_count": 36,
     "metadata": {},
     "output_type": "execute_result"
    }
   ],
   "source": [
    "wheat_data"
   ]
  },
  {
   "cell_type": "code",
   "execution_count": 37,
   "id": "fab18c2f",
   "metadata": {},
   "outputs": [
    {
     "data": {
      "text/plain": [
       "(array([0, 1, 2, 3, 4]),\n",
       " [Text(0, 0, 'Rabi       '),\n",
       "  Text(1, 0, 'Whole Year '),\n",
       "  Text(2, 0, 'Winter     '),\n",
       "  Text(3, 0, 'Kharif     '),\n",
       "  Text(4, 0, 'Summer     ')])"
      ]
     },
     "execution_count": 37,
     "metadata": {},
     "output_type": "execute_result"
    },
    {
     "data": {
      "image/png": "[encoded data removed]",
      "text/plain": [
       "<Figure size 432x288 with 1 Axes>"
      ]
     },
     "metadata": {
      "needs_background": "light"
     },
     "output_type": "display_data"
    }
   ],
   "source": [
    "sns.barplot(x = 'Season', y = 'Yield', data = wheat_data)\n",
    "plt.xticks(rotation = 90)"
   ]
  },
  {
   "cell_type": "code",
   "execution_count": 38,
   "id": "72fe65de",
   "metadata": {},
   "outputs": [
    {
     "data": {
      "text/plain": [
       "(array([ 0,  1,  2,  3,  4,  5,  6,  7,  8,  9, 10, 11, 12, 13, 14, 15, 16,\n",
       "        17, 18, 19, 20, 21, 22, 23, 24, 25, 26, 27, 28]),\n",
       " [Text(0, 0, 'Andhra Pradesh'),\n",
       "  Text(1, 0, 'Arunachal Pradesh'),\n",
       "  Text(2, 0, 'Assam'),\n",
       "  Text(3, 0, 'Bihar'),\n",
       "  Text(4, 0, 'Chandigarh'),\n",
       "  Text(5, 0, 'Chhattisgarh'),\n",
       "  Text(6, 0, 'Dadra and Nagar Haveli'),\n",
       "  Text(7, 0, 'Gujarat'),\n",
       "  Text(8, 0, 'Haryana'),\n",
       "  Text(9, 0, 'Himachal Pradesh'),\n",
       "  Text(10, 0, 'Jammu and Kashmir '),\n",
       "  Text(11, 0, 'Jharkhand'),\n",
       "  Text(12, 0, 'Karnataka'),\n",
       "  Text(13, 0, 'Kerala'),\n",
       "  Text(14, 0, 'Madhya Pradesh'),\n",
       "  Text(15, 0, 'Maharashtra'),\n",
       "  Text(16, 0, 'Meghalaya'),\n",
       "  Text(17, 0, 'Mizoram'),\n",
       "  Text(18, 0, 'Nagaland'),\n",
       "  Text(19, 0, 'Odisha'),\n",
       "  Text(20, 0, 'Punjab'),\n",
       "  Text(21, 0, 'Rajasthan'),\n",
       "  Text(22, 0, 'Sikkim'),\n",
       "  Text(23, 0, 'Tamil Nadu'),\n",
       "  Text(24, 0, 'Telangana '),\n",
       "  Text(25, 0, 'Tripura'),\n",
       "  Text(26, 0, 'Uttar Pradesh'),\n",
       "  Text(27, 0, 'Uttarakhand'),\n",
       "  Text(28, 0, 'West Bengal')])"
      ]
     },
     "execution_count": 38,
     "metadata": {},
     "output_type": "execute_result"
    },
    {
     "data": {
      "image/png": "[encoded data removed]",
      "text/plain": [
       "<Figure size 432x288 with 1 Axes>"
      ]
     },
     "metadata": {
      "needs_background": "light"
     },
     "output_type": "display_data"
    }
   ],
   "source": [
    "sns.barplot(x = 'State_Name', y = 'Production', data = wheat_data)\n",
    "plt.xticks(rotation = 90)"
   ]
  },
  {
   "cell_type": "code",
   "execution_count": 39,
   "id": "e57719d7",
   "metadata": {},
   "outputs": [
    {
     "data": {
      "text/plain": [
       "(array([1995. , 1997.5, 2000. , 2002.5, 2005. , 2007.5, 2010. , 2012.5,\n",
       "        2015. , 2017.5]),\n",
       " [Text(0, 0, ''),\n",
       "  Text(0, 0, ''),\n",
       "  Text(0, 0, ''),\n",
       "  Text(0, 0, ''),\n",
       "  Text(0, 0, ''),\n",
       "  Text(0, 0, ''),\n",
       "  Text(0, 0, ''),\n",
       "  Text(0, 0, ''),\n",
       "  Text(0, 0, ''),\n",
       "  Text(0, 0, '')])"
      ]
     },
     "execution_count": 39,
     "metadata": {},
     "output_type": "execute_result"
    },
    {
     "data": {
      "image/png": "[encoded data removed]",
      "text/plain": [
       "<Figure size 432x288 with 1 Axes>"
      ]
     },
     "metadata": {
      "needs_background": "light"
     },
     "output_type": "display_data"
    }
   ],
   "source": [
    "sns.lineplot(x = 'Crop_Year', y = 'Yield', data = wheat_data)\n",
    "plt.xticks(rotation = 90)"
   ]
  },
  {
   "cell_type": "raw",
   "id": "5b676c4f",
   "metadata": {},
   "source": [
    "Observations : \n",
    "\n",
    "1. Wheat yield is maximum in Rabi season.\n",
    "2. Wheat yield is maximum in Punjab.\n",
    "3. Wheat yield has been growing a little from the year 2007 to 2012."
   ]
  },
  {
   "cell_type": "code",
   "execution_count": 40,
   "id": "6a6ac69e",
   "metadata": {},
   "outputs": [],
   "source": [
    "# 3) COCONUT"
   ]
  },
  {
   "cell_type": "code",
   "execution_count": 41,
   "id": "175362a5",
   "metadata": {},
   "outputs": [],
   "source": [
    "coconut_data = data[data['Crop'] == 'Urad']"
   ]
  },
  {
   "cell_type": "code",
   "execution_count": 42,
   "id": "6b85d47f",
   "metadata": {},
   "outputs": [
    {
     "data": {
      "text/html": [
       "<div>\n",
       "<style scoped>\n",
       "    .dataframe tbody tr th:only-of-type {\n",
       "        vertical-align: middle;\n",
       "    }\n",
       "\n",
       "    .dataframe tbody tr th {\n",
       "        vertical-align: top;\n",
       "    }\n",
       "\n",
       "    .dataframe thead th {\n",
       "        text-align: right;\n",
       "    }\n",
       "</style>\n",
       "<table border=\"1\" class=\"dataframe\">\n",
       "  <thead>\n",
       "    <tr style=\"text-align: right;\">\n",
       "      <th></th>\n",
       "      <th>State_Name</th>\n",
       "      <th>District_Name</th>\n",
       "      <th>Crop_Year</th>\n",
       "      <th>Season</th>\n",
       "      <th>Crop</th>\n",
       "      <th>Area</th>\n",
       "      <th>Production</th>\n",
       "      <th>Yield</th>\n",
       "    </tr>\n",
       "  </thead>\n",
       "  <tbody>\n",
       "    <tr>\n",
       "      <th>75</th>\n",
       "      <td>Andaman and Nicobar Islands</td>\n",
       "      <td>NICOBARS</td>\n",
       "      <td>2010</td>\n",
       "      <td>Rabi</td>\n",
       "      <td>Urad</td>\n",
       "      <td>1.5</td>\n",
       "      <td>1.16</td>\n",
       "      <td>0.773333</td>\n",
       "    </tr>\n",
       "    <tr>\n",
       "      <th>125</th>\n",
       "      <td>Andaman and Nicobar Islands</td>\n",
       "      <td>NORTH AND MIDDLE ANDAMAN</td>\n",
       "      <td>2010</td>\n",
       "      <td>Rabi</td>\n",
       "      <td>Urad</td>\n",
       "      <td>1059.5</td>\n",
       "      <td>458.79</td>\n",
       "      <td>0.433025</td>\n",
       "    </tr>\n",
       "    <tr>\n",
       "      <th>199</th>\n",
       "      <td>Andaman and Nicobar Islands</td>\n",
       "      <td>SOUTH ANDAMANS</td>\n",
       "      <td>2010</td>\n",
       "      <td>Rabi</td>\n",
       "      <td>Urad</td>\n",
       "      <td>34.0</td>\n",
       "      <td>15.05</td>\n",
       "      <td>0.442647</td>\n",
       "    </tr>\n",
       "    <tr>\n",
       "      <th>270</th>\n",
       "      <td>Andhra Pradesh</td>\n",
       "      <td>ANANTAPUR</td>\n",
       "      <td>1999</td>\n",
       "      <td>Kharif</td>\n",
       "      <td>Urad</td>\n",
       "      <td>4.0</td>\n",
       "      <td>2.00</td>\n",
       "      <td>0.500000</td>\n",
       "    </tr>\n",
       "    <tr>\n",
       "      <th>309</th>\n",
       "      <td>Andhra Pradesh</td>\n",
       "      <td>ANANTAPUR</td>\n",
       "      <td>2000</td>\n",
       "      <td>Kharif</td>\n",
       "      <td>Urad</td>\n",
       "      <td>135.0</td>\n",
       "      <td>8.00</td>\n",
       "      <td>0.059259</td>\n",
       "    </tr>\n",
       "    <tr>\n",
       "      <th>...</th>\n",
       "      <td>...</td>\n",
       "      <td>...</td>\n",
       "      <td>...</td>\n",
       "      <td>...</td>\n",
       "      <td>...</td>\n",
       "      <td>...</td>\n",
       "      <td>...</td>\n",
       "      <td>...</td>\n",
       "    </tr>\n",
       "    <tr>\n",
       "      <th>246000</th>\n",
       "      <td>West Bengal</td>\n",
       "      <td>PURULIA</td>\n",
       "      <td>2012</td>\n",
       "      <td>Kharif</td>\n",
       "      <td>Urad</td>\n",
       "      <td>9258.0</td>\n",
       "      <td>2910.00</td>\n",
       "      <td>0.314323</td>\n",
       "    </tr>\n",
       "    <tr>\n",
       "      <th>246011</th>\n",
       "      <td>West Bengal</td>\n",
       "      <td>PURULIA</td>\n",
       "      <td>2012</td>\n",
       "      <td>Rabi</td>\n",
       "      <td>Urad</td>\n",
       "      <td>259.0</td>\n",
       "      <td>133.00</td>\n",
       "      <td>0.513514</td>\n",
       "    </tr>\n",
       "    <tr>\n",
       "      <th>246033</th>\n",
       "      <td>West Bengal</td>\n",
       "      <td>PURULIA</td>\n",
       "      <td>2013</td>\n",
       "      <td>Kharif</td>\n",
       "      <td>Urad</td>\n",
       "      <td>12986.0</td>\n",
       "      <td>2877.00</td>\n",
       "      <td>0.221546</td>\n",
       "    </tr>\n",
       "    <tr>\n",
       "      <th>246070</th>\n",
       "      <td>West Bengal</td>\n",
       "      <td>PURULIA</td>\n",
       "      <td>2014</td>\n",
       "      <td>Kharif</td>\n",
       "      <td>Urad</td>\n",
       "      <td>11493.0</td>\n",
       "      <td>3287.00</td>\n",
       "      <td>0.286000</td>\n",
       "    </tr>\n",
       "    <tr>\n",
       "      <th>246083</th>\n",
       "      <td>West Bengal</td>\n",
       "      <td>PURULIA</td>\n",
       "      <td>2014</td>\n",
       "      <td>Rabi</td>\n",
       "      <td>Urad</td>\n",
       "      <td>220.0</td>\n",
       "      <td>113.00</td>\n",
       "      <td>0.513636</td>\n",
       "    </tr>\n",
       "  </tbody>\n",
       "</table>\n",
       "<p>9710 rows × 8 columns</p>\n",
       "</div>"
      ],
      "text/plain": [
       "                         State_Name             District_Name  Crop_Year  \\\n",
       "75      Andaman and Nicobar Islands                  NICOBARS       2010   \n",
       "125     Andaman and Nicobar Islands  NORTH AND MIDDLE ANDAMAN       2010   \n",
       "199     Andaman and Nicobar Islands            SOUTH ANDAMANS       2010   \n",
       "270                  Andhra Pradesh                 ANANTAPUR       1999   \n",
       "309                  Andhra Pradesh                 ANANTAPUR       2000   \n",
       "...                             ...                       ...        ...   \n",
       "246000                  West Bengal                   PURULIA       2012   \n",
       "246011                  West Bengal                   PURULIA       2012   \n",
       "246033                  West Bengal                   PURULIA       2013   \n",
       "246070                  West Bengal                   PURULIA       2014   \n",
       "246083                  West Bengal                   PURULIA       2014   \n",
       "\n",
       "             Season  Crop     Area  Production     Yield  \n",
       "75      Rabi         Urad      1.5        1.16  0.773333  \n",
       "125     Rabi         Urad   1059.5      458.79  0.433025  \n",
       "199     Rabi         Urad     34.0       15.05  0.442647  \n",
       "270     Kharif       Urad      4.0        2.00  0.500000  \n",
       "309     Kharif       Urad    135.0        8.00  0.059259  \n",
       "...             ...   ...      ...         ...       ...  \n",
       "246000  Kharif       Urad   9258.0     2910.00  0.314323  \n",
       "246011  Rabi         Urad    259.0      133.00  0.513514  \n",
       "246033  Kharif       Urad  12986.0     2877.00  0.221546  \n",
       "246070  Kharif       Urad  11493.0     3287.00  0.286000  \n",
       "246083  Rabi         Urad    220.0      113.00  0.513636  \n",
       "\n",
       "[9710 rows x 8 columns]"
      ]
     },
     "execution_count": 42,
     "metadata": {},
     "output_type": "execute_result"
    }
   ],
   "source": [
    "coconut_data"
   ]
  },
  {
   "cell_type": "code",
   "execution_count": 43,
   "id": "b7ffe6a9",
   "metadata": {},
   "outputs": [
    {
     "data": {
      "text/plain": [
       "(array([0, 1, 2, 3, 4, 5]),\n",
       " [Text(0, 0, 'Rabi       '),\n",
       "  Text(1, 0, 'Kharif     '),\n",
       "  Text(2, 0, 'Summer     '),\n",
       "  Text(3, 0, 'Autumn     '),\n",
       "  Text(4, 0, 'Winter     '),\n",
       "  Text(5, 0, 'Whole Year ')])"
      ]
     },
     "execution_count": 43,
     "metadata": {},
     "output_type": "execute_result"
    },
    {
     "data": {
      "image/png": "[encoded data removed]",
      "text/plain": [
       "<Figure size 432x288 with 1 Axes>"
      ]
     },
     "metadata": {
      "needs_background": "light"
     },
     "output_type": "display_data"
    }
   ],
   "source": [
    "sns.barplot(x = 'Season', y = 'Yield', data = coconut_data)\n",
    "plt.xticks(rotation = 90)"
   ]
  },
  {
   "cell_type": "code",
   "execution_count": 44,
   "id": "3f261cdc",
   "metadata": {},
   "outputs": [
    {
     "data": {
      "text/plain": [
       "(array([ 0,  1,  2,  3,  4,  5,  6,  7,  8,  9, 10, 11, 12, 13, 14, 15, 16,\n",
       "        17, 18, 19, 20, 21, 22, 23, 24, 25, 26]),\n",
       " [Text(0, 0, 'Andaman and Nicobar Islands'),\n",
       "  Text(1, 0, 'Andhra Pradesh'),\n",
       "  Text(2, 0, 'Assam'),\n",
       "  Text(3, 0, 'Bihar'),\n",
       "  Text(4, 0, 'Chandigarh'),\n",
       "  Text(5, 0, 'Chhattisgarh'),\n",
       "  Text(6, 0, 'Dadra and Nagar Haveli'),\n",
       "  Text(7, 0, 'Gujarat'),\n",
       "  Text(8, 0, 'Haryana'),\n",
       "  Text(9, 0, 'Himachal Pradesh'),\n",
       "  Text(10, 0, 'Jammu and Kashmir '),\n",
       "  Text(11, 0, 'Karnataka'),\n",
       "  Text(12, 0, 'Madhya Pradesh'),\n",
       "  Text(13, 0, 'Maharashtra'),\n",
       "  Text(14, 0, 'Mizoram'),\n",
       "  Text(15, 0, 'Nagaland'),\n",
       "  Text(16, 0, 'Odisha'),\n",
       "  Text(17, 0, 'Puducherry'),\n",
       "  Text(18, 0, 'Punjab'),\n",
       "  Text(19, 0, 'Rajasthan'),\n",
       "  Text(20, 0, 'Sikkim'),\n",
       "  Text(21, 0, 'Tamil Nadu'),\n",
       "  Text(22, 0, 'Telangana '),\n",
       "  Text(23, 0, 'Tripura'),\n",
       "  Text(24, 0, 'Uttar Pradesh'),\n",
       "  Text(25, 0, 'Uttarakhand'),\n",
       "  Text(26, 0, 'West Bengal')])"
      ]
     },
     "execution_count": 44,
     "metadata": {},
     "output_type": "execute_result"
    },
    {
     "data": {
      "image/png": "[encoded data removed]",
      "text/plain": [
       "<Figure size 432x288 with 1 Axes>"
      ]
     },
     "metadata": {
      "needs_background": "light"
     },
     "output_type": "display_data"
    }
   ],
   "source": [
    "sns.barplot(x = 'State_Name', y = 'Yield', data = coconut_data)\n",
    "plt.xticks(rotation = 90)"
   ]
  },
  {
   "cell_type": "code",
   "execution_count": 45,
   "id": "41af4ac6",
   "metadata": {},
   "outputs": [
    {
     "data": {
      "text/plain": [
       "(array([ 0,  1,  2,  3,  4,  5,  6,  7,  8,  9, 10, 11, 12, 13, 14, 15, 16,\n",
       "        17, 18, 19, 20, 21, 22, 23, 24, 25, 26]),\n",
       " [Text(0, 0, 'Andaman and Nicobar Islands'),\n",
       "  Text(1, 0, 'Andhra Pradesh'),\n",
       "  Text(2, 0, 'Assam'),\n",
       "  Text(3, 0, 'Bihar'),\n",
       "  Text(4, 0, 'Chandigarh'),\n",
       "  Text(5, 0, 'Chhattisgarh'),\n",
       "  Text(6, 0, 'Dadra and Nagar Haveli'),\n",
       "  Text(7, 0, 'Gujarat'),\n",
       "  Text(8, 0, 'Haryana'),\n",
       "  Text(9, 0, 'Himachal Pradesh'),\n",
       "  Text(10, 0, 'Jammu and Kashmir '),\n",
       "  Text(11, 0, 'Karnataka'),\n",
       "  Text(12, 0, 'Madhya Pradesh'),\n",
       "  Text(13, 0, 'Maharashtra'),\n",
       "  Text(14, 0, 'Mizoram'),\n",
       "  Text(15, 0, 'Nagaland'),\n",
       "  Text(16, 0, 'Odisha'),\n",
       "  Text(17, 0, 'Puducherry'),\n",
       "  Text(18, 0, 'Punjab'),\n",
       "  Text(19, 0, 'Rajasthan'),\n",
       "  Text(20, 0, 'Sikkim'),\n",
       "  Text(21, 0, 'Tamil Nadu'),\n",
       "  Text(22, 0, 'Telangana '),\n",
       "  Text(23, 0, 'Tripura'),\n",
       "  Text(24, 0, 'Uttar Pradesh'),\n",
       "  Text(25, 0, 'Uttarakhand'),\n",
       "  Text(26, 0, 'West Bengal')])"
      ]
     },
     "execution_count": 45,
     "metadata": {},
     "output_type": "execute_result"
    },
    {
     "data": {
      "image/png": "[encoded data removed]",
      "text/plain": [
       "<Figure size 432x288 with 1 Axes>"
      ]
     },
     "metadata": {
      "needs_background": "light"
     },
     "output_type": "display_data"
    }
   ],
   "source": [
    "sns.barplot(x = 'State_Name', y = 'Production', data = coconut_data)\n",
    "plt.xticks(rotation = 90)"
   ]
  },
  {
   "cell_type": "code",
   "execution_count": 46,
   "id": "e2012416",
   "metadata": {},
   "outputs": [
    {
     "data": {
      "text/plain": [
       "(array([ 0,  1,  2,  3,  4,  5,  6,  7,  8,  9, 10, 11, 12, 13, 14, 15, 16,\n",
       "        17, 18]),\n",
       " [Text(0, 0, '1997'),\n",
       "  Text(1, 0, '1998'),\n",
       "  Text(2, 0, '1999'),\n",
       "  Text(3, 0, '2000'),\n",
       "  Text(4, 0, '2001'),\n",
       "  Text(5, 0, '2002'),\n",
       "  Text(6, 0, '2003'),\n",
       "  Text(7, 0, '2004'),\n",
       "  Text(8, 0, '2005'),\n",
       "  Text(9, 0, '2006'),\n",
       "  Text(10, 0, '2007'),\n",
       "  Text(11, 0, '2008'),\n",
       "  Text(12, 0, '2009'),\n",
       "  Text(13, 0, '2010'),\n",
       "  Text(14, 0, '2011'),\n",
       "  Text(15, 0, '2012'),\n",
       "  Text(16, 0, '2013'),\n",
       "  Text(17, 0, '2014'),\n",
       "  Text(18, 0, '2015')])"
      ]
     },
     "execution_count": 46,
     "metadata": {},
     "output_type": "execute_result"
    },
    {
     "data": {
      "image/png": "[encoded data removed]",
      "text/plain": [
       "<Figure size 432x288 with 1 Axes>"
      ]
     },
     "metadata": {
      "needs_background": "light"
     },
     "output_type": "display_data"
    }
   ],
   "source": [
    "sns.barplot(x = 'Crop_Year', y = 'Yield', data = coconut_data)\n",
    "plt.xticks(rotation = 90)"
   ]
  },
  {
   "cell_type": "code",
   "execution_count": 47,
   "id": "ce9bc2f4",
   "metadata": {},
   "outputs": [
    {
     "data": {
      "text/plain": [
       "(array([1995. , 1997.5, 2000. , 2002.5, 2005. , 2007.5, 2010. , 2012.5,\n",
       "        2015. , 2017.5]),\n",
       " [Text(0, 0, ''),\n",
       "  Text(0, 0, ''),\n",
       "  Text(0, 0, ''),\n",
       "  Text(0, 0, ''),\n",
       "  Text(0, 0, ''),\n",
       "  Text(0, 0, ''),\n",
       "  Text(0, 0, ''),\n",
       "  Text(0, 0, ''),\n",
       "  Text(0, 0, ''),\n",
       "  Text(0, 0, '')])"
      ]
     },
     "execution_count": 47,
     "metadata": {},
     "output_type": "execute_result"
    },
    {
     "data": {
      "image/png": "[encoded data removed]",
      "text/plain": [
       "<Figure size 432x288 with 1 Axes>"
      ]
     },
     "metadata": {
      "needs_background": "light"
     },
     "output_type": "display_data"
    }
   ],
   "source": [
    "sns.lineplot(x = 'Crop_Year', y = 'Yield', data = coconut_data)\n",
    "plt.xticks(rotation = 90)"
   ]
  },
  {
   "cell_type": "raw",
   "id": "8a9f98af",
   "metadata": {},
   "source": [
    "Observations obtained :\n",
    "\n",
    "1. Andhra Pradesh is the largest producing cocnut states.\n",
    "2. Production per unit area is higher in Mizoram ans Sikkim.\n",
    "3. Coconut yield is decreasing in the year 2012 to 2015.\n",
    "\n"
   ]
  },
  {
   "cell_type": "code",
   "execution_count": 48,
   "id": "171d010b",
   "metadata": {},
   "outputs": [],
   "source": [
    "# 4) POTATO"
   ]
  },
  {
   "cell_type": "code",
   "execution_count": 49,
   "id": "2e54b31f",
   "metadata": {},
   "outputs": [],
   "source": [
    "potato_data = data[data['Crop'] == 'Potato']"
   ]
  },
  {
   "cell_type": "code",
   "execution_count": 50,
   "id": "12d27cc8",
   "metadata": {},
   "outputs": [
    {
     "data": {
      "text/html": [
       "<div>\n",
       "<style scoped>\n",
       "    .dataframe tbody tr th:only-of-type {\n",
       "        vertical-align: middle;\n",
       "    }\n",
       "\n",
       "    .dataframe tbody tr th {\n",
       "        vertical-align: top;\n",
       "    }\n",
       "\n",
       "    .dataframe thead th {\n",
       "        text-align: right;\n",
       "    }\n",
       "</style>\n",
       "<table border=\"1\" class=\"dataframe\">\n",
       "  <thead>\n",
       "    <tr style=\"text-align: right;\">\n",
       "      <th></th>\n",
       "      <th>State_Name</th>\n",
       "      <th>District_Name</th>\n",
       "      <th>Crop_Year</th>\n",
       "      <th>Season</th>\n",
       "      <th>Crop</th>\n",
       "      <th>Area</th>\n",
       "      <th>Production</th>\n",
       "      <th>Yield</th>\n",
       "    </tr>\n",
       "  </thead>\n",
       "  <tbody>\n",
       "    <tr>\n",
       "      <th>331</th>\n",
       "      <td>Andhra Pradesh</td>\n",
       "      <td>ANANTAPUR</td>\n",
       "      <td>2000</td>\n",
       "      <td>Whole Year</td>\n",
       "      <td>Potato</td>\n",
       "      <td>4.0</td>\n",
       "      <td>34.0</td>\n",
       "      <td>8.500000</td>\n",
       "    </tr>\n",
       "    <tr>\n",
       "      <th>433</th>\n",
       "      <td>Andhra Pradesh</td>\n",
       "      <td>ANANTAPUR</td>\n",
       "      <td>2002</td>\n",
       "      <td>Whole Year</td>\n",
       "      <td>Potato</td>\n",
       "      <td>2.0</td>\n",
       "      <td>17.0</td>\n",
       "      <td>8.500000</td>\n",
       "    </tr>\n",
       "    <tr>\n",
       "      <th>530</th>\n",
       "      <td>Andhra Pradesh</td>\n",
       "      <td>ANANTAPUR</td>\n",
       "      <td>2004</td>\n",
       "      <td>Whole Year</td>\n",
       "      <td>Potato</td>\n",
       "      <td>2.0</td>\n",
       "      <td>20.0</td>\n",
       "      <td>10.000000</td>\n",
       "    </tr>\n",
       "    <tr>\n",
       "      <th>745</th>\n",
       "      <td>Andhra Pradesh</td>\n",
       "      <td>ANANTAPUR</td>\n",
       "      <td>2010</td>\n",
       "      <td>Whole Year</td>\n",
       "      <td>Potato</td>\n",
       "      <td>21.0</td>\n",
       "      <td>236.0</td>\n",
       "      <td>11.238095</td>\n",
       "    </tr>\n",
       "    <tr>\n",
       "      <th>792</th>\n",
       "      <td>Andhra Pradesh</td>\n",
       "      <td>ANANTAPUR</td>\n",
       "      <td>2011</td>\n",
       "      <td>Whole Year</td>\n",
       "      <td>Potato</td>\n",
       "      <td>18.0</td>\n",
       "      <td>181.0</td>\n",
       "      <td>10.055556</td>\n",
       "    </tr>\n",
       "    <tr>\n",
       "      <th>...</th>\n",
       "      <td>...</td>\n",
       "      <td>...</td>\n",
       "      <td>...</td>\n",
       "      <td>...</td>\n",
       "      <td>...</td>\n",
       "      <td>...</td>\n",
       "      <td>...</td>\n",
       "      <td>...</td>\n",
       "    </tr>\n",
       "    <tr>\n",
       "      <th>245945</th>\n",
       "      <td>West Bengal</td>\n",
       "      <td>PURULIA</td>\n",
       "      <td>2010</td>\n",
       "      <td>Rabi</td>\n",
       "      <td>Potato</td>\n",
       "      <td>977.0</td>\n",
       "      <td>15920.0</td>\n",
       "      <td>16.294780</td>\n",
       "    </tr>\n",
       "    <tr>\n",
       "      <th>245976</th>\n",
       "      <td>West Bengal</td>\n",
       "      <td>PURULIA</td>\n",
       "      <td>2011</td>\n",
       "      <td>Rabi</td>\n",
       "      <td>Potato</td>\n",
       "      <td>1077.0</td>\n",
       "      <td>17412.0</td>\n",
       "      <td>16.167131</td>\n",
       "    </tr>\n",
       "    <tr>\n",
       "      <th>246008</th>\n",
       "      <td>West Bengal</td>\n",
       "      <td>PURULIA</td>\n",
       "      <td>2012</td>\n",
       "      <td>Rabi</td>\n",
       "      <td>Potato</td>\n",
       "      <td>913.0</td>\n",
       "      <td>17203.0</td>\n",
       "      <td>18.842278</td>\n",
       "    </tr>\n",
       "    <tr>\n",
       "      <th>246043</th>\n",
       "      <td>West Bengal</td>\n",
       "      <td>PURULIA</td>\n",
       "      <td>2013</td>\n",
       "      <td>Rabi</td>\n",
       "      <td>Potato</td>\n",
       "      <td>1726.0</td>\n",
       "      <td>43703.0</td>\n",
       "      <td>25.320394</td>\n",
       "    </tr>\n",
       "    <tr>\n",
       "      <th>246080</th>\n",
       "      <td>West Bengal</td>\n",
       "      <td>PURULIA</td>\n",
       "      <td>2014</td>\n",
       "      <td>Rabi</td>\n",
       "      <td>Potato</td>\n",
       "      <td>477.0</td>\n",
       "      <td>9995.0</td>\n",
       "      <td>20.953878</td>\n",
       "    </tr>\n",
       "  </tbody>\n",
       "</table>\n",
       "<p>6914 rows × 8 columns</p>\n",
       "</div>"
      ],
      "text/plain": [
       "            State_Name District_Name  Crop_Year       Season    Crop    Area  \\\n",
       "331     Andhra Pradesh     ANANTAPUR       2000  Whole Year   Potato     4.0   \n",
       "433     Andhra Pradesh     ANANTAPUR       2002  Whole Year   Potato     2.0   \n",
       "530     Andhra Pradesh     ANANTAPUR       2004  Whole Year   Potato     2.0   \n",
       "745     Andhra Pradesh     ANANTAPUR       2010  Whole Year   Potato    21.0   \n",
       "792     Andhra Pradesh     ANANTAPUR       2011  Whole Year   Potato    18.0   \n",
       "...                ...           ...        ...          ...     ...     ...   \n",
       "245945     West Bengal       PURULIA       2010  Rabi         Potato   977.0   \n",
       "245976     West Bengal       PURULIA       2011  Rabi         Potato  1077.0   \n",
       "246008     West Bengal       PURULIA       2012  Rabi         Potato   913.0   \n",
       "246043     West Bengal       PURULIA       2013  Rabi         Potato  1726.0   \n",
       "246080     West Bengal       PURULIA       2014  Rabi         Potato   477.0   \n",
       "\n",
       "        Production      Yield  \n",
       "331           34.0   8.500000  \n",
       "433           17.0   8.500000  \n",
       "530           20.0  10.000000  \n",
       "745          236.0  11.238095  \n",
       "792          181.0  10.055556  \n",
       "...            ...        ...  \n",
       "245945     15920.0  16.294780  \n",
       "245976     17412.0  16.167131  \n",
       "246008     17203.0  18.842278  \n",
       "246043     43703.0  25.320394  \n",
       "246080      9995.0  20.953878  \n",
       "\n",
       "[6914 rows x 8 columns]"
      ]
     },
     "execution_count": 50,
     "metadata": {},
     "output_type": "execute_result"
    }
   ],
   "source": [
    "potato_data"
   ]
  },
  {
   "cell_type": "code",
   "execution_count": 51,
   "id": "e9c765ce",
   "metadata": {},
   "outputs": [
    {
     "data": {
      "text/plain": [
       "(array([0, 1, 2, 3, 4, 5]),\n",
       " [Text(0, 0, 'Whole Year '),\n",
       "  Text(1, 0, 'Rabi       '),\n",
       "  Text(2, 0, 'Kharif     '),\n",
       "  Text(3, 0, 'Winter     '),\n",
       "  Text(4, 0, 'Summer     '),\n",
       "  Text(5, 0, 'Autumn     ')])"
      ]
     },
     "execution_count": 51,
     "metadata": {},
     "output_type": "execute_result"
    },
    {
     "data": {
      "image/png": "[encoded data removed]",
      "text/plain": [
       "<Figure size 432x288 with 1 Axes>"
      ]
     },
     "metadata": {
      "needs_background": "light"
     },
     "output_type": "display_data"
    }
   ],
   "source": [
    "sns.barplot(x = 'Season', y = 'Production', data = potato_data)\n",
    "plt.xticks(rotation = 90)"
   ]
  },
  {
   "cell_type": "code",
   "execution_count": 52,
   "id": "3cc63790",
   "metadata": {},
   "outputs": [
    {
     "data": {
      "text/plain": [
       "(array([ 0,  1,  2,  3,  4,  5,  6,  7,  8,  9, 10, 11, 12, 13, 14, 15, 16,\n",
       "        17, 18, 19, 20, 21, 22, 23, 24, 25, 26]),\n",
       " [Text(0, 0, 'Andhra Pradesh'),\n",
       "  Text(1, 0, 'Arunachal Pradesh'),\n",
       "  Text(2, 0, 'Assam'),\n",
       "  Text(3, 0, 'Bihar'),\n",
       "  Text(4, 0, 'Chandigarh'),\n",
       "  Text(5, 0, 'Chhattisgarh'),\n",
       "  Text(6, 0, 'Gujarat'),\n",
       "  Text(7, 0, 'Haryana'),\n",
       "  Text(8, 0, 'Himachal Pradesh'),\n",
       "  Text(9, 0, 'Jammu and Kashmir '),\n",
       "  Text(10, 0, 'Jharkhand'),\n",
       "  Text(11, 0, 'Karnataka'),\n",
       "  Text(12, 0, 'Kerala'),\n",
       "  Text(13, 0, 'Madhya Pradesh'),\n",
       "  Text(14, 0, 'Manipur'),\n",
       "  Text(15, 0, 'Meghalaya'),\n",
       "  Text(16, 0, 'Mizoram'),\n",
       "  Text(17, 0, 'Nagaland'),\n",
       "  Text(18, 0, 'Odisha'),\n",
       "  Text(19, 0, 'Rajasthan'),\n",
       "  Text(20, 0, 'Sikkim'),\n",
       "  Text(21, 0, 'Tamil Nadu'),\n",
       "  Text(22, 0, 'Telangana '),\n",
       "  Text(23, 0, 'Tripura'),\n",
       "  Text(24, 0, 'Uttar Pradesh'),\n",
       "  Text(25, 0, 'Uttarakhand'),\n",
       "  Text(26, 0, 'West Bengal')])"
      ]
     },
     "execution_count": 52,
     "metadata": {},
     "output_type": "execute_result"
    },
    {
     "data": {
      "image/png": "[encoded data removed]",
      "text/plain": [
       "<Figure size 432x288 with 1 Axes>"
      ]
     },
     "metadata": {
      "needs_background": "light"
     },
     "output_type": "display_data"
    }
   ],
   "source": [
    "sns.barplot(x = 'State_Name', y = 'Production', data = potato_data)\n",
    "plt.xticks(rotation = 90)"
   ]
  },
  {
   "cell_type": "code",
   "execution_count": 53,
   "id": "7052166c",
   "metadata": {},
   "outputs": [
    {
     "data": {
      "text/plain": [
       "(array([1995. , 1997.5, 2000. , 2002.5, 2005. , 2007.5, 2010. , 2012.5,\n",
       "        2015. , 2017.5]),\n",
       " [Text(0, 0, ''),\n",
       "  Text(0, 0, ''),\n",
       "  Text(0, 0, ''),\n",
       "  Text(0, 0, ''),\n",
       "  Text(0, 0, ''),\n",
       "  Text(0, 0, ''),\n",
       "  Text(0, 0, ''),\n",
       "  Text(0, 0, ''),\n",
       "  Text(0, 0, ''),\n",
       "  Text(0, 0, '')])"
      ]
     },
     "execution_count": 53,
     "metadata": {},
     "output_type": "execute_result"
    },
    {
     "data": {
      "image/png": "[encoded data removed]",
      "text/plain": [
       "<Figure size 432x288 with 1 Axes>"
      ]
     },
     "metadata": {
      "needs_background": "light"
     },
     "output_type": "display_data"
    }
   ],
   "source": [
    "sns.lineplot(x = 'Crop_Year', y = 'Yield', data = potato_data)\n",
    "plt.xticks(rotation = 90)"
   ]
  },
  {
   "cell_type": "raw",
   "id": "003322ae",
   "metadata": {},
   "source": [
    "Conclusions obtained :\n",
    "\n",
    "1. Potato is a Rabi crop.\n",
    "2. West Bengal is the largest producer of potatoes.\n",
    "\n"
   ]
  },
  {
   "cell_type": "code",
   "execution_count": 54,
   "id": "0360729b",
   "metadata": {},
   "outputs": [],
   "source": [
    "# 5) ONION"
   ]
  },
  {
   "cell_type": "code",
   "execution_count": 55,
   "id": "52cd9760",
   "metadata": {},
   "outputs": [],
   "source": [
    "onion_data = data[data['Crop'] == 'Onion']"
   ]
  },
  {
   "cell_type": "code",
   "execution_count": 56,
   "id": "36cb65bc",
   "metadata": {},
   "outputs": [
    {
     "data": {
      "text/html": [
       "<div>\n",
       "<style scoped>\n",
       "    .dataframe tbody tr th:only-of-type {\n",
       "        vertical-align: middle;\n",
       "    }\n",
       "\n",
       "    .dataframe tbody tr th {\n",
       "        vertical-align: top;\n",
       "    }\n",
       "\n",
       "    .dataframe thead th {\n",
       "        text-align: right;\n",
       "    }\n",
       "</style>\n",
       "<table border=\"1\" class=\"dataframe\">\n",
       "  <thead>\n",
       "    <tr style=\"text-align: right;\">\n",
       "      <th></th>\n",
       "      <th>State_Name</th>\n",
       "      <th>District_Name</th>\n",
       "      <th>Crop_Year</th>\n",
       "      <th>Season</th>\n",
       "      <th>Crop</th>\n",
       "      <th>Area</th>\n",
       "      <th>Production</th>\n",
       "      <th>Yield</th>\n",
       "    </tr>\n",
       "  </thead>\n",
       "  <tbody>\n",
       "    <tr>\n",
       "      <th>286</th>\n",
       "      <td>Andhra Pradesh</td>\n",
       "      <td>ANANTAPUR</td>\n",
       "      <td>1999</td>\n",
       "      <td>Whole Year</td>\n",
       "      <td>Onion</td>\n",
       "      <td>1770.0</td>\n",
       "      <td>32364.0</td>\n",
       "      <td>18.284746</td>\n",
       "    </tr>\n",
       "    <tr>\n",
       "      <th>300</th>\n",
       "      <td>Andhra Pradesh</td>\n",
       "      <td>ANANTAPUR</td>\n",
       "      <td>2000</td>\n",
       "      <td>Kharif</td>\n",
       "      <td>Onion</td>\n",
       "      <td>1103.0</td>\n",
       "      <td>15470.0</td>\n",
       "      <td>14.025385</td>\n",
       "    </tr>\n",
       "    <tr>\n",
       "      <th>320</th>\n",
       "      <td>Andhra Pradesh</td>\n",
       "      <td>ANANTAPUR</td>\n",
       "      <td>2000</td>\n",
       "      <td>Rabi</td>\n",
       "      <td>Onion</td>\n",
       "      <td>482.0</td>\n",
       "      <td>11514.0</td>\n",
       "      <td>23.887967</td>\n",
       "    </tr>\n",
       "    <tr>\n",
       "      <th>348</th>\n",
       "      <td>Andhra Pradesh</td>\n",
       "      <td>ANANTAPUR</td>\n",
       "      <td>2001</td>\n",
       "      <td>Kharif</td>\n",
       "      <td>Onion</td>\n",
       "      <td>1165.0</td>\n",
       "      <td>19232.0</td>\n",
       "      <td>16.508155</td>\n",
       "    </tr>\n",
       "    <tr>\n",
       "      <th>365</th>\n",
       "      <td>Andhra Pradesh</td>\n",
       "      <td>ANANTAPUR</td>\n",
       "      <td>2001</td>\n",
       "      <td>Rabi</td>\n",
       "      <td>Onion</td>\n",
       "      <td>380.0</td>\n",
       "      <td>8465.0</td>\n",
       "      <td>22.276316</td>\n",
       "    </tr>\n",
       "    <tr>\n",
       "      <th>...</th>\n",
       "      <td>...</td>\n",
       "      <td>...</td>\n",
       "      <td>...</td>\n",
       "      <td>...</td>\n",
       "      <td>...</td>\n",
       "      <td>...</td>\n",
       "      <td>...</td>\n",
       "      <td>...</td>\n",
       "    </tr>\n",
       "    <tr>\n",
       "      <th>236375</th>\n",
       "      <td>Uttarakhand</td>\n",
       "      <td>UTTAR KASHI</td>\n",
       "      <td>2010</td>\n",
       "      <td>Whole Year</td>\n",
       "      <td>Onion</td>\n",
       "      <td>47.0</td>\n",
       "      <td>306.0</td>\n",
       "      <td>6.510638</td>\n",
       "    </tr>\n",
       "    <tr>\n",
       "      <th>236398</th>\n",
       "      <td>Uttarakhand</td>\n",
       "      <td>UTTAR KASHI</td>\n",
       "      <td>2011</td>\n",
       "      <td>Whole Year</td>\n",
       "      <td>Onion</td>\n",
       "      <td>8.0</td>\n",
       "      <td>52.0</td>\n",
       "      <td>6.500000</td>\n",
       "    </tr>\n",
       "    <tr>\n",
       "      <th>236420</th>\n",
       "      <td>Uttarakhand</td>\n",
       "      <td>UTTAR KASHI</td>\n",
       "      <td>2012</td>\n",
       "      <td>Whole Year</td>\n",
       "      <td>Onion</td>\n",
       "      <td>23.0</td>\n",
       "      <td>150.0</td>\n",
       "      <td>6.521739</td>\n",
       "    </tr>\n",
       "    <tr>\n",
       "      <th>236443</th>\n",
       "      <td>Uttarakhand</td>\n",
       "      <td>UTTAR KASHI</td>\n",
       "      <td>2013</td>\n",
       "      <td>Whole Year</td>\n",
       "      <td>Onion</td>\n",
       "      <td>32.0</td>\n",
       "      <td>212.0</td>\n",
       "      <td>6.625000</td>\n",
       "    </tr>\n",
       "    <tr>\n",
       "      <th>236473</th>\n",
       "      <td>Uttarakhand</td>\n",
       "      <td>UTTAR KASHI</td>\n",
       "      <td>2014</td>\n",
       "      <td>Whole Year</td>\n",
       "      <td>Onion</td>\n",
       "      <td>26.0</td>\n",
       "      <td>172.0</td>\n",
       "      <td>6.615385</td>\n",
       "    </tr>\n",
       "  </tbody>\n",
       "</table>\n",
       "<p>6984 rows × 8 columns</p>\n",
       "</div>"
      ],
      "text/plain": [
       "            State_Name District_Name  Crop_Year       Season   Crop    Area  \\\n",
       "286     Andhra Pradesh     ANANTAPUR       1999  Whole Year   Onion  1770.0   \n",
       "300     Andhra Pradesh     ANANTAPUR       2000  Kharif       Onion  1103.0   \n",
       "320     Andhra Pradesh     ANANTAPUR       2000  Rabi         Onion   482.0   \n",
       "348     Andhra Pradesh     ANANTAPUR       2001  Kharif       Onion  1165.0   \n",
       "365     Andhra Pradesh     ANANTAPUR       2001  Rabi         Onion   380.0   \n",
       "...                ...           ...        ...          ...    ...     ...   \n",
       "236375     Uttarakhand   UTTAR KASHI       2010  Whole Year   Onion    47.0   \n",
       "236398     Uttarakhand   UTTAR KASHI       2011  Whole Year   Onion     8.0   \n",
       "236420     Uttarakhand   UTTAR KASHI       2012  Whole Year   Onion    23.0   \n",
       "236443     Uttarakhand   UTTAR KASHI       2013  Whole Year   Onion    32.0   \n",
       "236473     Uttarakhand   UTTAR KASHI       2014  Whole Year   Onion    26.0   \n",
       "\n",
       "        Production      Yield  \n",
       "286        32364.0  18.284746  \n",
       "300        15470.0  14.025385  \n",
       "320        11514.0  23.887967  \n",
       "348        19232.0  16.508155  \n",
       "365         8465.0  22.276316  \n",
       "...            ...        ...  \n",
       "236375       306.0   6.510638  \n",
       "236398        52.0   6.500000  \n",
       "236420       150.0   6.521739  \n",
       "236443       212.0   6.625000  \n",
       "236473       172.0   6.615385  \n",
       "\n",
       "[6984 rows x 8 columns]"
      ]
     },
     "execution_count": 56,
     "metadata": {},
     "output_type": "execute_result"
    }
   ],
   "source": [
    "onion_data"
   ]
  },
  {
   "cell_type": "code",
   "execution_count": 57,
   "id": "6b731450",
   "metadata": {},
   "outputs": [
    {
     "data": {
      "text/plain": [
       "<AxesSubplot:xlabel='Season', ylabel='Yield'>"
      ]
     },
     "execution_count": 57,
     "metadata": {},
     "output_type": "execute_result"
    },
    {
     "data": {
      "image/png": "[encoded data removed]",
      "text/plain": [
       "<Figure size 432x288 with 1 Axes>"
      ]
     },
     "metadata": {
      "needs_background": "light"
     },
     "output_type": "display_data"
    }
   ],
   "source": [
    "sns.barplot(x = 'Season', y = 'Yield', data = onion_data)"
   ]
  },
  {
   "cell_type": "code",
   "execution_count": 58,
   "id": "7d500259",
   "metadata": {},
   "outputs": [
    {
     "data": {
      "text/plain": [
       "(array([ 0,  1,  2,  3,  4,  5,  6,  7,  8,  9, 10, 11, 12, 13, 14, 15, 16,\n",
       "        17, 18, 19, 20]),\n",
       " [Text(0, 0, 'Andhra Pradesh'),\n",
       "  Text(1, 0, 'Assam'),\n",
       "  Text(2, 0, 'Bihar'),\n",
       "  Text(3, 0, 'Chandigarh'),\n",
       "  Text(4, 0, 'Chhattisgarh'),\n",
       "  Text(5, 0, 'Gujarat'),\n",
       "  Text(6, 0, 'Haryana'),\n",
       "  Text(7, 0, 'Himachal Pradesh'),\n",
       "  Text(8, 0, 'Jammu and Kashmir '),\n",
       "  Text(9, 0, 'Jharkhand'),\n",
       "  Text(10, 0, 'Karnataka'),\n",
       "  Text(11, 0, 'Madhya Pradesh'),\n",
       "  Text(12, 0, 'Maharashtra'),\n",
       "  Text(13, 0, 'Manipur'),\n",
       "  Text(14, 0, 'Odisha'),\n",
       "  Text(15, 0, 'Puducherry'),\n",
       "  Text(16, 0, 'Rajasthan'),\n",
       "  Text(17, 0, 'Tamil Nadu'),\n",
       "  Text(18, 0, 'Telangana '),\n",
       "  Text(19, 0, 'Uttar Pradesh'),\n",
       "  Text(20, 0, 'Uttarakhand')])"
      ]
     },
     "execution_count": 58,
     "metadata": {},
     "output_type": "execute_result"
    },
    {
     "data": {
      "image/png": "[encoded data removed]",
      "text/plain": [
       "<Figure size 432x288 with 1 Axes>"
      ]
     },
     "metadata": {
      "needs_background": "light"
     },
     "output_type": "display_data"
    }
   ],
   "source": [
    "sns.barplot(x = 'State_Name', y = 'Production', data = onion_data)\n",
    "plt.xticks(rotation = 90)"
   ]
  },
  {
   "cell_type": "code",
   "execution_count": 59,
   "id": "8324b25f",
   "metadata": {},
   "outputs": [
    {
     "data": {
      "text/plain": [
       "(array([1995. , 1997.5, 2000. , 2002.5, 2005. , 2007.5, 2010. , 2012.5,\n",
       "        2015. ]),\n",
       " [Text(0, 0, ''),\n",
       "  Text(0, 0, ''),\n",
       "  Text(0, 0, ''),\n",
       "  Text(0, 0, ''),\n",
       "  Text(0, 0, ''),\n",
       "  Text(0, 0, ''),\n",
       "  Text(0, 0, ''),\n",
       "  Text(0, 0, ''),\n",
       "  Text(0, 0, '')])"
      ]
     },
     "execution_count": 59,
     "metadata": {},
     "output_type": "execute_result"
    },
    {
     "data": {
      "image/png": "[encoded data removed]",
      "text/plain": [
       "<Figure size 432x288 with 1 Axes>"
      ]
     },
     "metadata": {
      "needs_background": "light"
     },
     "output_type": "display_data"
    }
   ],
   "source": [
    "sns.lineplot(x = 'Crop_Year', y = 'Yield', data = onion_data)\n",
    "plt.xticks(rotation = 90)"
   ]
  },
  {
   "cell_type": "raw",
   "id": "da13da79",
   "metadata": {},
   "source": [
    "Observations :\n",
    "\n",
    "1. Onion is a Rabi crop.\n",
    "2. Gujrat and Maharastra are the major onion-producing states.\n"
   ]
  },
  {
   "cell_type": "code",
   "execution_count": 60,
   "id": "7b2fd11d",
   "metadata": {},
   "outputs": [],
   "source": [
    "# 6) MAIZE"
   ]
  },
  {
   "cell_type": "code",
   "execution_count": 61,
   "id": "6e077b18",
   "metadata": {},
   "outputs": [],
   "source": [
    "maize_data = data[data['Crop'] == 'Maize']"
   ]
  },
  {
   "cell_type": "code",
   "execution_count": 62,
   "id": "dd6c61e5",
   "metadata": {},
   "outputs": [
    {
     "data": {
      "text/html": [
       "<div>\n",
       "<style scoped>\n",
       "    .dataframe tbody tr th:only-of-type {\n",
       "        vertical-align: middle;\n",
       "    }\n",
       "\n",
       "    .dataframe tbody tr th {\n",
       "        vertical-align: top;\n",
       "    }\n",
       "\n",
       "    .dataframe thead th {\n",
       "        text-align: right;\n",
       "    }\n",
       "</style>\n",
       "<table border=\"1\" class=\"dataframe\">\n",
       "  <thead>\n",
       "    <tr style=\"text-align: right;\">\n",
       "      <th></th>\n",
       "      <th>State_Name</th>\n",
       "      <th>District_Name</th>\n",
       "      <th>Crop_Year</th>\n",
       "      <th>Season</th>\n",
       "      <th>Crop</th>\n",
       "      <th>Area</th>\n",
       "      <th>Production</th>\n",
       "      <th>Yield</th>\n",
       "    </tr>\n",
       "  </thead>\n",
       "  <tbody>\n",
       "    <tr>\n",
       "      <th>71</th>\n",
       "      <td>Andaman and Nicobar Islands</td>\n",
       "      <td>NICOBARS</td>\n",
       "      <td>2010</td>\n",
       "      <td>Rabi</td>\n",
       "      <td>Maize</td>\n",
       "      <td>3.84</td>\n",
       "      <td>18.22</td>\n",
       "      <td>4.744792</td>\n",
       "    </tr>\n",
       "    <tr>\n",
       "      <th>120</th>\n",
       "      <td>Andaman and Nicobar Islands</td>\n",
       "      <td>NORTH AND MIDDLE ANDAMAN</td>\n",
       "      <td>2010</td>\n",
       "      <td>Rabi</td>\n",
       "      <td>Maize</td>\n",
       "      <td>86.70</td>\n",
       "      <td>96.40</td>\n",
       "      <td>1.111880</td>\n",
       "    </tr>\n",
       "    <tr>\n",
       "      <th>194</th>\n",
       "      <td>Andaman and Nicobar Islands</td>\n",
       "      <td>SOUTH ANDAMANS</td>\n",
       "      <td>2010</td>\n",
       "      <td>Rabi</td>\n",
       "      <td>Maize</td>\n",
       "      <td>73.00</td>\n",
       "      <td>253.00</td>\n",
       "      <td>3.465753</td>\n",
       "    </tr>\n",
       "    <tr>\n",
       "      <th>212</th>\n",
       "      <td>Andhra Pradesh</td>\n",
       "      <td>ANANTAPUR</td>\n",
       "      <td>1997</td>\n",
       "      <td>Kharif</td>\n",
       "      <td>Maize</td>\n",
       "      <td>2800.00</td>\n",
       "      <td>4900.00</td>\n",
       "      <td>1.750000</td>\n",
       "    </tr>\n",
       "    <tr>\n",
       "      <th>226</th>\n",
       "      <td>Andhra Pradesh</td>\n",
       "      <td>ANANTAPUR</td>\n",
       "      <td>1997</td>\n",
       "      <td>Rabi</td>\n",
       "      <td>Maize</td>\n",
       "      <td>600.00</td>\n",
       "      <td>2400.00</td>\n",
       "      <td>4.000000</td>\n",
       "    </tr>\n",
       "    <tr>\n",
       "      <th>...</th>\n",
       "      <td>...</td>\n",
       "      <td>...</td>\n",
       "      <td>...</td>\n",
       "      <td>...</td>\n",
       "      <td>...</td>\n",
       "      <td>...</td>\n",
       "      <td>...</td>\n",
       "      <td>...</td>\n",
       "    </tr>\n",
       "    <tr>\n",
       "      <th>246013</th>\n",
       "      <td>West Bengal</td>\n",
       "      <td>PURULIA</td>\n",
       "      <td>2012</td>\n",
       "      <td>Summer</td>\n",
       "      <td>Maize</td>\n",
       "      <td>290.00</td>\n",
       "      <td>476.00</td>\n",
       "      <td>1.641379</td>\n",
       "    </tr>\n",
       "    <tr>\n",
       "      <th>246020</th>\n",
       "      <td>West Bengal</td>\n",
       "      <td>PURULIA</td>\n",
       "      <td>2013</td>\n",
       "      <td>Autumn</td>\n",
       "      <td>Maize</td>\n",
       "      <td>6189.00</td>\n",
       "      <td>10665.00</td>\n",
       "      <td>1.723219</td>\n",
       "    </tr>\n",
       "    <tr>\n",
       "      <th>246048</th>\n",
       "      <td>West Bengal</td>\n",
       "      <td>PURULIA</td>\n",
       "      <td>2013</td>\n",
       "      <td>Summer</td>\n",
       "      <td>Maize</td>\n",
       "      <td>325.00</td>\n",
       "      <td>522.00</td>\n",
       "      <td>1.606154</td>\n",
       "    </tr>\n",
       "    <tr>\n",
       "      <th>246056</th>\n",
       "      <td>West Bengal</td>\n",
       "      <td>PURULIA</td>\n",
       "      <td>2014</td>\n",
       "      <td>Autumn</td>\n",
       "      <td>Maize</td>\n",
       "      <td>6317.00</td>\n",
       "      <td>13337.00</td>\n",
       "      <td>2.111287</td>\n",
       "    </tr>\n",
       "    <tr>\n",
       "      <th>246085</th>\n",
       "      <td>West Bengal</td>\n",
       "      <td>PURULIA</td>\n",
       "      <td>2014</td>\n",
       "      <td>Summer</td>\n",
       "      <td>Maize</td>\n",
       "      <td>325.00</td>\n",
       "      <td>2039.00</td>\n",
       "      <td>6.273846</td>\n",
       "    </tr>\n",
       "  </tbody>\n",
       "</table>\n",
       "<p>13787 rows × 8 columns</p>\n",
       "</div>"
      ],
      "text/plain": [
       "                         State_Name             District_Name  Crop_Year  \\\n",
       "71      Andaman and Nicobar Islands                  NICOBARS       2010   \n",
       "120     Andaman and Nicobar Islands  NORTH AND MIDDLE ANDAMAN       2010   \n",
       "194     Andaman and Nicobar Islands            SOUTH ANDAMANS       2010   \n",
       "212                  Andhra Pradesh                 ANANTAPUR       1997   \n",
       "226                  Andhra Pradesh                 ANANTAPUR       1997   \n",
       "...                             ...                       ...        ...   \n",
       "246013                  West Bengal                   PURULIA       2012   \n",
       "246020                  West Bengal                   PURULIA       2013   \n",
       "246048                  West Bengal                   PURULIA       2013   \n",
       "246056                  West Bengal                   PURULIA       2014   \n",
       "246085                  West Bengal                   PURULIA       2014   \n",
       "\n",
       "             Season   Crop     Area  Production     Yield  \n",
       "71      Rabi         Maize     3.84       18.22  4.744792  \n",
       "120     Rabi         Maize    86.70       96.40  1.111880  \n",
       "194     Rabi         Maize    73.00      253.00  3.465753  \n",
       "212     Kharif       Maize  2800.00     4900.00  1.750000  \n",
       "226     Rabi         Maize   600.00     2400.00  4.000000  \n",
       "...             ...    ...      ...         ...       ...  \n",
       "246013  Summer       Maize   290.00      476.00  1.641379  \n",
       "246020  Autumn       Maize  6189.00    10665.00  1.723219  \n",
       "246048  Summer       Maize   325.00      522.00  1.606154  \n",
       "246056  Autumn       Maize  6317.00    13337.00  2.111287  \n",
       "246085  Summer       Maize   325.00     2039.00  6.273846  \n",
       "\n",
       "[13787 rows x 8 columns]"
      ]
     },
     "execution_count": 62,
     "metadata": {},
     "output_type": "execute_result"
    }
   ],
   "source": [
    "maize_data"
   ]
  },
  {
   "cell_type": "code",
   "execution_count": 63,
   "id": "a19e0d0d",
   "metadata": {},
   "outputs": [
    {
     "data": {
      "text/plain": [
       "<AxesSubplot:xlabel='Season', ylabel='Yield'>"
      ]
     },
     "execution_count": 63,
     "metadata": {},
     "output_type": "execute_result"
    },
    {
     "data": {
      "image/png": "[encoded data removed]",
      "text/plain": [
       "<Figure size 432x288 with 1 Axes>"
      ]
     },
     "metadata": {
      "needs_background": "light"
     },
     "output_type": "display_data"
    }
   ],
   "source": [
    "sns.barplot(x = 'Season', y = 'Yield', data = maize_data)"
   ]
  },
  {
   "cell_type": "code",
   "execution_count": 64,
   "id": "0723b83b",
   "metadata": {},
   "outputs": [
    {
     "data": {
      "text/plain": [
       "(array([ 0,  1,  2,  3,  4,  5,  6,  7,  8,  9, 10, 11, 12, 13, 14, 15, 16,\n",
       "        17, 18, 19, 20, 21, 22, 23, 24, 25, 26, 27, 28, 29, 30]),\n",
       " [Text(0, 0, 'Andaman and Nicobar Islands'),\n",
       "  Text(1, 0, 'Andhra Pradesh'),\n",
       "  Text(2, 0, 'Arunachal Pradesh'),\n",
       "  Text(3, 0, 'Assam'),\n",
       "  Text(4, 0, 'Bihar'),\n",
       "  Text(5, 0, 'Chandigarh'),\n",
       "  Text(6, 0, 'Chhattisgarh'),\n",
       "  Text(7, 0, 'Dadra and Nagar Haveli'),\n",
       "  Text(8, 0, 'Gujarat'),\n",
       "  Text(9, 0, 'Haryana'),\n",
       "  Text(10, 0, 'Himachal Pradesh'),\n",
       "  Text(11, 0, 'Jammu and Kashmir '),\n",
       "  Text(12, 0, 'Jharkhand'),\n",
       "  Text(13, 0, 'Karnataka'),\n",
       "  Text(14, 0, 'Kerala'),\n",
       "  Text(15, 0, 'Madhya Pradesh'),\n",
       "  Text(16, 0, 'Maharashtra'),\n",
       "  Text(17, 0, 'Manipur'),\n",
       "  Text(18, 0, 'Meghalaya'),\n",
       "  Text(19, 0, 'Mizoram'),\n",
       "  Text(20, 0, 'Nagaland'),\n",
       "  Text(21, 0, 'Odisha'),\n",
       "  Text(22, 0, 'Punjab'),\n",
       "  Text(23, 0, 'Rajasthan'),\n",
       "  Text(24, 0, 'Sikkim'),\n",
       "  Text(25, 0, 'Tamil Nadu'),\n",
       "  Text(26, 0, 'Telangana '),\n",
       "  Text(27, 0, 'Tripura'),\n",
       "  Text(28, 0, 'Uttar Pradesh'),\n",
       "  Text(29, 0, 'Uttarakhand'),\n",
       "  Text(30, 0, 'West Bengal')])"
      ]
     },
     "execution_count": 64,
     "metadata": {},
     "output_type": "execute_result"
    },
    {
     "data": {
      "image/png": "[encoded data removed]",
      "text/plain": [
       "<Figure size 432x288 with 1 Axes>"
      ]
     },
     "metadata": {
      "needs_background": "light"
     },
     "output_type": "display_data"
    }
   ],
   "source": [
    "sns.barplot(x = 'State_Name', y = 'Production', data = maize_data)\n",
    "plt.xticks(rotation = 90)"
   ]
  },
  {
   "cell_type": "code",
   "execution_count": 65,
   "id": "637ff939",
   "metadata": {},
   "outputs": [
    {
     "data": {
      "text/plain": [
       "<AxesSubplot:xlabel='Crop_Year', ylabel='Yield'>"
      ]
     },
     "execution_count": 65,
     "metadata": {},
     "output_type": "execute_result"
    },
    {
     "data": {
      "image/png": "[encoded data removed]",
      "text/plain": [
       "<Figure size 432x288 with 1 Axes>"
      ]
     },
     "metadata": {
      "needs_background": "light"
     },
     "output_type": "display_data"
    }
   ],
   "source": [
    "sns.lineplot(x = 'Crop_Year', y = 'Yield', data = maize_data)"
   ]
  },
  {
   "cell_type": "raw",
   "id": "5b18b15a",
   "metadata": {},
   "source": [
    "Observations Obtained - \n",
    "\n",
    "1. Maize is produced in the autumn season\n",
    "2. Telangana is the major maize-producing states.\n",
    "3. There was a sudden decline in maize production from the year 2000.\n"
   ]
  },
  {
   "cell_type": "code",
   "execution_count": null,
   "id": "571e61ac",
   "metadata": {},
   "outputs": [],
   "source": []
  },
  {
   "cell_type": "code",
   "execution_count": null,
   "id": "6210237a",
   "metadata": {},
   "outputs": [],
   "source": []
  },
  {
   "cell_type": "code",
   "execution_count": null,
   "id": "c827e75b",
   "metadata": {},
   "outputs": [],
   "source": []
  },
  {
   "cell_type": "code",
   "execution_count": null,
   "id": "c33685d0",
   "metadata": {},
   "outputs": [],
   "source": []
  },
  {
   "cell_type": "code",
   "execution_count": null,
   "id": "c1d2b7a3",
   "metadata": {},
   "outputs": [],
   "source": []
  },
  {
   "cell_type": "code",
   "execution_count": null,
   "id": "a51d31b7",
   "metadata": {},
   "outputs": [],
   "source": []
  }
 ],
 "metadata": {
  "kernelspec": {
   "display_name": "Python 3 (ipykernel)",
   "language": "python",
   "name": "python3"
  },
  "language_info": {
   "codemirror_mode": {
    "name": "ipython",
    "version": 3
   },
   "file_extension": ".py",
   "mimetype": "text/x-python",
   "name": "python",
   "nbconvert_exporter": "python",
   "pygments_lexer": "ipython3",
   "version": "3.9.7"
  }
 },
 "nbformat": 4,
 "nbformat_minor": 5
}
